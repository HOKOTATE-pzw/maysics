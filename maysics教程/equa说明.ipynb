{
 "cells": [
  {
   "cell_type": "markdown",
   "metadata": {},
   "source": [
    "# maysics.equa模块使用说明\n",
    "\n",
    "equa模块包含两个函数\n",
    "\n",
    "|名称|作用|\n",
    "|---|---|\n",
    "|linear_e|线性方程组|\n",
    "|ode|常微分方程|\n",
    "\n",
    "equa模块包含一个类\n",
    "\n",
    "|名称|作用|\n",
    "|---|---|\n",
    "|Scatter|离散点方程|"
   ]
  },
  {
   "cell_type": "markdown",
   "metadata": {},
   "source": [
    "<br></br>\n",
    "## 线性方程组：linear_e\n",
    "linear_e(A, b)\n",
    "<br>```A```：二维数组，方程组系数矩阵\n",
    "<br>```b```：二维数组，常数项组成的行（列）矩阵\n",
    "\n",
    "### DEMO 1-1：求解线性方程组$Ax=b$"
   ]
  },
  {
   "cell_type": "code",
   "execution_count": 1,
   "metadata": {},
   "outputs": [
    {
     "data": {
      "text/plain": [
       "array([[-4. ],\n",
       "       [ 4.5]])"
      ]
     },
     "execution_count": 1,
     "metadata": {},
     "output_type": "execute_result"
    }
   ],
   "source": [
    "import maysics as ms\n",
    "\n",
    "A = [[1,2],\n",
    "     [3,4]]\n",
    "b = [[5],\n",
    "     [6]]\n",
    "ms.equa.linear_e(A, b)"
   ]
  },
  {
   "cell_type": "markdown",
   "metadata": {},
   "source": [
    "<br></br>\n",
    "## 常微分方程：ode\n",
    "ode(y, t_span, func, param={}, method='rk4')\n",
    "<br>```y```：一维ndarray，初始解\n",
    "<br>```t_span```：一维数组，需要求解的自变量点集\n",
    "<br>```func```：函数类型，待求解的方程表达式\n",
    "<br>```param```：字典类型，用于传递func中的其他参数，默认为空字典\n",
    "<br>```method```：字符串类型，可选'rk4'和'euler'，'rk4'代表用四阶龙格-库塔法求解，'euler'代表用改进欧拉法求解\n",
    "\n",
    "### DEMO 2-1：求解常微分方程$y^{'}=y$在$t\\in[0, 10)$的数值解，初始条件为$y_{0}=1$"
   ]
  },
  {
   "cell_type": "code",
   "execution_count": 2,
   "metadata": {},
   "outputs": [
    {
     "data": {
      "image/png": "[encoded data removed]",
      "text/plain": [
       "<Figure size 432x288 with 1 Axes>"
      ]
     },
     "metadata": {
      "needs_background": "light"
     },
     "output_type": "display_data"
    }
   ],
   "source": [
    "import maysics as ms\n",
    "import numpy as np\n",
    "from matplotlib import pyplot as plt\n",
    "\n",
    "def func(t, y):\n",
    "    return y\n",
    "\n",
    "y = ms.equa.ode(np.array([1.]), np.linspace(0, 10, 100), func)\n",
    "t = np.linspace(0, 10, 100)\n",
    "plt.plot(t, y[:, 0])\n",
    "plt.show()"
   ]
  },
  {
   "cell_type": "markdown",
   "metadata": {},
   "source": [
    "### DEMO 2-2：求解下列常微分方程组在$t\\in[0, 10)$的数值解，初始条件为$y_{0}=1, x_{0}=1$\n",
    "$$\n",
    "\\left\\{ \n",
    "    \\begin{array}{lc}\n",
    "        x^{'} = y\\\\\n",
    "        y^{'} = x\\\\\n",
    "    \\end{array}\n",
    "\\right.\n",
    "$$"
   ]
  },
  {
   "cell_type": "code",
   "execution_count": 3,
   "metadata": {},
   "outputs": [
    {
     "data": {
      "image/png": "[encoded data removed]",
      "text/plain": [
       "<Figure size 432x288 with 1 Axes>"
      ]
     },
     "metadata": {
      "needs_background": "light"
     },
     "output_type": "display_data"
    }
   ],
   "source": [
    "import maysics as ms\n",
    "import numpy as np\n",
    "from matplotlib import pyplot as plt\n",
    "\n",
    "def func(t, y):\n",
    "    return np.array([y[0], y[1]])\n",
    "\n",
    "y = ms.equa.ode(np.array([1., 1.]), np.linspace(0, 10, 100), func)\n",
    "t = np.linspace(0, 10, 100)\n",
    "plt.plot(t, y[:, 0], label='x')\n",
    "plt.plot(t, y[:, 1], label='y')\n",
    "plt.legend()\n",
    "plt.show()"
   ]
  },
  {
   "cell_type": "markdown",
   "metadata": {},
   "source": [
    "### DEMO 2-3：求解常微分方程$y^{''}=10+y^{'}+y$在$t\\in[0, 10)$的数值解，初始条件为$y_{0}=0, y_{0}^{'}=0$\n",
    "对于二阶方程，需要作变换：$x=y^{'}$，则方程可变换为如下一阶常微分方程组：\n",
    "$$\n",
    "\\left\\{ \n",
    "    \\begin{array}{lc}\n",
    "        x^{'} = 10+x+y\\\\\n",
    "        y^{'} = x\\\\\n",
    "    \\end{array}\n",
    "\\right.\n",
    "$$"
   ]
  },
  {
   "cell_type": "code",
   "execution_count": 4,
   "metadata": {},
   "outputs": [
    {
     "data": {
      "image/png": "[encoded data removed]",
      "text/plain": [
       "<Figure size 432x288 with 1 Axes>"
      ]
     },
     "metadata": {
      "needs_background": "light"
     },
     "output_type": "display_data"
    }
   ],
   "source": [
    "import maysics as ms\n",
    "import numpy as np\n",
    "from matplotlib import pyplot as plt\n",
    "\n",
    "def func(t, y):\n",
    "    return np.array([10 + y[0] + y[1],\n",
    "                     y[0]])\n",
    "\n",
    "y = ms.equa.ode(np.array([0., 0.]), np.linspace(0, 10, 100), func)\n",
    "t = np.linspace(0, 10, 100)\n",
    "plt.plot(t, y[:, 1])\n",
    "plt.show()"
   ]
  },
  {
   "cell_type": "markdown",
   "metadata": {},
   "source": [
    "<br></br>\n",
    "## 散点组成的方程：Scatter\n",
    "Scatter(x, y, acc=0.1, kind='linear',xtol=0.1, ytol=0.1)\n",
    "<br>```x```：一维或二维数组，二维列表表示多组散点\n",
    "<br>```y```：一维或二维数组，二维列表表示多组散点\n",
    "<br>```acc```：浮点数类型，插值精度\n",
    "<br>```kind```：浮点数类型或整型，将插值类型指定为字符串('linear'、'nearest'、'zero'、'slinear'、'squardic'、'previous'、'next'，其中'zero'、'slinear'、'squared'和'cubic'表示零阶、一阶、二阶或三阶样条曲线插值；'previous'和'next'只返回点的上一个或下一个值)或作为一个整数指定要使用的样条曲线插值器的顺序。\n",
    "<br>```xtol```：浮点数类型，横坐标误差\n",
    "<br>```ytol```：浮点数类型，纵坐标误差\n",
    "\n",
    "### Scatter的方法\n",
    "Scatter类下设两个可调用方法```show```、```savefig```\n",
    "<br>show(scatter=False)\n",
    "<br>savefig(filename, scatter=False)\n",
    "<br>```filename```：字符串类型，保存的文件名\n",
    "<br>```scatter```：布尔类型，True表示显示原散点，False表示不显示\n",
    "\n",
    "### 功能说明\n",
    "当散点只有一组时，求与x轴的交点\n",
    "<br>当散点大于一组时，求各组散点的交点\n",
    "\n",
    "### DEMO 3-1：一组散点组成的方程求根并绘图"
   ]
  },
  {
   "cell_type": "code",
   "execution_count": 5,
   "metadata": {},
   "outputs": [
    {
     "name": "stdout",
     "output_type": "stream",
     "text": [
      "方程的根为：[-1.4000000000000128, 1.3999999999999773]\n"
     ]
    },
    {
     "data": {
      "image/png": "[encoded data removed]",
      "text/plain": [
       "<Figure size 432x288 with 1 Axes>"
      ]
     },
     "metadata": {
      "needs_background": "light"
     },
     "output_type": "display_data"
    }
   ],
   "source": [
    "from maysics.equa import Scatter\n",
    "import numpy as np\n",
    "\n",
    "x = np.arange(-5, 5, 0.01)\n",
    "y = x**2 - 2\n",
    "scatter = Scatter(x, y)\n",
    "print('方程的根为：{}'.format(scatter.root))\n",
    "scatter.show()"
   ]
  },
  {
   "cell_type": "markdown",
   "metadata": {},
   "source": [
    "### DEMO 3-2：两组散点组成的方程求根并绘图"
   ]
  },
  {
   "cell_type": "code",
   "execution_count": 6,
   "metadata": {},
   "outputs": [
    {
     "name": "stdout",
     "output_type": "stream",
     "text": [
      "方程的根为：[-1.4000000000000128, 1.3999999999999773]\n"
     ]
    },
    {
     "data": {
      "image/png": "[encoded data removed]",
      "text/plain": [
       "<Figure size 432x288 with 1 Axes>"
      ]
     },
     "metadata": {
      "needs_background": "light"
     },
     "output_type": "display_data"
    }
   ],
   "source": [
    "from maysics.equa import Scatter\n",
    "import numpy as np\n",
    "\n",
    "x1 = np.arange(-5, 5, 0.01)\n",
    "y1 = x1**2 - 2\n",
    "x2 = np.arange(-5, 5, 0.01)\n",
    "y2 = -x2**2 + 2\n",
    "X = [x1, x2]\n",
    "Y = [y1, y2]\n",
    "scatter = Scatter(X, Y)\n",
    "print('方程的根为：{}'.format(scatter.root))\n",
    "scatter.show()"
   ]
  }
 ],
 "metadata": {
  "kernelspec": {
   "display_name": "Python 3 (ipykernel)",
   "language": "python",
   "name": "python3"
  },
  "language_info": {
   "codemirror_mode": {
    "name": "ipython",
    "version": 3
   },
   "file_extension": ".py",
   "mimetype": "text/x-python",
   "name": "python",
   "nbconvert_exporter": "python",
   "pygments_lexer": "ipython3",
   "version": "3.10.4"
  }
 },
 "nbformat": 4,
 "nbformat_minor": 4
}
