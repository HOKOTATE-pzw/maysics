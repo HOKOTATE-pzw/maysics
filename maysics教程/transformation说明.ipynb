{
 "cells": [
  {
   "cell_type": "markdown",
   "metadata": {},
   "source": [
    "# maysics.transformation使用说明\n",
    "\n",
    "transformation模块包含七个函数\n",
    "\n",
    "|名称|作用|\n",
    "|---|---|\n",
    "|lorentz|洛伦兹坐标变换|\n",
    "|lorentz_v|洛伦兹速度变换|\n",
    "|polar|极坐标、柱坐标变换|\n",
    "|ipolar|极坐标、柱坐标逆变换|\n",
    "|sphere|球坐标变换|\n",
    "|isphere|球坐标逆变换|\n",
    "|rotate|直角坐标旋转变换|\n",
    "\n",
    "## 坐标变换\n",
    "所有的函数均支持单独坐标输入和小批量坐标输入\n",
    "<br>单独坐标需以一维数组输入，如(x, y, z)\n",
    "<br>小批量坐标需以二维数组输入，格式举例：[[x1, y1, z1], [x2, y2, z2]]"
   ]
  }
 ],
 "metadata": {
  "kernelspec": {
   "display_name": "Python 3",
   "language": "python",
   "name": "python3"
  },
  "language_info": {
   "codemirror_mode": {
    "name": "ipython",
    "version": 3
   },
   "file_extension": ".py",
   "mimetype": "text/x-python",
   "name": "python",
   "nbconvert_exporter": "python",
   "pygments_lexer": "ipython3",
   "version": "3.8.6"
  }
 },
 "nbformat": 4,
 "nbformat_minor": 4
}
