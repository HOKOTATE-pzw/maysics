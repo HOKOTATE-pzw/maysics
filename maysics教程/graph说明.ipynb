{
 "cells": [
  {
   "cell_type": "markdown",
   "metadata": {},
   "source": [
    "# maysics.graph模块使用说明\n",
    "\n",
    "graph模块包含三个类\n",
    "\n",
    "|名称|作用|\n",
    "|---|---|\n",
    "|Floyd|弗洛伊德算法|\n",
    "|Dijkstra|狄克斯特拉算法|\n",
    "|Markov|马尔科夫链|\n",
    "\n",
    "graph模块包含两个函数\n",
    "\n",
    "|名称|作用|\n",
    "|---|---|\n",
    "|ek|EK算法|\n",
    "|kruskal|克鲁斯卡尔算法|"
   ]
  },
  {
   "cell_type": "markdown",
   "metadata": {},
   "source": [
    "<br></br>\n",
    "## 本说明中使用的图G均为下图"
   ]
  },
  {
   "cell_type": "code",
   "execution_count": 1,
   "metadata": {},
   "outputs": [
    {
     "data": {
      "image/png": "[encoded data removed]",
      "text/plain": [
       "<Figure size 432x288 with 1 Axes>"
      ]
     },
     "metadata": {},
     "output_type": "display_data"
    }
   ],
   "source": [
    "# 这里采用networkx包来对网络图进行绘制\n",
    "import networkx as nx\n",
    "import matplotlib.pyplot as plt\n",
    "\n",
    "\n",
    "G = nx.DiGraph()\n",
    "G.add_nodes_from([0, 1, 2, 3])\n",
    "G.add_edges_from([(0, 1, {'weight':2}), (0, 2, {'weight':1}), (0, 3, {'weight':3}),\n",
    "                  (1, 0, {'weight':2}), (1, 2, {'weight':2}), (1, 3, {'weight':3}),\n",
    "                  (2, 0, {'weight':1}), (2, 1, {'weight':2}), (2, 3, {'weight':4}),\n",
    "                  (3, 0, {'weight':3}), (3, 1, {'weight':3}), (3, 2, {'weight':4})])\n",
    "pos = nx.spring_layout(G, iterations=20)\n",
    "nx.draw(G, with_labels=True)\n",
    "edge_labels = nx.get_edge_attributes(G, 'weight')\n",
    "nx.draw_networkx_edge_labels(G, pos, edge_labels=edge_labels, font_size=15)\n",
    "plt.show()"
   ]
  },
  {
   "cell_type": "markdown",
   "metadata": {},
   "source": [
    "<br></br>\n",
    "## 弗洛伊德算法：Floyd\n",
    "求最短路径\n",
    "\n",
    "<br>Floyd(G)\n",
    "<br>```G```是图的邻接矩阵\n",
    "\n",
    "### DEMO 1-1：求图G各个点到其他点之间的最短距离"
   ]
  },
  {
   "cell_type": "code",
   "execution_count": 2,
   "metadata": {},
   "outputs": [
    {
     "data": {
      "text/plain": [
       "array([[0., 2., 1., 3.],\n",
       "       [2., 0., 2., 3.],\n",
       "       [1., 2., 0., 4.],\n",
       "       [3., 3., 4., 0.]])"
      ]
     },
     "execution_count": 2,
     "metadata": {},
     "output_type": "execute_result"
    }
   ],
   "source": [
    "from maysics.graph import Floyd\n",
    "\n",
    "G = [[0, 2, 1, 3],\n",
    "     [2, 0, 2, 3],\n",
    "     [1, 2, 0, 4],\n",
    "     [3, 3, 4, 0]]\n",
    "\n",
    "floyd = Floyd(G)\n",
    "floyd.A"
   ]
  },
  {
   "cell_type": "markdown",
   "metadata": {},
   "source": [
    "### DEMO 1-2：求图G第0点到第3点之间的最短距离"
   ]
  },
  {
   "cell_type": "code",
   "execution_count": 3,
   "metadata": {},
   "outputs": [
    {
     "data": {
      "text/plain": [
       "(3.0, [0, 3])"
      ]
     },
     "execution_count": 3,
     "metadata": {},
     "output_type": "execute_result"
    }
   ],
   "source": [
    "from maysics.graph import Floyd\n",
    "\n",
    "G = [[0, 2, 1, 3],\n",
    "     [2, 0, 2, 3],\n",
    "     [1, 2, 0, 4],\n",
    "     [3, 3, 4, 0]]\n",
    "\n",
    "floyd = Floyd(G)\n",
    "floyd.path(0, 3)"
   ]
  },
  {
   "cell_type": "markdown",
   "metadata": {},
   "source": [
    "### DEMO 1-3：求图G从第0点出发回到原点的最短有向环"
   ]
  },
  {
   "cell_type": "code",
   "execution_count": 4,
   "metadata": {},
   "outputs": [
    {
     "data": {
      "text/plain": [
       "(2.0, [0, 2, 0])"
      ]
     },
     "execution_count": 4,
     "metadata": {},
     "output_type": "execute_result"
    }
   ],
   "source": [
    "from maysics.graph import Floyd\n",
    "\n",
    "G = [[0, 2, 1, 3],\n",
    "     [2, 0, 2, 3],\n",
    "     [1, 2, 0, 4],\n",
    "     [3, 3, 4, 0]]\n",
    "\n",
    "floyd = Floyd(G)\n",
    "floyd.circle(0)"
   ]
  },
  {
   "cell_type": "markdown",
   "metadata": {},
   "source": [
    "<br></br>\n",
    "## 狄克斯特拉算法：Dijkstra\n",
    "求最短路径\n",
    "\n",
    "<br>Dijkstra(G, ori)\n",
    "<br>```G```是图的邻接矩阵\n",
    "<br>```ori```是起点\n",
    "\n",
    "### DEMO 2-1：求图G第0点到第3点之间的最短距离"
   ]
  },
  {
   "cell_type": "code",
   "execution_count": 5,
   "metadata": {},
   "outputs": [
    {
     "data": {
      "text/plain": [
       "(3.0, [0, 3])"
      ]
     },
     "execution_count": 5,
     "metadata": {},
     "output_type": "execute_result"
    }
   ],
   "source": [
    "from maysics.graph import Dijkstra\n",
    "\n",
    "G = [[0, 2, 1, 3],\n",
    "     [2, 0, 2, 3],\n",
    "     [1, 2, 0, 4],\n",
    "     [3, 3, 4, 0]]\n",
    "\n",
    "dijkstra = Dijkstra(G, 0)\n",
    "dijkstra.path(3)"
   ]
  },
  {
   "cell_type": "markdown",
   "metadata": {},
   "source": [
    "<br></br>\n",
    "## 马尔科夫链：Markov\n",
    "一阶马尔科夫连\n",
    "<br>求解k步转移矩阵和稳态分布矩阵\n",
    "\n",
    "<br>Markov(P)\n",
    "<br>```P```是转移矩阵\n",
    "\n",
    "### DEMO 3-1：求转移矩阵的3步转移矩阵"
   ]
  },
  {
   "cell_type": "code",
   "execution_count": 6,
   "metadata": {},
   "outputs": [
    {
     "data": {
      "text/plain": [
       "array([[0.346802, 0.369601, 0.283597],\n",
       "       [0.34826 , 0.368386, 0.283354],\n",
       "       [0.34745 , 0.369925, 0.282625]])"
      ]
     },
     "execution_count": 6,
     "metadata": {},
     "output_type": "execute_result"
    }
   ],
   "source": [
    "from maysics.graph import Markov\n",
    "\n",
    "P = [[0.38, 0.37, 0.25],\n",
    "     [0.2, 0.46, 0.34],\n",
    "     [0.5, 0.25, 0.25]]\n",
    "\n",
    "markov = Markov(P)\n",
    "markov.k(3)"
   ]
  },
  {
   "cell_type": "markdown",
   "metadata": {},
   "source": [
    "### DEMO 3-2：求转移矩阵的稳态分布矩阵"
   ]
  },
  {
   "cell_type": "code",
   "execution_count": 7,
   "metadata": {},
   "outputs": [
    {
     "data": {
      "text/plain": [
       "array([0.34752389, 0.36924414, 0.28323197])"
      ]
     },
     "execution_count": 7,
     "metadata": {},
     "output_type": "execute_result"
    }
   ],
   "source": [
    "from maysics.graph import Markov\n",
    "\n",
    "P = [[0.38, 0.37, 0.25],\n",
    "     [0.2, 0.46, 0.34],\n",
    "     [0.5, 0.25, 0.25]]\n",
    "\n",
    "markov = Markov(P)\n",
    "markov.w()"
   ]
  },
  {
   "cell_type": "markdown",
   "metadata": {},
   "source": [
    "<br></br>\n",
    "## EK算法：ek\n",
    "求解最大流问题\n",
    "\n",
    "<br>ek(G, ori, des)\n",
    "<br>```G```是邻接矩阵\n",
    "<br>```ori```是起点\n",
    "<br>```des```是终点\n",
    "\n",
    "### DEMO 4-1：求解图G从第0点到第3点的最大流"
   ]
  },
  {
   "cell_type": "code",
   "execution_count": 8,
   "metadata": {},
   "outputs": [
    {
     "data": {
      "text/plain": [
       "6.0"
      ]
     },
     "execution_count": 8,
     "metadata": {},
     "output_type": "execute_result"
    }
   ],
   "source": [
    "from maysics.graph import ek\n",
    "\n",
    "G = [[0, 2, 1, 3],\n",
    "     [2, 0, 2, 3],\n",
    "     [1, 2, 0, 4],\n",
    "     [3, 3, 4, 0]]\n",
    "\n",
    "ek(G, 0, 3)"
   ]
  },
  {
   "cell_type": "markdown",
   "metadata": {},
   "source": [
    "<br></br>\n",
    "## 克鲁斯卡尔算法：kruskal\n",
    "生成最小生成树\n",
    "\n",
    "<br>kruskal(G)\n",
    "<br>```G```是图的邻接矩阵\n",
    "\n",
    "### DEMO 5-1：求解图G的最小生成树"
   ]
  },
  {
   "cell_type": "code",
   "execution_count": 9,
   "metadata": {},
   "outputs": [
    {
     "data": {
      "text/plain": [
       "[[1.0, 2, 0], [2.0, 1, 0], [3.0, 3, 0]]"
      ]
     },
     "execution_count": 9,
     "metadata": {},
     "output_type": "execute_result"
    }
   ],
   "source": [
    "from maysics.graph import kruskal\n",
    "\n",
    "G = [[0, 2, 1, 3],\n",
    "     [2, 0, 2, 3],\n",
    "     [1, 2, 0, 4],\n",
    "     [3, 3, 4, 0]]\n",
    "\n",
    "kruskal(G)"
   ]
  }
 ],
 "metadata": {
  "kernelspec": {
   "display_name": "Python 3",
   "language": "python",
   "name": "python3"
  },
  "language_info": {
   "codemirror_mode": {
    "name": "ipython",
    "version": 3
   },
   "file_extension": ".py",
   "mimetype": "text/x-python",
   "name": "python",
   "nbconvert_exporter": "python",
   "pygments_lexer": "ipython3",
   "version": "3.8.6"
  }
 },
 "nbformat": 4,
 "nbformat_minor": 4
}
