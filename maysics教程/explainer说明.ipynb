{
 "cells": [
  {
   "cell_type": "markdown",
   "metadata": {},
   "source": [
    "# maysics.explainer模块使用说明\n",
    "\n",
    "explainer模块包含一个函数\n",
    "\n",
    "|名称|作用|\n",
    "|---|---|\n",
    "|sense|灵敏度分析|\n",
    "\n",
    "explainer模块包含四个类\n",
    "\n",
    "|名称|作用|\n",
    "|---|---|\n",
    "|Error|误差分析|\n",
    "|Lime|局部代理|\n",
    "|SHAP|SHAP值|\n",
    "|Shapley|Shapley值|\n",
    "\n",
    "## 灵敏度分析：sense\n",
    "对函数$f(r)$，其中$r=(x_{0},x_{1},...,x_{n})$\n",
    "<br>第i个特征在$r_{0}$处的灵敏度：$s(x_{i},r_{0})=\\frac{dy}{dx_{i}}\\frac{x_{i}}{y}$，$r=r_{0}$\n",
    "<br>函数有两个输入参数：```func```、```x0```\n",
    "<br>一个默认参数：```acc=0.1```，表示求导精度\n",
    "\n",
    "### DEMO 1-1：求非批量输入函数$f(x,y)=x^{2}+y^{2}$在$(1,2)$处$x$和$y$的灵敏度"
   ]
  },
  {
   "cell_type": "code",
   "execution_count": 1,
   "metadata": {},
   "outputs": [
    {
     "data": {
      "text/plain": [
       "array([0.38, 1.56])"
      ]
     },
     "execution_count": 1,
     "metadata": {},
     "output_type": "execute_result"
    }
   ],
   "source": [
    "from maysics.explainer import sense\n",
    "\n",
    "def f(x):\n",
    "    return x[0]**2 + x[1]**2\n",
    "\n",
    "sense(f, [1, 2])"
   ]
  },
  {
   "cell_type": "markdown",
   "metadata": {},
   "source": [
    "### DEMO 1-2：求批量输入函数$f(x,y)=x^{2}+y^{2}$在${(1,2),(2,3)}$处$x$和$y$的灵敏度"
   ]
  },
  {
   "cell_type": "code",
   "execution_count": 2,
   "metadata": {},
   "outputs": [
    {
     "data": {
      "text/plain": [
       "array([[0.38      , 1.56      ],\n",
       "       [0.6       , 1.36153846]])"
      ]
     },
     "execution_count": 2,
     "metadata": {},
     "output_type": "execute_result"
    }
   ],
   "source": [
    "from maysics.explainer import sense\n",
    "\n",
    "def f(x):\n",
    "    return x[:, 0]**2 + x[:, 1]**2\n",
    "\n",
    "sense(f, [[1, 2], [2, 3]])"
   ]
  },
  {
   "cell_type": "markdown",
   "metadata": {},
   "source": [
    "<br></br>\n",
    "## 误差分析：Error\n",
    "包含十种误差函数\n",
    "\n",
    "### DEMO 2-1：求数据集和函数$f(x)=2x$之间的各种误差"
   ]
  },
  {
   "cell_type": "code",
   "execution_count": 3,
   "metadata": {},
   "outputs": [
    {
     "name": "stdout",
     "output_type": "stream",
     "text": [
      "绝对值列表： [0.00868099 0.04432612 0.01509648 0.06895523 0.09905623]\n",
      "相对误差列表： [1.         0.0226654  0.00378842 0.01136196 0.01253727]\n",
      "绝对误差从大到小的排序： [(0.09905622876180509, 4), (0.06895522646398078, 3), (0.044326122981241056, 1), (0.015096481850173316, 2), (0.008680988358193087, 0)]\n",
      "相对误差从大到小的排序： [(1.0, 0), (0.022665396057144287, 1), (0.012537265373587327, 4), (0.011361959989966327, 3), (0.0037884184099851296, 2)]\n",
      "平均绝对值误差： 0.047223009683078666\n",
      "平均绝对百分比误差： 0.21007060796613666\n",
      "平均平方误差： 0.0033670056429771474\n",
      "均方根误差： 0.05802590493027358\n",
      "绝对误差和： 0.23611504841539332\n",
      "残差平方和： 0.016835028214885736\n"
     ]
    }
   ],
   "source": [
    "from maysics.explainer import Error\n",
    "import numpy as np\n",
    "\n",
    "def f(x):\n",
    "    return 2 * x\n",
    "\n",
    "np.random.seed(100)\n",
    "data = np.arange(0, 5, 1)\n",
    "target = data * 2 + np.random.rand(data.shape[0]) * 0.2 - 0.1\n",
    "\n",
    "error = Error(f)\n",
    "error.fit(data, target)\n",
    "\n",
    "print('绝对值列表：', error.abs_error)\n",
    "print('相对误差列表：', error.rel_error)\n",
    "print('绝对误差从大到小的排序：', error.abs_sort)\n",
    "print('相对误差从大到小的排序：', error.rel_sort)\n",
    "print('平均绝对值误差：', error.mae)\n",
    "print('平均绝对百分比误差：', error.mape)\n",
    "print('平均平方误差：', error.mse)\n",
    "print('均方根误差：', error.rmse)\n",
    "print('绝对误差和：', error.sae)\n",
    "print('残差平方和：', error.sse)"
   ]
  },
  {
   "cell_type": "markdown",
   "metadata": {},
   "source": [
    "<br></br>\n",
    "## 局部代理：Lime\n",
    "对局部点进行扰动并输入模型得到新的数据集\n",
    "<br>以新数据集为基础，用最小二乘法拟合出新的线性模型$AX+b$用于局部代替黑盒模型\n",
    "<br>利用该线性模型对黑盒模型进行解释\n",
    "<br>预测值$=\\Sigma weight + intercept$\n",
    "### Lime的方法\n",
    "Lime有三个方法：```fit```、```show```和```savefig```\n",
    "<br>```fit```方法用于计算\n",
    "<br>```show```和```savefig```用于绘图，前者显示，后者保存\n",
    "<br>绘图方法仅适用于表格数据\n",
    "\n",
    "### DEMO 3-1：求函数$f(x,y)=x^{2}+y^{2}$在点$(1,0)$附近的各特征指标"
   ]
  },
  {
   "cell_type": "code",
   "execution_count": 4,
   "metadata": {},
   "outputs": [
    {
     "name": "stdout",
     "output_type": "stream",
     "text": [
      "各个特征贡献： [2.01479352 0.        ]\n",
      "线性模型系数： [2.01479352 0.00945   ]\n",
      "线性模型截距： -1.0080730843209873\n"
     ]
    }
   ],
   "source": [
    "from maysics.explainer import Lime\n",
    "import numpy as np\n",
    "\n",
    "# 仅支持小批量输入函数\n",
    "def f(x):\n",
    "    x = np.array(x)\n",
    "    return x[:, 0]**2 + x[:, 1]**2\n",
    "\n",
    "lime = Lime(f)\n",
    "# 默认邻域范围为0.1，新数据大小集为100，\n",
    "lime.fit([1, 0], random_state=100)\n",
    "\n",
    "print('各个特征贡献：', lime.weight)\n",
    "print('线性模型系数：', lime.coef)\n",
    "print('线性模型截距：', lime.intercept)"
   ]
  },
  {
   "cell_type": "markdown",
   "metadata": {},
   "source": [
    "### DEMO 3-2：用函数$f(x,y)=x^{2}+y^{2}$在点$(1,0)$附近的局部代理预测点$(1,0.1)$处的函数值"
   ]
  },
  {
   "cell_type": "code",
   "execution_count": 5,
   "metadata": {},
   "outputs": [
    {
     "name": "stdout",
     "output_type": "stream",
     "text": [
      "原模型： [1.01]\n",
      "线性模型： [1.00766544]\n"
     ]
    }
   ],
   "source": [
    "from maysics.explainer import Lime\n",
    "import numpy as np\n",
    "\n",
    "# 仅支持小批量输入函数\n",
    "def f(x):\n",
    "    x = np.array(x)\n",
    "    return x[:, 0]**2 + x[:, 1]**2\n",
    "\n",
    "lime = Lime(f)\n",
    "# 默认邻域范围为0.1，新数据大小集为100，\n",
    "lime.fit([1, 0], random_state=100)\n",
    "\n",
    "print('原模型：', f([[1, 0.1]]))\n",
    "print('线性模型：', lime.predict([[1, 0.1]]))"
   ]
  },
  {
   "cell_type": "markdown",
   "metadata": {},
   "source": [
    "### DEMO 3-3：绘制函数$f(x,y)=x^{2}+y^{2}$在点$(2,1)$附近的各特征贡献值图"
   ]
  },
  {
   "cell_type": "code",
   "execution_count": 6,
   "metadata": {},
   "outputs": [
    {
     "data": {
      "image/png": "[encoded data removed]",
      "text/plain": [
       "<Figure size 576x72 with 1 Axes>"
      ]
     },
     "metadata": {
      "needs_background": "light"
     },
     "output_type": "display_data"
    }
   ],
   "source": [
    "from maysics.explainer import Lime\n",
    "import numpy as np\n",
    "\n",
    "# 仅支持小批量输入函数\n",
    "def f(x):\n",
    "    x = np.array(x)\n",
    "    return x[:, 0]**2 + x[:, 1]**2\n",
    "\n",
    "lime = Lime(f)\n",
    "# 默认邻域范围为0.1，新数据大小集为100，\n",
    "lime.fit([2, 1], random_state=100)\n",
    "\n",
    "# 保留三位小数\n",
    "lime.show(estimate=3)"
   ]
  },
  {
   "cell_type": "markdown",
   "metadata": {},
   "source": [
    "### DEMO 3-4：绘制分类模型$f_{1}(x,y)=\\frac{1}{1+e^{-x-y}}$，$f_{2}(x,y)=1-f_{1}(x,y)$在点$(-1,2)$附近的各特征贡献值图"
   ]
  },
  {
   "cell_type": "code",
   "execution_count": 7,
   "metadata": {},
   "outputs": [
    {
     "data": {
      "image/png": "[encoded data removed]",
      "text/plain": [
       "<Figure size 576x144 with 1 Axes>"
      ]
     },
     "metadata": {
      "needs_background": "light"
     },
     "output_type": "display_data"
    },
    {
     "data": {
      "image/png": "[encoded data removed]",
      "text/plain": [
       "<Figure size 576x144 with 1 Axes>"
      ]
     },
     "metadata": {
      "needs_background": "light"
     },
     "output_type": "display_data"
    }
   ],
   "source": [
    "from maysics.explainer import Lime\n",
    "import numpy as np\n",
    "\n",
    "def f(x):\n",
    "    x = x[:, 0] + x[:, 1]\n",
    "    x = 1 / (1 + np.e**(-x))\n",
    "    return np.array([x, 1 - x]).T\n",
    "\n",
    "lime = Lime(f)\n",
    "lime.fit([-1, 2], random_state=100)\n",
    "lime.show(estimate=3)"
   ]
  },
  {
   "cell_type": "markdown",
   "metadata": {},
   "source": [
    "show函数和savefig函数仅支持表格数据的回归和分类模型的可视化"
   ]
  },
  {
   "cell_type": "markdown",
   "metadata": {},
   "source": [
    "<br></br>\n",
    "## SHAP值和Shapley值：SHAP和Shapley\n",
    "使用与Lime类似\n",
    "### SHAP和Shapley的方法\n",
    "两个类都有三个方法：```fit```、```show```、```savefig```\n",
    "<br>SHAP类和Shapley类仅适用于表格数据\n",
    "\n",
    "### DEMO 4-1：求函数$f(x,y)=x^{2}+y^{2}$在点$(1,0)$的SHAP值"
   ]
  },
  {
   "cell_type": "code",
   "execution_count": 8,
   "metadata": {},
   "outputs": [
    {
     "data": {
      "text/plain": [
       "array([1., 0.])"
      ]
     },
     "execution_count": 8,
     "metadata": {},
     "output_type": "execute_result"
    }
   ],
   "source": [
    "from maysics.explainer import SHAP\n",
    "import numpy as np\n",
    "\n",
    "# 仅支持小批量输入函数\n",
    "def f(x):\n",
    "    x = np.array(x)\n",
    "    return x[:, 0]**2 + x[:, 1]**2\n",
    "\n",
    "shap = SHAP(f)\n",
    "shap.fit([1, 0])\n",
    "shap.values"
   ]
  },
  {
   "cell_type": "markdown",
   "metadata": {},
   "source": [
    "### DEMO 4-2：绘制函数$f(x,y)=x^{2}+y^{2}$在点$(1,0)$的SHAP值"
   ]
  },
  {
   "cell_type": "code",
   "execution_count": 9,
   "metadata": {},
   "outputs": [
    {
     "data": {
      "image/png": "[encoded data removed]",
      "text/plain": [
       "<Figure size 576x72 with 1 Axes>"
      ]
     },
     "metadata": {
      "needs_background": "light"
     },
     "output_type": "display_data"
    }
   ],
   "source": [
    "from maysics.explainer import SHAP\n",
    "import numpy as np\n",
    "\n",
    "# 仅支持小批量输入函数\n",
    "def f(x):\n",
    "    x = np.array(x)\n",
    "    return x[:, 0]**2 + x[:, 1]**2\n",
    "\n",
    "shap = SHAP(f)\n",
    "shap.fit([1, 0])\n",
    "shap.show()"
   ]
  },
  {
   "cell_type": "markdown",
   "metadata": {},
   "source": [
    "### DEMO 4-3：求函数$f(x,y)=x^{2}+y^{2}$在点集${(1,0),(2,1)}$的Shapley值"
   ]
  },
  {
   "cell_type": "code",
   "execution_count": 10,
   "metadata": {},
   "outputs": [
    {
     "data": {
      "text/plain": [
       "array([2.5, 0.5])"
      ]
     },
     "execution_count": 10,
     "metadata": {},
     "output_type": "execute_result"
    }
   ],
   "source": [
    "from maysics.explainer import Shapley\n",
    "import numpy as np\n",
    "\n",
    "# 仅支持小批量输入函数\n",
    "def f(x):\n",
    "    x = np.array(x)\n",
    "    return x[:, 0]**2 + x[:, 1]**2\n",
    "\n",
    "shapley = Shapley(f)\n",
    "shapley.fit([[1, 0], [2, 1]])\n",
    "shapley.values"
   ]
  },
  {
   "cell_type": "markdown",
   "metadata": {},
   "source": [
    "### DEMO 4-4：绘制函数$f(x,y)=x^{2}+y^{2}$在点集${(1,0),(2,1)}$的Shapley值"
   ]
  },
  {
   "cell_type": "code",
   "execution_count": 11,
   "metadata": {},
   "outputs": [
    {
     "data": {
      "image/png": "[encoded data removed]",
      "text/plain": [
       "<Figure size 576x72 with 1 Axes>"
      ]
     },
     "metadata": {
      "needs_background": "light"
     },
     "output_type": "display_data"
    }
   ],
   "source": [
    "from maysics.explainer import Shapley\n",
    "import numpy as np\n",
    "\n",
    "# 仅支持小批量输入函数\n",
    "def f(x):\n",
    "    x = np.array(x)\n",
    "    return x[:, 0]**2 + x[:, 1]**2\n",
    "\n",
    "shapley = Shapley(f)\n",
    "shapley.fit([[1, 0], [2, 1]])\n",
    "shapley.show()"
   ]
  },
  {
   "cell_type": "markdown",
   "metadata": {},
   "source": [
    "本模块中的以上两种解释方法：SHAP和Shapley，目前只能解释有一个预测值的回归模型"
   ]
  }
 ],
 "metadata": {
  "kernelspec": {
   "display_name": "Python 3",
   "language": "python",
   "name": "python3"
  },
  "language_info": {
   "codemirror_mode": {
    "name": "ipython",
    "version": 3
   },
   "file_extension": ".py",
   "mimetype": "text/x-python",
   "name": "python",
   "nbconvert_exporter": "python",
   "pygments_lexer": "ipython3",
   "version": "3.8.6"
  }
 },
 "nbformat": 4,
 "nbformat_minor": 5
}
