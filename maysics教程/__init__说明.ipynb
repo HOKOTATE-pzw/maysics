{
 "cells": [
  {
   "cell_type": "markdown",
   "metadata": {},
   "source": [
    "# maysics.__init__模块使用说明\n",
    "\n",
    "__init__模块包含七个函数\n",
    "\n",
    "|名称|作用|\n",
    "|---|---|\n",
    "|covs1d|一维卷积和|\n",
    "|covs2d|二维卷积和|\n",
    "|save|保存文件|\n",
    "|load|载入文件|\n",
    "|pic_data|图片转张量|\n",
    "|data_pic|张量转图片|\n",
    "|all_same|判断数组元素全同|\n",
    "\n",
    "__init__模块还直接调用了以下类或函数\n",
    "\n",
    "|名称|作用|来源|\n",
    "|---|---|---|\n",
    "|linear_r|线性回归|models|\n",
    "|preview_file|数据预览|preprocess|\n",
    "|preview|数据预览|preprocess|\n",
    "|shuffle|打乱数据|preprocess|\n",
    "|circle|绘制圆|utils|\n",
    "|discrete|绘制离散函数|utils|\n",
    "|grid_net|生成网格点|utils|\n",
    "\n",
    "具体使用方法查看相应的模块使用说明\n",
    "\n",
    "## 卷积和：covs1d和covs2d\n",
    "实现数组与数组、矩阵与矩阵之间的卷积和\n",
    "<br>对一维：$z[n]=x[n]*y[n]=\\Sigma x[k]y[n-k]$\n",
    "<br>实质是平移→求和的往复过程\n",
    "<br>对二维，则增加了一个平移维度\n",
    "\n",
    "### DEMO 1-1：求两个一维数组之间的卷积和"
   ]
  },
  {
   "cell_type": "code",
   "execution_count": 1,
   "metadata": {},
   "outputs": [
    {
     "data": {
      "text/plain": [
       "3.0"
      ]
     },
     "execution_count": 1,
     "metadata": {},
     "output_type": "execute_result"
    }
   ],
   "source": [
    "import maysics as ms\n",
    "\n",
    "x = [1, 2, 3, 4]\n",
    "y = [1, 1, 1, 1]\n",
    "\n",
    "# 求z[2]\n",
    "ms.covs1d(x, y, 2)"
   ]
  },
  {
   "cell_type": "markdown",
   "metadata": {},
   "source": [
    "### DEMO 1-2：求两个二维数组之间的卷积和"
   ]
  },
  {
   "cell_type": "code",
   "execution_count": 2,
   "metadata": {},
   "outputs": [
    {
     "data": {
      "text/plain": [
       "4.0"
      ]
     },
     "execution_count": 2,
     "metadata": {},
     "output_type": "execute_result"
    }
   ],
   "source": [
    "import maysics as ms\n",
    "\n",
    "x = [[1, 2],\n",
    "     [3, 4]]\n",
    "y = [[1, 1],\n",
    "     [1, 1]]\n",
    "\n",
    "# 求z[2, 1]\n",
    "ms.covs2d(x, y, 2, 1)"
   ]
  },
  {
   "cell_type": "markdown",
   "metadata": {},
   "source": [
    "<br></br>\n",
    "## 保存和载入文件：save和load\n",
    "可操作的文件对象包括：pkl文件、npy文件、csv文件\n",
    "\n",
    "### save函数\n",
    "save函数有两个输入参数：```filename```、```data```\n",
    "<br>有一个默认参数：```header=None```\n",
    "<br>filename是保存的文件名，data是需要保存的数据\n",
    "<br>header仅在操作csv文件时有效果，是表格数组每一列的名称列表\n",
    "\n",
    "### load函数\n",
    "load函数有一个输入参数：```filename```\n",
    "<br>一个默认参数：```header=True```\n",
    "<br>filename是载入文件的名称\n",
    "<br>header仅在操作csv文件时有效果，True表示载入数据时删除第一行\n",
    "\n",
    "<br></br>\n",
    "## 图片和张量之间的转换：pic_data和data_pic\n",
    "图片数据和ndarray之间的相互转换\n",
    "\n",
    "### pic_data函数\n",
    "pic_data函数有一个输入参数：```filename```\n",
    "<br>一个默认参数：```dtype=np.uint8```\n",
    "<br>filename是载入的图片文件名称\n",
    "<br>dtype是转换成ndarray时的数据格式\n",
    "\n",
    "### data_pic函数\n",
    "data_pic函数有两个输入参数：```data```、```filename```\n",
    "<br>data是需要转换的数据\n",
    "<br>filename是保存为图片时的文件名称\n",
    "\n",
    "<br></br>\n",
    "## 判断数组元素是否全部相同：all_same\n",
    "\n",
    "### DEMO 2-1：判断一维数组a的元素是否全部相同"
   ]
  },
  {
   "cell_type": "code",
   "execution_count": 3,
   "metadata": {},
   "outputs": [
    {
     "data": {
      "text/plain": [
       "False"
      ]
     },
     "execution_count": 3,
     "metadata": {},
     "output_type": "execute_result"
    }
   ],
   "source": [
    "import maysics as ms\n",
    "\n",
    "a = [1, 2, 2, 3, 4]\n",
    "ms.all_same(a)"
   ]
  },
  {
   "cell_type": "markdown",
   "metadata": {},
   "source": [
    "### DEMO 2-2：判断二维数组A的元素是否全部相同"
   ]
  },
  {
   "cell_type": "code",
   "execution_count": 4,
   "metadata": {},
   "outputs": [
    {
     "data": {
      "text/plain": [
       "True"
      ]
     },
     "execution_count": 4,
     "metadata": {},
     "output_type": "execute_result"
    }
   ],
   "source": [
    "import maysics as ms\n",
    "\n",
    "A = [[2, 2],\n",
    "     [2, 2]]\n",
    "ms.all_same(A)"
   ]
  }
 ],
 "metadata": {
  "kernelspec": {
   "display_name": "Python 3",
   "language": "python",
   "name": "python3"
  },
  "language_info": {
   "codemirror_mode": {
    "name": "ipython",
    "version": 3
   },
   "file_extension": ".py",
   "mimetype": "text/x-python",
   "name": "python",
   "nbconvert_exporter": "python",
   "pygments_lexer": "ipython3",
   "version": "3.8.6"
  }
 },
 "nbformat": 4,
 "nbformat_minor": 4
}
