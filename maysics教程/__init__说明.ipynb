{
 "cells": [
  {
   "cell_type": "markdown",
   "metadata": {},
   "source": [
    "# maysics.__init__模块使用说明\n",
    "\n",
    "__init__模块包含五个函数\n",
    "\n",
    "|名称|作用|\n",
    "|---|---|\n",
    "|covs1d|一维卷积和|\n",
    "|covs2d|二维卷积和|\n",
    "|save|保存文件|\n",
    "|load|载入文件|\n",
    "|all_same|判断数组元素全同|\n",
    "\n",
    "__init__模块还直接调用了以下类或函数\n",
    "\n",
    "|名称|作用|来源|\n",
    "|---|---|---|\n",
    "|linear_r|线性回归|models|\n",
    "|preview_file|数据预览|preprocess|\n",
    "|preview|数据预览|preprocess|\n",
    "|shuffle|打乱数据|preprocess|\n",
    "|circle|绘制圆|utils|\n",
    "|discrete|绘制离散函数|utils|\n",
    "|grid_net|生成网格点|utils|\n",
    "\n",
    "具体使用方法查看相应的模块使用说明\n",
    "\n",
    "## 卷积和：covs1d和covs2d\n",
    "实现数组与数组、矩阵与矩阵之间的卷积和\n",
    "<br>对一维：$z[n]=x[n]*y[n]=\\Sigma x[k]y[n-k]$\n",
    "<br>实质是平移→求和的往复过程\n",
    "<br>对二维，则增加了一个平移维度\n",
    "\n",
    "### DEMO 1-1：求两个一维数组之间的卷积和"
   ]
  },
  {
   "cell_type": "code",
   "execution_count": 1,
   "metadata": {},
   "outputs": [
    {
     "data": {
      "text/plain": [
       "3.0"
      ]
     },
     "execution_count": 1,
     "metadata": {},
     "output_type": "execute_result"
    }
   ],
   "source": [
    "import maysics as ms\n",
    "\n",
    "x = [1, 2, 3, 4]\n",
    "y = [1, 1, 1, 1]\n",
    "\n",
    "# 求z[2]\n",
    "ms.covs1d(x, y, 2)"
   ]
  },
  {
   "cell_type": "markdown",
   "metadata": {},
   "source": [
    "### DEMO 1-2：求两个二维数组之间的卷积和"
   ]
  },
  {
   "cell_type": "code",
   "execution_count": 2,
   "metadata": {},
   "outputs": [
    {
     "data": {
      "text/plain": [
       "4.0"
      ]
     },
     "execution_count": 2,
     "metadata": {},
     "output_type": "execute_result"
    }
   ],
   "source": [
    "import maysics as ms\n",
    "\n",
    "x = [[1, 2],\n",
    "     [3, 4]]\n",
    "y = [[1, 1],\n",
    "     [1, 1]]\n",
    "\n",
    "# 求z[2, 1]\n",
    "ms.covs2d(x, y, 2, 1)"
   ]
  },
  {
   "cell_type": "markdown",
   "metadata": {},
   "source": [
    "<br></br>\n",
    "## 保存和载入文件：save和load\n",
    "可操作的文件对象包括：pkl文件、npy文件、csv文件\n",
    "\n",
    "### save函数\n",
    "save(filename, data, header=None)\n",
    "<br>```filename```是保存的文件名\n",
    "<br>```data```是需要保存的数据\n",
    "<br>```header```仅在操作csv文件时有效果，是表格数组每一列的名称列表\n",
    "\n",
    "### load函数\n",
    "load(filename, header=True)\n",
    "<br>```filename```是载入文件的名称\n",
    "<br>```header```仅在操作csv文件时有效果，True表示载入数据时删除第一行\n",
    "\n",
    "<br></br>\n",
    "## 判断数组元素是否全部相同：all_same\n",
    "\n",
    "### DEMO 2-1：判断一维数组a的元素是否全部相同"
   ]
  },
  {
   "cell_type": "code",
   "execution_count": 3,
   "metadata": {},
   "outputs": [
    {
     "data": {
      "text/plain": [
       "False"
      ]
     },
     "execution_count": 3,
     "metadata": {},
     "output_type": "execute_result"
    }
   ],
   "source": [
    "import maysics as ms\n",
    "\n",
    "a = [1, 2, 2, 3, 4]\n",
    "ms.all_same(a)"
   ]
  },
  {
   "cell_type": "markdown",
   "metadata": {},
   "source": [
    "### DEMO 2-2：判断二维数组A的元素是否全部相同"
   ]
  },
  {
   "cell_type": "code",
   "execution_count": 4,
   "metadata": {},
   "outputs": [
    {
     "data": {
      "text/plain": [
       "True"
      ]
     },
     "execution_count": 4,
     "metadata": {},
     "output_type": "execute_result"
    }
   ],
   "source": [
    "import maysics as ms\n",
    "\n",
    "A = [[2, 2],\n",
    "     [2, 2]]\n",
    "ms.all_same(A)"
   ]
  }
 ],
 "metadata": {
  "kernelspec": {
   "display_name": "Python 3",
   "language": "python",
   "name": "python3"
  },
  "language_info": {
   "codemirror_mode": {
    "name": "ipython",
    "version": 3
   },
   "file_extension": ".py",
   "mimetype": "text/x-python",
   "name": "python",
   "nbconvert_exporter": "python",
   "pygments_lexer": "ipython3",
   "version": "3.8.6"
  }
 },
 "nbformat": 4,
 "nbformat_minor": 4
}
