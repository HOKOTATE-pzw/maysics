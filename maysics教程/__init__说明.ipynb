{
 "cells": [
  {
   "cell_type": "markdown",
   "metadata": {},
   "source": [
    "# maysics.__init__模块使用说明\n",
    "\n",
    "__init__模块包含以下常数\n",
    "\n",
    "|名称|意义|\n",
    "|---|---|\n",
    "|chaos_1|第一费根鲍姆常数|\n",
    "|chaos_2|第二费根鲍姆常数|\n",
    "|e|自然常数|\n",
    "|gamma|欧拉-马歇罗尼常数|\n",
    "|golden|黄金比例|\n",
    "|K|兰道-拉马努金常数|\n",
    "|K0|辛钦常数|\n",
    "|pi|圆周率|\n",
    "|AU|天文单位|\n",
    "|atm|标准大气压|\n",
    "|c|真空光速|\n",
    "|c_e|元电荷|\n",
    "|epsilon|真空介电常数|\n",
    "|g|重力加速度|\n",
    "|G|万有引力常数|\n",
    "|h|普朗克常数|\n",
    "|hr|约化普朗克常数|\n",
    "|k|玻尔兹曼常数|\n",
    "|lambdac|康普顿波长|\n",
    "|ly|光年|\n",
    "|m_e|电子质量|\n",
    "|m_earth|地球质量|\n",
    "|m_n|中子质量|\n",
    "|m_p|质子质量|\n",
    "|m_s|太阳质量|\n",
    "|miu|真空磁导率|\n",
    "|NA|阿伏伽德罗常数|\n",
    "|pc|秒差距|\n",
    "|Platonic_year|柏拉图年|\n",
    "|R|理想气体常数|\n",
    "|r_earth|地球平均半径|\n",
    "|r_sun|太阳平均半径|\n",
    "|r_e_m|地月平均距离|\n",
    "|SB|斯特藩-玻尔兹曼常量|\n",
    "|v1|第一宇宙速度|\n",
    "|v2|第二宇宙速度|\n",
    "|v3|第三宇宙速度|\n",
    "\n",
    "__init__模块包含十四个函数\n",
    "\n",
    "|名称|作用|\n",
    "|---|---|\n",
    "|all_same|判断数组元素全同|\n",
    "|choice|抽取元素|\n",
    "|covs1d|一维卷积和|\n",
    "|covs2d|二维卷积和|\n",
    "|load|载入文件|\n",
    "|save|保存文件|\n",
    "|lag|（连带）拉盖尔多项式|\n",
    "|lp|勒让德多项式|\n",
    "|lpn|勒让德多项式的模|\n",
    "|alp|连带勒让德多项式|\n",
    "|alpn|连带勒让德多项式的模|\n",
    "|hp|厄米多项式|\n",
    "|v_mean|麦克斯韦速率分布律下的平均速率|\n",
    "|v_p|麦克斯韦速率分布律下的最概然速率|\n",
    "|v_rms|麦克斯韦速率分布律下的均方根速率|\n",
    "\n",
    "__init__模块还直接调用了以下类或函数\n",
    "\n",
    "|名称|作用|来源|\n",
    "|---|---|---|\n",
    "|linear_r|线性回归|models|\n",
    "|minmax|数据归一化|preprocess|\n",
    "|normalizer|使数据模为1|preprocess|\n",
    "|preview_file|数据预览|preprocess|\n",
    "|preview|数据预览|preprocess|\n",
    "|shuffle|打乱数据|preprocess|\n",
    "|standard|数据标准化|preprocess|\n",
    "|circle|绘制圆|utils|\n",
    "|discrete|绘制离散函数|utils|\n",
    "|grid_net|生成网格点|utils|\n",
    "|hermit|厄米共轭|utils|\n",
    "|mat_exp|矩阵的exp运算|utils|\n",
    "\n",
    "具体使用方法查看相应的模块使用说明"
   ]
  },
  {
   "cell_type": "markdown",
   "metadata": {},
   "source": [
    "<br></br>\n",
    "## 判断数组元素是否全部相同：all_same\n",
    "all_same(x)\n",
    "<br>```x```：数组\n",
    "\n",
    "### DEMO 1-1：判断一维数组a的元素是否全部相同"
   ]
  },
  {
   "cell_type": "code",
   "execution_count": 1,
   "metadata": {},
   "outputs": [
    {
     "data": {
      "text/plain": [
       "False"
      ]
     },
     "execution_count": 1,
     "metadata": {},
     "output_type": "execute_result"
    }
   ],
   "source": [
    "import maysics as ms\n",
    "\n",
    "a = [1, 2, 2, 3, 4]\n",
    "ms.all_same(a)"
   ]
  },
  {
   "cell_type": "markdown",
   "metadata": {},
   "source": [
    "### DEMO 1-2：判断二维数组A的元素是否全部相同"
   ]
  },
  {
   "cell_type": "code",
   "execution_count": 2,
   "metadata": {},
   "outputs": [
    {
     "data": {
      "text/plain": [
       "True"
      ]
     },
     "execution_count": 2,
     "metadata": {},
     "output_type": "execute_result"
    }
   ],
   "source": [
    "import maysics as ms\n",
    "\n",
    "A = [[2, 2],\n",
    "     [2, 2]]\n",
    "ms.all_same(A)"
   ]
  },
  {
   "cell_type": "markdown",
   "metadata": {},
   "source": [
    "<br></br>\n",
    "## 抽取元素：choice\n",
    "choice(seq, pro=None, random_state=None)\n",
    "<br>```seq```：一维列表，待抽取的元素\n",
    "<br>```pro```：一维数组，抽取相应元素的概率，默认概率全部相等\n",
    "<br>```random_state```：整型，随机种子\n",
    "\n",
    "### DEMO 2-1：按如下情况抽取列表元素"
   ]
  },
  {
   "cell_type": "code",
   "execution_count": 3,
   "metadata": {},
   "outputs": [
    {
     "data": {
      "text/plain": [
       "'tiger'"
      ]
     },
     "execution_count": 3,
     "metadata": {},
     "output_type": "execute_result"
    }
   ],
   "source": [
    "import maysics as ms\n",
    "\n",
    "# 待抽取元素为panda、tiger、fish、lion\n",
    "# 相应抽取概率分别为0.1、0.2、0.3、0.4\n",
    "ms.choice(['panda', 'tiger', 'fish', 'lion'], [0.1, 0.2, 0.3, 0.4], random_state=100)"
   ]
  },
  {
   "cell_type": "markdown",
   "metadata": {},
   "source": [
    "<br></br>\n",
    "## 卷积和：covs1d和covs2d\n",
    "covs1d(a, b, n)\n",
    "<br>```a```：一维数组\n",
    "<br>```b```：一维数组\n",
    "<br>```n```：整型，平移步数\n",
    "\n",
    "covs2d(a, b, n, m)\n",
    "<br>```a```：二维数组\n",
    "<br>```b```：二维数组\n",
    "<br>```n```：整型，沿axis=0方向的平移步数\n",
    "<br>```m```：整型，沿axis=1方向的平移步数\n",
    "\n",
    "### 功能说明\n",
    "实现数组与数组、矩阵与矩阵之间的卷积和\n",
    "<br>对一维：$z[n]=x[n]*y[n]=\\Sigma x[k]y[n-k]$\n",
    "<br>实质是平移→求和的往复过程\n",
    "<br>对二维，则增加了一个平移维度\n",
    "\n",
    "### DEMO 3-1：求两个一维数组之间的卷积和"
   ]
  },
  {
   "cell_type": "code",
   "execution_count": 4,
   "metadata": {},
   "outputs": [
    {
     "data": {
      "text/plain": [
       "3.0"
      ]
     },
     "execution_count": 4,
     "metadata": {},
     "output_type": "execute_result"
    }
   ],
   "source": [
    "import maysics as ms\n",
    "\n",
    "x = [1, 2, 3, 4]\n",
    "y = [1, 1, 1, 1]\n",
    "\n",
    "# 求z[2]\n",
    "ms.covs1d(x, y, 2)"
   ]
  },
  {
   "cell_type": "markdown",
   "metadata": {},
   "source": [
    "### DEMO 3-2：求两个二维数组之间的卷积和"
   ]
  },
  {
   "cell_type": "code",
   "execution_count": 5,
   "metadata": {},
   "outputs": [
    {
     "data": {
      "text/plain": [
       "4.0"
      ]
     },
     "execution_count": 5,
     "metadata": {},
     "output_type": "execute_result"
    }
   ],
   "source": [
    "import maysics as ms\n",
    "\n",
    "x = [[1, 2],\n",
    "     [3, 4]]\n",
    "y = [[1, 1],\n",
    "     [1, 1]]\n",
    "\n",
    "# 求z[2, 1]\n",
    "ms.covs2d(x, y, 2, 1)"
   ]
  },
  {
   "cell_type": "markdown",
   "metadata": {},
   "source": [
    "<br></br>\n",
    "## 保存和载入文件：load和save\n",
    "load(filename, header=True, pic=False, dtype='uint8')\n",
    "<br>```filename```：字符串类型，文件名\n",
    "<br>```header```：布尔类型，仅在操作csv文件时有效果，True表示载入数据时删除第一行标题\n",
    "<br>```pic```：布尔类型，True表示载入图片\n",
    "<br>```dtype```：仅在操作图片时有效果，表示输出图像数据类型\n",
    "\n",
    "save(filename, data, header=None, rate=None, pic=False)\n",
    "<br>```filename```：字符串类型，文件名\n",
    "<br>```data```：需要保存的数据\n",
    "<br>```header```：一维列表类型，仅在操作csv文件时有效果，是表格数组每一列的名称列表\n",
    "<br>```rate```：整型，采样率（样本/秒），仅在写入wav文件时有效\n",
    "<br>```pic```：布尔类型，True表示保存数据为图片\n",
    "\n",
    "### 功能说明\n",
    "可操作的文件对象包括：pkl文件、npy文件、csv文件、mtx文件、wav文件和图片"
   ]
  }
 ],
 "metadata": {
  "kernelspec": {
   "display_name": "Python 3 (ipykernel)",
   "language": "python",
   "name": "python3"
  },
  "language_info": {
   "codemirror_mode": {
    "name": "ipython",
    "version": 3
   },
   "file_extension": ".py",
   "mimetype": "text/x-python",
   "name": "python",
   "nbconvert_exporter": "python",
   "pygments_lexer": "ipython3",
   "version": "3.10.4"
  }
 },
 "nbformat": 4,
 "nbformat_minor": 4
}
