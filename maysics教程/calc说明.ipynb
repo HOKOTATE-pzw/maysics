{
 "cells": [
  {
   "cell_type": "markdown",
   "metadata": {},
   "source": [
    "# maysics.calc模块使用说明\n",
    "\n",
    "calc模块包含十个函数\n",
    "\n",
    "|名称|作用|\n",
    "|---|---|\n",
    "|lim|极限|\n",
    "|ha|哈密顿算符|\n",
    "|grad|梯度|\n",
    "|nebla_dot|nebla算子点乘|\n",
    "|nebla_cross|nebla算子叉乘|\n",
    "|laplace|拉普拉斯算子|\n",
    "|rect|矩形函数|\n",
    "|sigmoid|S型函数|\n",
    "|step|阶跃函数|\n",
    "|inte|积分|"
   ]
  },
  {
   "cell_type": "markdown",
   "metadata": {},
   "source": [
    "<br></br>\n",
    "## 求极限：lim\n",
    "lim(f, x0, acc=0.01, method='both', param={})\n",
    "<br>```f```：函数类型，求极限的函数\n",
    "<br>```x0```：浮点数类型，取极限的点\n",
    "<br>```method```：字符串类型，可选'both'、'+'、'-'，分别表示双边极限、右极限、左极限\n",
    "<br>```param```：当f函数有其他非默认参数时，需输入以参数名为键，参数值为值的字典\n",
    "\n",
    "### 功能说明\n",
    "求函数f在acc的误差下，$x\\rightarrow x_{0}$的函数值\n",
    "\n",
    "### DEMO 1-1：求函数$y=\\frac{sin(x)}{x}$中$x\\rightarrow0$时的值"
   ]
  },
  {
   "cell_type": "code",
   "execution_count": 1,
   "metadata": {},
   "outputs": [
    {
     "data": {
      "text/plain": [
       "0.9999833334166665"
      ]
     },
     "execution_count": 1,
     "metadata": {},
     "output_type": "execute_result"
    }
   ],
   "source": [
    "import maysics as ms\n",
    "import numpy as np\n",
    "\n",
    "def f(x):\n",
    "    return np.sin(x) / x\n",
    "\n",
    "ms.calc.lim(f, 0)"
   ]
  },
  {
   "cell_type": "markdown",
   "metadata": {},
   "source": [
    "<br></br>\n",
    "## 哈密顿算符：ha\n",
    "<br>ha(f, m, u, acc=0.1, param={}, args={})\n",
    "<br>```f```：函数类型，函数，函数需要以数组作为输入（不能是数）\n",
    "<br>```m```：数类型，粒子质量\n",
    "<br>```u```：数或函数，势能\n",
    "<br>```param```：字典类型，当f函数有其他非默认参数时，需输入以参数名为键，参数值为值的字典\n",
    "<br>```args```：字典类型，当u为函数时有效，当u函数有其他非默认参数时，需输入以参数名为键，参数值为值的字典\n",
    "\n",
    "### 功能说明\n",
    "哈密顿算符：$\\hat{H}=-\\frac{\\hbar^{2}{\\nabla^{2}}}{2m}+U$\n",
    "<br>求函数f在acc误差下，粒子质量为m，势能为u时，通过哈密顿算符生成的新函数\n",
    "\n",
    "### DEMO 2-1：求函数$y=x$通过哈密顿算符生成的新函数"
   ]
  },
  {
   "cell_type": "code",
   "execution_count": 2,
   "metadata": {},
   "outputs": [
    {
     "data": {
      "text/plain": [
       "array([2., 4., 6.])"
      ]
     },
     "execution_count": 2,
     "metadata": {},
     "output_type": "execute_result"
    }
   ],
   "source": [
    "import maysics as ms\n",
    "\n",
    "def f(x):\n",
    "    return x\n",
    "\n",
    "# m=1, u=2\n",
    "f_new = ms.calc.ha(f, 1, 2)\n",
    "\n",
    "# 输出x=(1, 2, 3)时的函数值\n",
    "f_new([1, 2, 3])"
   ]
  },
  {
   "cell_type": "markdown",
   "metadata": {},
   "source": [
    "<br></br>\n",
    "## 梯度：grad\n",
    "grad(f, x, acc=0.1, param={})\n",
    "<br>```f```：函数类型，要求函数f返回一个数值\n",
    "<br>```x```：数或数组，函数的输入值，不支持批量输入\n",
    "<br>```acc```：浮点数类型，可选，求导的精度\n",
    "<br>```param```：当f函数有其他非默认参数时，需输入以参数名为键，参数值为值的字典\n",
    "\n",
    "### 功能说明\n",
    "在acc误差下计算函数f在x处的梯度\n",
    "\n",
    "### DEMO 3-1：求函数$y=x^{2}+y^{2}$在点$(3, 3)$处的梯度"
   ]
  },
  {
   "cell_type": "code",
   "execution_count": 3,
   "metadata": {},
   "outputs": [
    {
     "data": {
      "text/plain": [
       "array([6., 6.])"
      ]
     },
     "execution_count": 3,
     "metadata": {},
     "output_type": "execute_result"
    }
   ],
   "source": [
    "import maysics as ms\n",
    "\n",
    "def f(x):\n",
    "    return x[0]**2 + x[1]**2\n",
    "\n",
    "ms.calc.grad(f, [3, 3])"
   ]
  },
  {
   "cell_type": "markdown",
   "metadata": {},
   "source": [
    "<br></br>\n",
    "## nebla算子：nebla_dot和nebla_cross\n",
    "nebla_dot(f, x, acc=0.1, param={})\n",
    "<br>```f```：函数类型，要求函数f返回一个列表\n",
    "<br>```x```：数或数组，函数的输入值，不支持批量输入\n",
    "<br>```acc```：浮点数类型，求导的精度\n",
    "<br>```param```：字典类型，当f函数有其他非默认参数时，需输入以参数名为键，参数值为值的字典\n",
    "\n",
    "nebla_cross(f, x, acc=0.1, param={})\n",
    "<br>```f```：函数类型，要求函数f返回一个列表\n",
    "<br>```x```：数或数组，函数的输入值，不支持批量输入\n",
    "<br>```acc```：浮点数类型，求导的精度\n",
    "<br>```param```：字典类型，当f函数有其他非默认参数时，需输入以参数名为键，参数值为值的字典\n",
    "\n",
    "### 功能说明\n",
    "nebla_dot用于点乘矢量函数：$\\nabla\\centerdot\\vec{f}$\n",
    "<br>nebla_cross用于叉乘矢量函数：$\\nabla\\times\\vec{f}$（此时函数f的输出必须是三维的）\n",
    "<br>用法类似grad函数\n",
    "\n",
    "### DEMO 4-1：$\\nabla\\centerdot\\vec{f}$，$\\vec{f}=x^{2}\\vec{i}+y^{2}\\vec{j}+z^{2}\\vec{k}$在点$(1,1,1)$的函数值"
   ]
  },
  {
   "cell_type": "code",
   "execution_count": 4,
   "metadata": {},
   "outputs": [
    {
     "data": {
      "text/plain": [
       "array([2., 2., 2.])"
      ]
     },
     "execution_count": 4,
     "metadata": {},
     "output_type": "execute_result"
    }
   ],
   "source": [
    "import maysics as ms\n",
    "\n",
    "def f(x):\n",
    "    return x[0]**2, x[1]**2, x[2]**2\n",
    "\n",
    "ms.calc.nebla_dot(f, [1, 1, 1])"
   ]
  },
  {
   "cell_type": "markdown",
   "metadata": {},
   "source": [
    "### DEMO 4-2：$\\nabla\\times\\vec{f}$，$\\vec{f}=x^{2}\\vec{i}+y^{2}\\vec{j}+z^{2}\\vec{k}$在点$(1,1,1)$的函数值"
   ]
  },
  {
   "cell_type": "code",
   "execution_count": 5,
   "metadata": {},
   "outputs": [
    {
     "data": {
      "text/plain": [
       "array([0., 0., 0.])"
      ]
     },
     "execution_count": 5,
     "metadata": {},
     "output_type": "execute_result"
    }
   ],
   "source": [
    "import maysics as ms\n",
    "\n",
    "def f(x):\n",
    "    return x[0]**2, x[1]**2, x[2]**2\n",
    "\n",
    "ms.calc.nebla_cross(f, [1, 1, 1])"
   ]
  },
  {
   "cell_type": "markdown",
   "metadata": {},
   "source": [
    "<br></br>\n",
    "## 拉普拉斯算子：laplace\n",
    "laplace(f, x, acc=0.1, param={})\n",
    "<br>```f```：函数类型，需以一维数组作为输入，且不支持批量输入\n",
    "<br>```x```：一维数组或二维数组\n",
    "<br>```acc```：浮点数类型，求导的精度，默认为0.1\n",
    "<br>```param```：字典类型，当f函数有其他非默认参数时，需输入以参数名为键，参数值为值的字典\n",
    "\n",
    "### 功能说明\n",
    "$\\Delta=\\nabla^{2}$\n",
    "\n",
    "### DEMO 5-1：不支持小批量输入函数：$f(x,y,z)=x^{2}+y^{2}+z^{2}$在点$(1,1,1)$的$\\Delta f$值"
   ]
  },
  {
   "cell_type": "code",
   "execution_count": 6,
   "metadata": {},
   "outputs": [
    {
     "data": {
      "text/plain": [
       "6.000000000000137"
      ]
     },
     "execution_count": 6,
     "metadata": {},
     "output_type": "execute_result"
    }
   ],
   "source": [
    "import maysics as ms\n",
    "\n",
    "def f(x):\n",
    "    return sum(x**2)\n",
    "\n",
    "ms.calc.laplace(f, [1,1,1])"
   ]
  },
  {
   "cell_type": "markdown",
   "metadata": {},
   "source": [
    "### DEMO 5-2：支持小批量输入函数：$f(x,y,z)=x^{2}+y^{2}+z^{2}$在点集${(1,1,1),(2,2,2)}$的$\\Delta f$值"
   ]
  },
  {
   "cell_type": "code",
   "execution_count": 7,
   "metadata": {},
   "outputs": [
    {
     "data": {
      "text/plain": [
       "array([6., 6.])"
      ]
     },
     "execution_count": 7,
     "metadata": {},
     "output_type": "execute_result"
    }
   ],
   "source": [
    "import maysics as ms\n",
    "\n",
    "def f(x):\n",
    "    return (x**2).sum(axis=1)\n",
    "\n",
    "ms.calc.laplace(f, [[1,1,1],[2,2,2]])"
   ]
  },
  {
   "cell_type": "markdown",
   "metadata": {},
   "source": [
    "<br></br>\n",
    "## 矩形函数：rect\n",
    "rect(x, x0=0, h=1, d=0.5)\n",
    "<br>```x```：数或数组，自变量\n",
    "<br>```x0```、```h```、```d```均为数类型，含义如下述公式所示\n",
    "\n",
    "$$\n",
    "f(x)=\\left\\{\\begin{array}{cc}\n",
    "h & , & x\\in [x_{0}-d, x_{0}+d], \\\\\n",
    "0 & , & else.\\\\\n",
    "\\end{array}\\right.\n",
    "$$\n",
    "\n",
    "### DEMO 6-1：绘制x0=0，h=1，d=0.5的矩形函数图像"
   ]
  },
  {
   "cell_type": "code",
   "execution_count": 8,
   "metadata": {},
   "outputs": [
    {
     "data": {
      "image/png": "[encoded data removed]",
      "text/plain": [
       "<Figure size 432x288 with 1 Axes>"
      ]
     },
     "metadata": {
      "needs_background": "light"
     },
     "output_type": "display_data"
    }
   ],
   "source": [
    "import maysics as ms\n",
    "import numpy as np\n",
    "from matplotlib import pyplot as plt\n",
    "\n",
    "x = np.arange(-2, 2, 0.01)\n",
    "plt.plot(x, ms.calc.rect(x))\n",
    "plt.show()"
   ]
  },
  {
   "cell_type": "markdown",
   "metadata": {},
   "source": [
    "<br></br>\n",
    "## S型函数：sigmoid\n",
    "sigmoid(x, a=1, b=0, c=1)\n",
    "<br>```x```：数或数组，自变量\n",
    "<br>```a```、```b```、```c```均为数类型，含义如下述公式所示\n",
    "\n",
    "$$f(x)=\\frac{a}{1-e^{b-cx}}$$\n",
    "\n",
    "### DEMO 7-1：绘制a=1，b=0，c=1的S型函数图像"
   ]
  },
  {
   "cell_type": "code",
   "execution_count": 9,
   "metadata": {},
   "outputs": [
    {
     "data": {
      "text/plain": [
       "[<matplotlib.lines.Line2D at 0x15a30213b50>]"
      ]
     },
     "execution_count": 9,
     "metadata": {},
     "output_type": "execute_result"
    },
    {
     "data": {
      "image/png": "[encoded data removed]",
      "text/plain": [
       "<Figure size 432x288 with 1 Axes>"
      ]
     },
     "metadata": {
      "needs_background": "light"
     },
     "output_type": "display_data"
    }
   ],
   "source": [
    "import maysics as ms\n",
    "import numpy as np\n",
    "from matplotlib import pyplot as plt\n",
    "\n",
    "x = np.arange(-10, 10, 0.1)\n",
    "plt.plot(x, ms.calc.sigmoid(x))"
   ]
  },
  {
   "cell_type": "markdown",
   "metadata": {},
   "source": [
    "<br></br>\n",
    "## 阶跃函数：step\n",
    "step(x, x0=0, h=1)\n",
    "<br>```x```：数或数组，自变量\n",
    "<br>```x0```、```h```均为数类型，含义如下述公式所示\n",
    "\n",
    "$$\n",
    "f(x)=\\left\\{\\begin{array}{cc}\n",
    "h & , & x>x_{0}, \\\\\n",
    "\\frac{h}{2} & , & x=x_{0},\\\\\n",
    "0 & , & x<x_{0},\\\\\n",
    "\\end{array}\\right.\n",
    "$$\n",
    "\n",
    "### DEMO 8-1：绘制x0=0，h=1的阶跃函数图像"
   ]
  },
  {
   "cell_type": "code",
   "execution_count": 10,
   "metadata": {},
   "outputs": [
    {
     "data": {
      "image/png": "[encoded data removed]",
      "text/plain": [
       "<Figure size 432x288 with 1 Axes>"
      ]
     },
     "metadata": {
      "needs_background": "light"
     },
     "output_type": "display_data"
    }
   ],
   "source": [
    "import maysics as ms\n",
    "import numpy as np\n",
    "from matplotlib import pyplot as plt\n",
    "\n",
    "x = np.arange(-2, 2, 0.01)\n",
    "plt.plot(x, ms.calc.step(x))\n",
    "plt.show()"
   ]
  },
  {
   "cell_type": "markdown",
   "metadata": {},
   "source": [
    "<br></br>\n",
    "## 定积分：inte\n",
    "inte(func, area, method='rect', dim=1, param={}, condition=None, args={}, acc=0.1, loop=10000, height=1, random_state=None)\n",
    "<br>```func```：函数类型，被积函数\n",
    "<br>```area```：二维数组，积分区域，由自变量上下限列表组成\n",
    "<br>&emsp;如：积分区域为[a, b]时，area=[[a, b]]\n",
    "<br>&emsp;&emsp;&emsp;积分区域为二维区域x1∈[a1, b1]，x2属于[a2, b2]时，area=[[a1, b1], [a2, b2]]\n",
    "<br>```method```：字符串类型，可选'rect'和'mc'，分别表示使用矩形法和蒙特卡洛法进行积分，```acc```参数仅对矩形法起作用，```loop```、```height```和```random_state```参数仅对蒙特卡洛法起作用\n",
    "<br>```dim```：整型，可选1或2，1表示被积函数的输入为1维数组，适用于普通输入函数，2表示被积函数的输入为2维数组，适用于小批量输入函数，\n",
    "<br>```param```：字典类型，当被积函数有其他非默认参数时，需输入以参数名为键，参数值为值的字典\n",
    "<br>```condition```：函数类型，条件函数，符合条件的输出Ture，否则输出False，条件函数的第一个参数的输入须为1维数组\n",
    "<br>```args```：字典类型，当条件函数有其他非默认参数时，需输入以参数名为键，参数值为值的字典\n",
    "<br>```acc```：浮点数或数组类型，可选，积分精度，只有method='rect'时才有效\n",
    "<br>```loop```：整型，产生的随机数数目，只有method='mc'时才有效\n",
    "<br>```height```：浮点数类型，高度，只有method='mc'时才有效\n",
    "<br>```random_state```：整型，随机种子，只有method='mc'时才有效\n",
    "\n",
    "### 使用矩形法进行定积分\n",
    "超矩形的大小为：$f(x)\\times acc^{dim}$\n",
    "\n",
    "### DEMO 9-1：求$f(x)=sin(x)$在0到π上的积分"
   ]
  },
  {
   "cell_type": "code",
   "execution_count": 11,
   "metadata": {},
   "outputs": [
    {
     "data": {
      "text/plain": [
       "1.9995479597125976"
      ]
     },
     "execution_count": 11,
     "metadata": {},
     "output_type": "execute_result"
    }
   ],
   "source": [
    "import maysics as ms\n",
    "import numpy as np\n",
    "\n",
    "ms.calc.inte(np.sin, [[0, np.pi]])"
   ]
  },
  {
   "cell_type": "markdown",
   "metadata": {},
   "source": [
    "### DEMO 9-2：求$f(x)=Asin(x)$在0到π上的积分"
   ]
  },
  {
   "cell_type": "code",
   "execution_count": 12,
   "metadata": {},
   "outputs": [
    {
     "data": {
      "text/plain": [
       "3.999095919425195"
      ]
     },
     "execution_count": 12,
     "metadata": {},
     "output_type": "execute_result"
    }
   ],
   "source": [
    "import maysics as ms\n",
    "import numpy as np\n",
    "\n",
    "def f(x, A):\n",
    "    return A * np.sin(x)\n",
    "\n",
    "# 取A=2\n",
    "ms.calc.inte(f, [[0, np.pi]], args={'A':2})"
   ]
  },
  {
   "cell_type": "markdown",
   "metadata": {},
   "source": [
    "### DEMO 9-3：求$f(x)=2sin(x)$在0到π上函数值小于等于1区域的积分"
   ]
  },
  {
   "cell_type": "code",
   "execution_count": 13,
   "metadata": {},
   "outputs": [
    {
     "data": {
      "text/plain": [
       "0.26471848651129565"
      ]
     },
     "execution_count": 13,
     "metadata": {},
     "output_type": "execute_result"
    }
   ],
   "source": [
    "import maysics as ms\n",
    "import numpy as np\n",
    "\n",
    "def c(x):\n",
    "    if 2 * np.sin(x) <= 1:\n",
    "        return True\n",
    "    else:\n",
    "        return False\n",
    "\n",
    "# 取A=2\n",
    "ms.calc.inte(np.sin, [[0, np.pi]], condition=c)"
   ]
  },
  {
   "cell_type": "markdown",
   "metadata": {},
   "source": [
    "### DEMO 9-4：求$f(x,y)=x^{2}+y^{2}$在$x\\in[-2,2]$，$y\\in[-1,1]$的积分"
   ]
  },
  {
   "cell_type": "code",
   "execution_count": 14,
   "metadata": {},
   "outputs": [
    {
     "data": {
      "text/plain": [
       "13.360000000000017"
      ]
     },
     "execution_count": 14,
     "metadata": {},
     "output_type": "execute_result"
    }
   ],
   "source": [
    "import maysics as ms\n",
    "\n",
    "def f(x):\n",
    "    return x[0]**2 + x[1]**2\n",
    "\n",
    "ms.calc.inte(f, [[-2, 2], [-1, 1]])"
   ]
  },
  {
   "cell_type": "markdown",
   "metadata": {},
   "source": [
    "### 使用蒙特卡洛法进行定积分\n",
    "在$area\\times height$的超矩形中随机产生loop个散点（注意$height\\geq maxf(x)$在area中恒成立）\n",
    "<br>将$y\\leq f(x)$的散点数记为n，则积分$\\approx\\frac{n}{loop}\\times area \\times height$\n",
    "<br>random_state是随机种子\n",
    "\n",
    "### DEMO 9-5：求f(x)=2sin(x)在0到π上的积分"
   ]
  },
  {
   "cell_type": "code",
   "execution_count": 15,
   "metadata": {},
   "outputs": [
    {
     "data": {
      "text/plain": [
       "4.008672225980576"
      ]
     },
     "execution_count": 15,
     "metadata": {},
     "output_type": "execute_result"
    }
   ],
   "source": [
    "import maysics as ms\n",
    "import numpy as np\n",
    "\n",
    "def f(x):\n",
    "    return 2 * np.sin(x)\n",
    "\n",
    "ms.calc.inte(f, [[0, np.pi]], method='mc', height=2)"
   ]
  },
  {
   "cell_type": "markdown",
   "metadata": {},
   "source": [
    "### DEMO 9-6：求$f(x,y)=x^{2}+y^{2}$在$x\\in[-2,2]$，$y\\in[-1,1]$的积分"
   ]
  },
  {
   "cell_type": "code",
   "execution_count": 16,
   "metadata": {},
   "outputs": [
    {
     "data": {
      "text/plain": [
       "13.212"
      ]
     },
     "execution_count": 16,
     "metadata": {},
     "output_type": "execute_result"
    }
   ],
   "source": [
    "import maysics as ms\n",
    "\n",
    "def f(x):\n",
    "    return x[0]**2 + x[1]**2\n",
    "\n",
    "ms.calc.inte(f, [[-2, 2], [-1, 1]], method='mc', height=5)"
   ]
  }
 ],
 "metadata": {
  "kernelspec": {
   "display_name": "Python 3 (ipykernel)",
   "language": "python",
   "name": "python3"
  },
  "language_info": {
   "codemirror_mode": {
    "name": "ipython",
    "version": 3
   },
   "file_extension": ".py",
   "mimetype": "text/x-python",
   "name": "python",
   "nbconvert_exporter": "python",
   "pygments_lexer": "ipython3",
   "version": "3.10.4"
  }
 },
 "nbformat": 4,
 "nbformat_minor": 4
}
