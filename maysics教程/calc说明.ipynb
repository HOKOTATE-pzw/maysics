{
 "cells": [
  {
   "cell_type": "markdown",
   "metadata": {},
   "source": [
    "# maysics.calc模块使用说明\n",
    "\n",
    "calc模块包含七个函数\n",
    "\n",
    "|名称|作用|\n",
    "|---|---|\n",
    "|lim|极限|\n",
    "|ha|哈密顿算符|\n",
    "|grad|梯度|\n",
    "|nebla_dot|nebla算子点乘|\n",
    "|nebla_cross|nebla算子叉乘|\n",
    "|laplace|拉普拉斯算子|\n",
    "|inte|积分|"
   ]
  },
  {
   "cell_type": "markdown",
   "metadata": {},
   "source": [
    "<br></br>\n",
    "## 求极限：lim\n",
    "lim(f, x0, acc=0.01, method='both')\n",
    "<br>求函数```f```在```acc```的误差下，$x\\rightarrow x_{0}$的函数值\n",
    "<br>```method```可选'both'、'+'、'-'，分别表示双边极限、右极限、左极限\n",
    "\n",
    "### DEMO 1-1：求函数$y=\\frac{sin(x)}{x}$中$x\\rightarrow0$时的值"
   ]
  },
  {
   "cell_type": "code",
   "execution_count": 1,
   "metadata": {},
   "outputs": [
    {
     "data": {
      "text/plain": [
       "0.9999833334166665"
      ]
     },
     "execution_count": 1,
     "metadata": {},
     "output_type": "execute_result"
    }
   ],
   "source": [
    "import maysics as ms\n",
    "import numpy as np\n",
    "\n",
    "def f(x):\n",
    "    return np.sin(x) / x\n",
    "\n",
    "ms.calc.lim(f, 0)"
   ]
  },
  {
   "cell_type": "markdown",
   "metadata": {},
   "source": [
    "<br></br>\n",
    "## 哈密顿算符：ha\n",
    "哈密顿算符：$\\hat{H}=-\\frac{\\hbar^{2}{\\nabla^{2}}}{2m}+U$\n",
    "\n",
    "<br>ha(f, m, U, acc=0.1)\n",
    "<br>求函数```f```在```acc```误差下，粒子质量为```m```，势能为```U```时，通过哈密顿算符生成的新函数\n",
    "<br>```f```需要以数组作为输入（不能是数）\n",
    "<br>```U```是常数或函数\n",
    "\n",
    "### DEMO 2-1：求函数$y=x$通过哈密顿算符生成的新函数"
   ]
  },
  {
   "cell_type": "code",
   "execution_count": 2,
   "metadata": {},
   "outputs": [
    {
     "data": {
      "text/plain": [
       "array([2., 4., 6.])"
      ]
     },
     "execution_count": 2,
     "metadata": {},
     "output_type": "execute_result"
    }
   ],
   "source": [
    "import maysics as ms\n",
    "\n",
    "def f(x):\n",
    "    return x\n",
    "\n",
    "# m=1, U=2\n",
    "f_new = ms.calc.ha(f, 1, 2)\n",
    "\n",
    "# 输出x=(1, 2, 3)时的函数值\n",
    "f_new([1, 2, 3])"
   ]
  },
  {
   "cell_type": "markdown",
   "metadata": {},
   "source": [
    "<br></br>\n",
    "## 梯度：grad\n",
    "grad(f, x, acc=0.1)\n",
    "<br>在acc误差下计算函数f在x处的梯度\n",
    "\n",
    "### DEMO 3-1：求函数$y=x^{2}+y^{2}$在点$(3, 3)$处的梯度"
   ]
  },
  {
   "cell_type": "code",
   "execution_count": 3,
   "metadata": {},
   "outputs": [
    {
     "data": {
      "text/plain": [
       "array([6., 6.])"
      ]
     },
     "execution_count": 3,
     "metadata": {},
     "output_type": "execute_result"
    }
   ],
   "source": [
    "import maysics as ms\n",
    "\n",
    "def f(x):\n",
    "    return x[0]**2 + x[1]**2\n",
    "\n",
    "ms.calc.grad(f, [3, 3])"
   ]
  },
  {
   "cell_type": "markdown",
   "metadata": {},
   "source": [
    "<br></br>\n",
    "## nebla算子：nebla_dot和nebla_cross\n",
    "nebla_dot用于点乘矢量函数：$\\nabla\\centerdot\\vec{f}$\n",
    "<br>nebla_dot(f, x, acc=0.1)\n",
    "\n",
    "<br>nebla_cross用于叉乘矢量函数：$\\nabla\\times\\vec{f}$（此时函数f的输出必须是三维的）\n",
    "<br>nebla_cross(f, x, acc=0.1)\n",
    "<br>用法类似grad函数\n",
    "\n",
    "### DEMO 4-1：$\\nabla\\centerdot\\vec{f}$，$\\vec{f}=x^{2}\\vec{i}+y^{2}\\vec{j}+z^{2}\\vec{k}$在点$(1,1,1)$的函数值"
   ]
  },
  {
   "cell_type": "code",
   "execution_count": 4,
   "metadata": {},
   "outputs": [
    {
     "data": {
      "text/plain": [
       "array([2., 2., 2.])"
      ]
     },
     "execution_count": 4,
     "metadata": {},
     "output_type": "execute_result"
    }
   ],
   "source": [
    "import maysics as ms\n",
    "\n",
    "def f(x):\n",
    "    return x[0]**2, x[1]**2, x[2]**2\n",
    "\n",
    "ms.calc.nebla_dot(f, [1, 1, 1])"
   ]
  },
  {
   "cell_type": "markdown",
   "metadata": {},
   "source": [
    "### DEMO 4-2：$\\nabla\\times\\vec{f}$，$\\vec{f}=x^{2}\\vec{i}+y^{2}\\vec{j}+z^{2}\\vec{k}$在点$(1,1,1)$的函数值"
   ]
  },
  {
   "cell_type": "code",
   "execution_count": 5,
   "metadata": {},
   "outputs": [
    {
     "data": {
      "text/plain": [
       "array([0., 0., 0.])"
      ]
     },
     "execution_count": 5,
     "metadata": {},
     "output_type": "execute_result"
    }
   ],
   "source": [
    "import maysics as ms\n",
    "\n",
    "def f(x):\n",
    "    return x[0]**2, x[1]**2, x[2]**2\n",
    "\n",
    "ms.calc.nebla_cross(f, [1, 1, 1])"
   ]
  },
  {
   "cell_type": "markdown",
   "metadata": {},
   "source": [
    "<br></br>\n",
    "## 拉普拉斯算子：laplace\n",
    "$\\Delta=\\nabla^{2}$\n",
    "\n",
    "<br>laplace(f, x, acc=0.1)\n",
    "<br>函数```f```需以一维数组作为输入，且不支持批量输入\n",
    "\n",
    "### DEMO 5-1：不支持小批量输入函数：$f(x,y,z)=x^{2}+y^{2}+z^{2}$在点$(1,1,1)$的$\\Delta f$值"
   ]
  },
  {
   "cell_type": "code",
   "execution_count": 6,
   "metadata": {},
   "outputs": [
    {
     "data": {
      "text/plain": [
       "6.000000000000137"
      ]
     },
     "execution_count": 6,
     "metadata": {},
     "output_type": "execute_result"
    }
   ],
   "source": [
    "import maysics as ms\n",
    "\n",
    "def f(x):\n",
    "    return sum(x**2)\n",
    "\n",
    "ms.calc.laplace(f, [1,1,1])"
   ]
  },
  {
   "cell_type": "markdown",
   "metadata": {},
   "source": [
    "### DEMO 5-2：支持小批量输入函数：$f(x,y,z)=x^{2}+y^{2}+z^{2}$在点集${(1,1,1),(2,2,2)}$的$\\Delta f$值"
   ]
  },
  {
   "cell_type": "code",
   "execution_count": 7,
   "metadata": {},
   "outputs": [
    {
     "data": {
      "text/plain": [
       "array([6., 6.])"
      ]
     },
     "execution_count": 7,
     "metadata": {},
     "output_type": "execute_result"
    }
   ],
   "source": [
    "import maysics as ms\n",
    "\n",
    "def f(x):\n",
    "    return (x**2).sum(axis=1)\n",
    "\n",
    "ms.calc.laplace(f, [[1,1,1],[2,2,2]])"
   ]
  },
  {
   "cell_type": "markdown",
   "metadata": {},
   "source": [
    "<br></br>\n",
    "## 定积分：inte\n",
    "inte(func, area, method='rect', dim=1, args={}, condition=None, param={}, acc=0.1, loop=10000, height=1, random_state=None)\n",
    "<br>```func```是被积函数\n",
    "<br>```area```是一个二维数组，表示各个维度的积分范围\n",
    "<br>```method```可选'rect'和'mc'，分别表示使用矩形法和蒙特卡洛法进行积分，```acc```参数仅对矩形法起作用，```loop```、```height```和```random_state```参数仅对蒙特卡洛法起作用\n",
    "<br>```dim```参数表示输入函数的维度，默认为一维函数\n",
    "<br>```args```表示输入函数f除了自变量以外的其他参数\n",
    "<br>```condition```是条件函数，当```condition```不为None时，只有满足```condition```（即输出为True）的点才会纳入积分范围\n",
    "<br>```param```表示函数```condition```除了自变量以外的其他参数\n",
    "<br>```acc```既可以是数类型，也可以是一维数组类型，前者表示各个维度精度一致，后者则可以各个维度精度不同\n",
    "\n",
    "### 使用矩形法进行定积分\n",
    "超矩形的大小为：$f(x)\\times acc^{dim}$\n",
    "\n",
    "### DEMO 6-1：求$f(x)=sin(x)$在0到π上的积分"
   ]
  },
  {
   "cell_type": "code",
   "execution_count": 8,
   "metadata": {},
   "outputs": [
    {
     "data": {
      "text/plain": [
       "1.9995479597125976"
      ]
     },
     "execution_count": 8,
     "metadata": {},
     "output_type": "execute_result"
    }
   ],
   "source": [
    "import maysics as ms\n",
    "import numpy as np\n",
    "\n",
    "ms.calc.inte(np.sin, [[0, np.pi]])"
   ]
  },
  {
   "cell_type": "markdown",
   "metadata": {},
   "source": [
    "### DEMO 6-2：求$f(x)=Asin(x)$在0到π上的积分"
   ]
  },
  {
   "cell_type": "code",
   "execution_count": 9,
   "metadata": {},
   "outputs": [
    {
     "data": {
      "text/plain": [
       "3.999095919425195"
      ]
     },
     "execution_count": 9,
     "metadata": {},
     "output_type": "execute_result"
    }
   ],
   "source": [
    "import maysics as ms\n",
    "import numpy as np\n",
    "\n",
    "def f(x, A):\n",
    "    return A * np.sin(x)\n",
    "\n",
    "# 取A=2\n",
    "ms.calc.inte(f, [[0, np.pi]], args={'A':2})"
   ]
  },
  {
   "cell_type": "markdown",
   "metadata": {},
   "source": [
    "### DEMO 6-3：求$f(x)=2sin(x)$在0到π上函数值小于等于1区域的积分"
   ]
  },
  {
   "cell_type": "code",
   "execution_count": 10,
   "metadata": {},
   "outputs": [
    {
     "data": {
      "text/plain": [
       "0.26471848651129565"
      ]
     },
     "execution_count": 10,
     "metadata": {},
     "output_type": "execute_result"
    }
   ],
   "source": [
    "import maysics as ms\n",
    "import numpy as np\n",
    "\n",
    "def c(x):\n",
    "    if 2 * np.sin(x) <= 1:\n",
    "        return True\n",
    "    else:\n",
    "        return False\n",
    "\n",
    "# 取A=2\n",
    "ms.calc.inte(np.sin, [[0, np.pi]], condition=c)"
   ]
  },
  {
   "cell_type": "markdown",
   "metadata": {},
   "source": [
    "### DEMO 6-4：求$f(x,y)=x^{2}+y^{2}$在$x\\in[-2,2]$，$y\\in[-1,1]$的积分"
   ]
  },
  {
   "cell_type": "code",
   "execution_count": 11,
   "metadata": {},
   "outputs": [
    {
     "data": {
      "text/plain": [
       "13.360000000000017"
      ]
     },
     "execution_count": 11,
     "metadata": {},
     "output_type": "execute_result"
    }
   ],
   "source": [
    "import maysics as ms\n",
    "\n",
    "def f(x):\n",
    "    return x[0]**2 + x[1]**2\n",
    "\n",
    "ms.calc.inte(f, [[-2, 2], [-1, 1]])"
   ]
  },
  {
   "cell_type": "markdown",
   "metadata": {},
   "source": [
    "### 使用蒙特卡洛法进行定积分\n",
    "在$area\\times height$的超矩形中随机产生loop个散点（注意$height\\geq maxf(x)$在area中恒成立）\n",
    "<br>将$y\\leq f(x)$的散点数记为n，则积分$\\approx\\frac{n}{loop}\\times area \\times height$\n",
    "<br>random_state是随机种子\n",
    "\n",
    "### DEMO 6-5：求f(x)=2sin(x)在0到π上的积分"
   ]
  },
  {
   "cell_type": "code",
   "execution_count": 12,
   "metadata": {},
   "outputs": [
    {
     "data": {
      "text/plain": [
       "3.9181943575571903"
      ]
     },
     "execution_count": 12,
     "metadata": {},
     "output_type": "execute_result"
    }
   ],
   "source": [
    "import maysics as ms\n",
    "import numpy as np\n",
    "\n",
    "def f(x):\n",
    "    return 2 * np.sin(x)\n",
    "\n",
    "ms.calc.inte(f, [[0, np.pi]], method='mc', height=2)"
   ]
  },
  {
   "cell_type": "markdown",
   "metadata": {},
   "source": [
    "### DEMO 6-6：求$f(x,y)=x^{2}+y^{2}$在$x\\in[-2,2]$，$y\\in[-1,1]$的积分"
   ]
  },
  {
   "cell_type": "code",
   "execution_count": 13,
   "metadata": {},
   "outputs": [
    {
     "data": {
      "text/plain": [
       "13.32"
      ]
     },
     "execution_count": 13,
     "metadata": {},
     "output_type": "execute_result"
    }
   ],
   "source": [
    "import maysics as ms\n",
    "\n",
    "def f(x):\n",
    "    return x[0]**2 + x[1]**2\n",
    "\n",
    "ms.calc.inte(f, [[-2, 2], [-1, 1]], method='mc', height=5)"
   ]
  }
 ],
 "metadata": {
  "kernelspec": {
   "display_name": "Python 3",
   "language": "python",
   "name": "python3"
  },
  "language_info": {
   "codemirror_mode": {
    "name": "ipython",
    "version": 3
   },
   "file_extension": ".py",
   "mimetype": "text/x-python",
   "name": "python",
   "nbconvert_exporter": "python",
   "pygments_lexer": "ipython3",
   "version": "3.8.6"
  }
 },
 "nbformat": 4,
 "nbformat_minor": 4
}
