{
 "cells": [
  {
   "cell_type": "markdown",
   "metadata": {},
   "source": [
    "# maysics.stats模块使用说明\n",
    "\n",
    "stats模块有两个类\n",
    "\n",
    "|名称|作用|\n",
    "|---|---|\n",
    "|DF1d|一维分布拟合|\n",
    "|DFT|单个分布拟合检验|\n",
    "\n",
    "stats模块有个函数七个函数\n",
    "\n",
    "|名称|作用|\n",
    "|---|---|\n",
    "|r_moment|原点矩|\n",
    "|ex|数学期望|\n",
    "|c_moment|中心矩|\n",
    "|dx|方差|\n",
    "|skew|偏度|\n",
    "|skurt|峰度|\n",
    "|mle|最大似然法|"
   ]
  }
 ],
 "metadata": {
  "kernelspec": {
   "display_name": "Python 3",
   "language": "python",
   "name": "python3"
  },
  "language_info": {
   "codemirror_mode": {
    "name": "ipython",
    "version": 3
   },
   "file_extension": ".py",
   "mimetype": "text/x-python",
   "name": "python",
   "nbconvert_exporter": "python",
   "pygments_lexer": "ipython3",
   "version": "3.8.6"
  }
 },
 "nbformat": 4,
 "nbformat_minor": 4
}
