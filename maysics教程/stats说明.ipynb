{
 "cells": [
  {
   "cell_type": "markdown",
   "metadata": {},
   "source": [
    "# maysics.stats模块使用说明\n",
    "\n",
    "stats模块有八个函数\n",
    "\n",
    "|名称|作用|\n",
    "|---|---|\n",
    "|r_moment|原点矩|\n",
    "|ex|数学期望|\n",
    "|c_moment|中心矩|\n",
    "|dx|方差|\n",
    "|skew|偏度|\n",
    "|kurt|峰度|\n",
    "|mle|最大似然法|\n",
    "|inde_test|独立性检验|\n",
    "\n",
    "stats模块有两个类\n",
    "\n",
    "|名称|作用|\n",
    "|---|---|\n",
    "|DF1d|一维分布拟合|\n",
    "|DFT|单个分布拟合检验|"
   ]
  },
  {
   "cell_type": "markdown",
   "metadata": {},
   "source": [
    "<br></br>\n",
    "## 数字特征：r_moment、ex、c_moment、dx、skew、kurt\n",
    "ex等价于一阶原点矩\n",
    "<br>dx等价于二阶中心矩\n",
    "<br>skew等价于三阶中心矩\n",
    "<br>kurt等价于四阶中心矩\n",
    "\n",
    "### DEMO 1-1：求在0,1上均匀分布的数据集数字特征"
   ]
  },
  {
   "cell_type": "code",
   "execution_count": 1,
   "metadata": {},
   "outputs": [
    {
     "name": "stdout",
     "output_type": "stream",
     "text": [
      "一阶原点矩：0.4723667917192546\n",
      "期望：0.4723667917192546\n",
      "一阶中心矩：-4.662936703425657e-17\n",
      "二阶中心矩：0.0836529978256185\n",
      "方差：0.0836529978256185\n",
      "三阶中心矩：0.005087259988591813\n",
      "偏度：0.005087259988591813\n",
      "四阶中心矩：0.013010821251786521\n",
      "峰度：0.013010821251786521\n"
     ]
    }
   ],
   "source": [
    "import maysics as ms\n",
    "import numpy as np\n",
    "\n",
    "np.random.seed(100)\n",
    "data = np.random.rand(100)\n",
    "\n",
    "print('一阶原点矩：{}'.format(ms.stats.r_moment(data)))\n",
    "print('期望：{}'.format(ms.stats.ex(data)))\n",
    "\n",
    "print('一阶中心矩：{}'.format(ms.stats.c_moment(data)))\n",
    "print('二阶中心矩：{}'.format(ms.stats.c_moment(data, k=2)))\n",
    "print('方差：{}'.format(ms.stats.dx(data)))\n",
    "print('三阶中心矩：{}'.format(ms.stats.c_moment(data, k=3)))\n",
    "print('偏度：{}'.format(ms.stats.skew(data)))\n",
    "print('四阶中心矩：{}'.format(ms.stats.c_moment(data, k=4)))\n",
    "print('峰度：{}'.format(ms.stats.kurt(data)))"
   ]
  },
  {
   "cell_type": "markdown",
   "metadata": {},
   "source": [
    "### DEMO 1-2：求标准正态分布概率密度函数的数字特征"
   ]
  },
  {
   "cell_type": "code",
   "execution_count": 2,
   "metadata": {},
   "outputs": [
    {
     "name": "stdout",
     "output_type": "stream",
     "text": [
      "一阶原点矩：-0.0013295545235813314\n",
      "期望：-0.0013295545235813314\n",
      "一阶中心矩：-3.6189585342657864e-06\n",
      "二阶中心矩：0.9705522706732294\n",
      "方差：0.9705522706732294\n",
      "三阶中心矩：-0.008094781863626197\n",
      "偏度：-0.008094781863626197\n",
      "四阶中心矩：2.6717567286164305\n",
      "峰度：2.6717567286164305\n"
     ]
    }
   ],
   "source": [
    "import maysics as ms\n",
    "import numpy as np\n",
    "from scipy.stats import norm\n",
    "\n",
    "p_range = (-3, 3)\n",
    "args = {'loc':0, 'scale':1}\n",
    "\n",
    "print('一阶原点矩：{}'.format(ms.stats.r_moment(norm.pdf, p_range, args)))\n",
    "print('期望：{}'.format(ms.stats.ex(norm.pdf, p_range, args)))\n",
    "\n",
    "print('一阶中心矩：{}'.format(ms.stats.c_moment(norm.pdf, p_range, args)))\n",
    "print('二阶中心矩：{}'.format(ms.stats.c_moment(norm.pdf, p_range, args, 2)))\n",
    "print('方差：{}'.format(ms.stats.dx(norm.pdf, p_range, args)))\n",
    "print('三阶中心矩：{}'.format(ms.stats.c_moment(norm.pdf, p_range, args, 3)))\n",
    "print('偏度：{}'.format(ms.stats.skew(norm.pdf, p_range, args)))\n",
    "print('四阶中心矩：{}'.format(ms.stats.c_moment(norm.pdf, p_range, args, 4)))\n",
    "print('峰度：{}'.format(ms.stats.kurt(norm.pdf, p_range, args)))"
   ]
  },
  {
   "cell_type": "markdown",
   "metadata": {
    "tags": []
   },
   "source": [
    "<br></br>\n",
    "## 最大似然法：mle\n",
    "用于概率密度函数的参数拟合\n",
    "<br>构建似然函数：$L(\\theta)=\\ln(\\Pi func(x_{i};\\theta))=\\Sigma \\ln(func(x_{i};\\theta))$\n",
    "<br>其中$x_{i}$即数据集data中的元素\n",
    "<br>求似然函数在$\\theta \\in$p_range取最大值时的$\\theta$取值，即为最合适的参数值\n",
    "\n",
    "<br>mle(func, data, p_range, acc=0.1)\n",
    "<br>各参数意义如上式所示\n",
    "\n",
    "### DEMO 2-1：拟合正态分布的均值和方差"
   ]
  },
  {
   "cell_type": "code",
   "execution_count": 3,
   "metadata": {},
   "outputs": [
    {
     "data": {
      "text/plain": [
       "array([-0.1,  0.5])"
      ]
     },
     "execution_count": 3,
     "metadata": {},
     "output_type": "execute_result"
    }
   ],
   "source": [
    "import maysics as ms\n",
    "import numpy as np\n",
    "from scipy.stats import norm\n",
    "\n",
    "np.random.seed(100)\n",
    "data = np.random.normal(0, 0.5, (100,))\n",
    "\n",
    "def f(x, param):\n",
    "    return norm.pdf(x, loc=param[0], scale=param[1])\n",
    "\n",
    "ms.stats.mle(f, data, [[-1, 1],[0.1, 1]])"
   ]
  },
  {
   "cell_type": "markdown",
   "metadata": {},
   "source": [
    "<br></br>\n",
    "## 独立性检验：inde_test\n",
    "用于检验两变量之间的独立性\n",
    "<br>卡方值$=\\Sigma \\frac{(n_{i}-np_{i})^{2}}{np_{i}}$\n",
    "<br>自由度$df=(R-1)(C-1)$\n",
    "<br>其中$n_{i}$是联列表每一单位的数量，$p_{i}$是联列表每一单位的概率，$n$联列表的总数量\n",
    "<br>$R$是联列表行数，$C$是联列表列数\n",
    "\n",
    "<br>inde_test(data)\n",
    "<br>'''data'''是二维数组，即联列表\n",
    "\n",
    "<br>返回接受假设的错误概率，即认为两变量没有关系的错误概率\n",
    "\n",
    "### DEMO 3-1：A、B两变量符合如下联列表，是否能在99.9%的把握下认为他们有关系？\n",
    "||A情况1|A情况2|A情况3|\n",
    "|---|---|---|---|\n",
    "|B情况1|535|65|50|\n",
    "|B情况2|282|18|50|"
   ]
  },
  {
   "cell_type": "code",
   "execution_count": 4,
   "metadata": {},
   "outputs": [
    {
     "data": {
      "text/plain": [
       "0.9997138615953258"
      ]
     },
     "execution_count": 4,
     "metadata": {},
     "output_type": "execute_result"
    }
   ],
   "source": [
    "import maysics as ms\n",
    "\n",
    "data = [[535, 65, 50],\n",
    "        [382, 18, 50]]\n",
    "ms.stats.inde_test(data)"
   ]
  },
  {
   "cell_type": "markdown",
   "metadata": {},
   "source": [
    "因为0.9997>0.999，所以拒绝原假设，可以认为他们有关系"
   ]
  },
  {
   "cell_type": "markdown",
   "metadata": {},
   "source": [
    "<br></br>\n",
    "## 一维分布拟合：DF1d\n",
    "通过散点的频率分布拟合出概率密度函数\n",
    "<br>用插值法得到具体函数表达式\n",
    "\n",
    "DF1d(sample, span, kind='linear')\n",
    "<br>```sample```是样本点\n",
    "<br>```span```是区间间隔，如span = [a, b, c]则将区间分为[a, b]和[b, c]，并统计各区间频率\n",
    "<br>```kind```：将插值类型指定为字符串('linear'、'nearest'、'zero'、'slinear'、'squardic'、'previous'、'next'，其中'zero'、'slinear'、'squared'和'cubic'表示零阶、一阶、二阶或三阶样条曲线插值；'previous'和'next'只返回点的上一个或下一个值)或作为一个整数指定要使用的样条曲线插值器的顺序。\n",
    "\n",
    "<br>DF1d类含有两个方法：```show```、```savefig```\n",
    "<br>分别用于显示和保存概率密度函数图像\n",
    "\n",
    "### DEMO 4-1：拟合概率密度函数$f(x)$，并输出$f(0)$"
   ]
  },
  {
   "cell_type": "code",
   "execution_count": 5,
   "metadata": {},
   "outputs": [
    {
     "data": {
      "text/plain": [
       "array(0.0384)"
      ]
     },
     "execution_count": 5,
     "metadata": {},
     "output_type": "execute_result"
    }
   ],
   "source": [
    "from maysics.stats import DF1d\n",
    "import numpy as np\n",
    "\n",
    "np.random.seed(100)\n",
    "data = np.random.normal(0, 1, 10000)\n",
    "\n",
    "# -1.5至1.5，每0.1作为一个间隔，统计各个间隔的频率\n",
    "span = np.arange(-1.5, 1.6, 0.1)\n",
    "df1d = DF1d(data, span)\n",
    "df1d.f(0)"
   ]
  },
  {
   "cell_type": "markdown",
   "metadata": {},
   "source": [
    "### DEMO 4-2：拟合概率密度函数$f(x)$，并绘制函数图像"
   ]
  },
  {
   "cell_type": "code",
   "execution_count": 6,
   "metadata": {},
   "outputs": [
    {
     "data": {
      "image/png": "[encoded data removed]",
      "text/plain": [
       "<Figure size 432x288 with 1 Axes>"
      ]
     },
     "metadata": {
      "needs_background": "light"
     },
     "output_type": "display_data"
    }
   ],
   "source": [
    "from maysics.stats import DF1d\n",
    "import numpy as np\n",
    "\n",
    "np.random.seed(100)\n",
    "data = np.random.normal(0, 1, 10000)\n",
    "\n",
    "# -1.5至1.5，每0.1作为一个间隔，统计各个间隔的频率\n",
    "span = np.arange(-1.5, 1.6, 0.1)\n",
    "df1d = DF1d(data, span)\n",
    "df1d.show()"
   ]
  },
  {
   "cell_type": "markdown",
   "metadata": {},
   "source": [
    "<br></br>\n",
    "## 单个分布拟合检验：DFT\n",
    "检验分布与数据的实际分布是否一致\n",
    "DFT(func_type='pdf')\n",
    "<br>```func_type```表示检验的函数类型，可选pdf(概率密度函数)、cdf(概率分布函数)、dis(离散分布)\n",
    "\n",
    "<br>DFT类有三个方法：```fit```、```show```、```savefig```\n",
    "<br>fit方法用于计算，show和savefig分别用于显示和保存图像\n",
    "<br>DFT类有三个属性：```degree```、```chi2_value```、```P```\n",
    "<br>degree表示卡方分布的自由度\n",
    "<br>chi2_value表示卡方值\n",
    "<br>P表示拒绝假设的错误概率\n",
    "\n",
    "### fit方法：\n",
    "fit(data, func, param={}, acc=0.1)\n",
    "<br>```data```是待检验的数据集\n",
    "<br>```func```是待检验的概率函数\n",
    "<br>```param```用于传递func函数的其他参数\n",
    "<br>```acc```仅用于```func_type='pdf'```和```func_type='cdf'```，表示积分的精度\n",
    "\n",
    "### show和savefig方法：\n",
    "两个方法绘制的图像有两个：\n",
    "<br>1、原始数据的小提琴图，包括分布情况、四分位点、平均点\n",
    "<br>2、func的函数图像\n",
    "<br>需要注意的是，图像的纵坐标是经过缩放的，因此其数值没有具体意义\n",
    "<br>两个都有一个默认参数：```acc=0.01```\n",
    "<br>仅在func_type为'pdf'和'cdf'时有效，表示绘图精度\n",
    "\n",
    "### DEMO 5-1：检验标准正态分布的概率密度函数并绘制图像"
   ]
  },
  {
   "cell_type": "code",
   "execution_count": 7,
   "metadata": {},
   "outputs": [
    {
     "name": "stdout",
     "output_type": "stream",
     "text": [
      "卡方分布的自由度：4\n",
      "卡方值：3.0748689640328366\n",
      "拒绝假设的错误概率：0.45462462387572755\n"
     ]
    },
    {
     "data": {
      "image/png": "[encoded data removed]",
      "text/plain": [
       "<Figure size 432x288 with 1 Axes>"
      ]
     },
     "metadata": {
      "needs_background": "light"
     },
     "output_type": "display_data"
    }
   ],
   "source": [
    "from maysics.stats import DFT\n",
    "import numpy as np\n",
    "from scipy.stats import norm\n",
    "\n",
    "np.random.seed(100)\n",
    "data = np.random.normal(0, 1, (100,))\n",
    "\n",
    "# 分布拟合\n",
    "dft = DFT()\n",
    "dft.fit(data, norm.pdf, param={'loc':0, 'scale':1})\n",
    "\n",
    "print('卡方分布的自由度：{}\\n卡方值：{}\\n拒绝假设的错误概率：{}'.format(dft.degree, dft.chi2_value, dft.P))\n",
    "\n",
    "# 绘图\n",
    "dft.show()"
   ]
  },
  {
   "cell_type": "markdown",
   "metadata": {},
   "source": [
    "### DEMO 5-2：检验标准正态分布的概率分布函数并绘制图像"
   ]
  },
  {
   "cell_type": "code",
   "execution_count": 8,
   "metadata": {},
   "outputs": [
    {
     "name": "stdout",
     "output_type": "stream",
     "text": [
      "卡方分布的自由度：4\n",
      "卡方值：3.309860425785515\n",
      "拒绝假设的错误概率：0.4926285211114489\n"
     ]
    },
    {
     "data": {
      "image/png": "[encoded data removed]",
      "text/plain": [
       "<Figure size 432x288 with 1 Axes>"
      ]
     },
     "metadata": {
      "needs_background": "light"
     },
     "output_type": "display_data"
    }
   ],
   "source": [
    "from maysics.stats import DFT\n",
    "import numpy as np\n",
    "from scipy.stats import norm\n",
    "\n",
    "np.random.seed(100)\n",
    "data = np.random.normal(0, 1, (100,))\n",
    "\n",
    "# 分布拟合\n",
    "dft = DFT('cdf')\n",
    "dft.fit(data, norm.cdf, param={'loc':0, 'scale':1})\n",
    "\n",
    "print('卡方分布的自由度：{}\\n卡方值：{}\\n拒绝假设的错误概率：{}'.format(dft.degree, dft.chi2_value, dft.P))\n",
    "\n",
    "# 绘图\n",
    "dft.show()"
   ]
  },
  {
   "cell_type": "markdown",
   "metadata": {},
   "source": [
    "### DEMO 5-3：检验泊松分布并绘制图像"
   ]
  },
  {
   "cell_type": "code",
   "execution_count": 9,
   "metadata": {},
   "outputs": [
    {
     "name": "stdout",
     "output_type": "stream",
     "text": [
      "卡方分布的自由度：4\n",
      "卡方值：3.1515964308001543\n",
      "拒绝假设的错误概率：0.467215761589896\n"
     ]
    },
    {
     "data": {
      "image/png": "[encoded data removed]",
      "text/plain": [
       "<Figure size 432x288 with 1 Axes>"
      ]
     },
     "metadata": {
      "needs_background": "light"
     },
     "output_type": "display_data"
    }
   ],
   "source": [
    "from maysics.stats import DFT\n",
    "import numpy as np\n",
    "from scipy.special import factorial\n",
    "from scipy.stats import poisson\n",
    "\n",
    "np.random.seed(100)\n",
    "data = np.random.poisson(lam=2, size=100)\n",
    "\n",
    "# 分布拟合\n",
    "dft = DFT('pmf')\n",
    "dft.fit(data, poisson.pmf, param={'mu':2})\n",
    "\n",
    "print('卡方分布的自由度：{}\\n卡方值：{}\\n拒绝假设的错误概率：{}'.format(dft.degree, dft.chi2_value, dft.P))\n",
    "\n",
    "# 绘图\n",
    "dft.show()"
   ]
  }
 ],
 "metadata": {
  "kernelspec": {
   "display_name": "Python 3 (ipykernel)",
   "language": "python",
   "name": "python3"
  },
  "language_info": {
   "codemirror_mode": {
    "name": "ipython",
    "version": 3
   },
   "file_extension": ".py",
   "mimetype": "text/x-python",
   "name": "python",
   "nbconvert_exporter": "python",
   "pygments_lexer": "ipython3",
   "version": "3.10.4"
  }
 },
 "nbformat": 4,
 "nbformat_minor": 4
}
