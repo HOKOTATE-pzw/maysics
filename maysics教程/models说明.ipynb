{
 "cells": [
  {
   "cell_type": "markdown",
   "metadata": {},
   "source": [
    "# maysics.models模块说明\n",
    "\n",
    "models模块有四个类\n",
    "\n",
    "|名称|作用|\n",
    "|---|---|\n",
    "|ED|传染病模型|\n",
    "|Leslie|莱斯利模型|\n",
    "|MVD_law|麦克斯韦速率分布律|\n",
    "|Plancks_law|普朗克黑土辐射定律|\n",
    "\n",
    "models模块有三个函数\n",
    "\n",
    "|名称|作用|\n",
    "|---|---|\n",
    "|fouriers_law|傅里叶定律|\n",
    "|linear_r|线性回归模型|\n",
    "|logistic|逻辑斯特人口增长模型|"
   ]
  }
 ],
 "metadata": {
  "kernelspec": {
   "display_name": "Python 3",
   "language": "python",
   "name": "python3"
  },
  "language_info": {
   "codemirror_mode": {
    "name": "ipython",
    "version": 3
   },
   "file_extension": ".py",
   "mimetype": "text/x-python",
   "name": "python",
   "nbconvert_exporter": "python",
   "pygments_lexer": "ipython3",
   "version": "3.8.6"
  }
 },
 "nbformat": 4,
 "nbformat_minor": 4
}
