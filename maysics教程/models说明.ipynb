{
 "cells": [
  {
   "cell_type": "markdown",
   "metadata": {},
   "source": [
    "# maysics.models模块说明\n",
    "\n",
    "models模块有两个函数\n",
    "\n",
    "|名称|作用|\n",
    "|---|---|\n",
    "|linear_r|线性回归模型|\n",
    "|logistic|逻辑斯特人口增长模型|\n",
    "\n",
    "models模块有三个类\n",
    "\n",
    "|名称|作用|\n",
    "|---|---|\n",
    "|ED|传染病模型|\n",
    "|GM|灰色系统GM(1,1)|\n",
    "|Leslie|莱斯利模型|"
   ]
  },
  {
   "cell_type": "markdown",
   "metadata": {},
   "source": [
    "<br></br>\n",
    "## 线性回归模型：linear_r\n",
    "linear_r(x, y)\n",
    "<br>```x```：一维或二维ndarray，自变量\n",
    "<br>```y```：一维或二维ndarray，因变量\n",
    "\n",
    "### 功能说明\n",
    "利用最小二乘法进行线性回归\n",
    "<br>x和y是用于回归的数据集，可以是一维或者二维数组\n",
    "<br>函数返回一个元组，(系数矩阵, 均方误差mse)\n",
    "<br>可以直接从maysics中调用\n",
    "\n",
    "### DEMO 1-1：线性回归数据集并绘图"
   ]
  },
  {
   "cell_type": "code",
   "execution_count": 1,
   "metadata": {},
   "outputs": [
    {
     "name": "stdout",
     "output_type": "stream",
     "text": [
      "均方误差：1.552582977594145\n"
     ]
    },
    {
     "data": {
      "text/plain": [
       "[<matplotlib.lines.Line2D at 0x28b5eefdcd0>]"
      ]
     },
     "execution_count": 1,
     "metadata": {},
     "output_type": "execute_result"
    },
    {
     "data": {
      "image/png": "[encoded data removed]",
      "text/plain": [
       "<Figure size 432x288 with 1 Axes>"
      ]
     },
     "metadata": {
      "needs_background": "light"
     },
     "output_type": "display_data"
    }
   ],
   "source": [
    "import maysics as ms\n",
    "import numpy as np\n",
    "from matplotlib import pyplot as plt\n",
    "\n",
    "np.random.seed(100)\n",
    "x = np.arange(0, 20, 1)\n",
    "y = 2 * x + 4 * np.random.rand(*x.shape) - 2    # 增加(-2, 2)的误差项\n",
    "\n",
    "coef, mse = ms.models.linear_r(x, y)\n",
    "print('均方误差：{}'.format(mse))\n",
    "\n",
    "x_new = np.arange(0, 20, 0.1)\n",
    "y_pre = coef[0] * x_new + coef[1]\n",
    "\n",
    "plt.plot(x, y, 'o')\n",
    "plt.plot(x_new, y_pre)"
   ]
  },
  {
   "cell_type": "markdown",
   "metadata": {},
   "source": [
    "<br></br>\n",
    "## 逻辑斯蒂人口增长模型：logistic\n",
    "logistic(t, N0, r, K)\n",
    "<br>t：时间\n",
    "<br>N0：数或数组，现有人口数\n",
    "<br>r：数类型，人口自然增长率\n",
    "<br>K：数类型，环境资源允许的稳定人口数\n",
    "\n",
    "### 原理\n",
    "$$N_{t}=\\frac{KN_{0}}{N_{0}+(K-N_{0})e^{-rt}}$$\n",
    "<br>其中，$N_{t}$为$t$时刻的人口数， $N_{0}$为现有人口数，$r$为人口自然增长率，$K$为环境资源允许的稳定人口数\n",
    "\n",
    "### DEMO 2-1： $N_{0}=100$，$r=8$%，$K=10^{6}$，绘制人口数随时间$t$的变化曲线"
   ]
  },
  {
   "cell_type": "code",
   "execution_count": 2,
   "metadata": {},
   "outputs": [
    {
     "data": {
      "text/plain": [
       "[<matplotlib.lines.Line2D at 0x28b5eff5dc0>]"
      ]
     },
     "execution_count": 2,
     "metadata": {},
     "output_type": "execute_result"
    },
    {
     "data": {
      "image/png": "[encoded data removed]",
      "text/plain": [
       "<Figure size 432x288 with 1 Axes>"
      ]
     },
     "metadata": {
      "needs_background": "light"
     },
     "output_type": "display_data"
    }
   ],
   "source": [
    "import maysics as ms\n",
    "import numpy as np\n",
    "from matplotlib import pyplot as plt\n",
    "\n",
    "t = np.arange(0, 200, 0.1)\n",
    "Nt = ms.models.logistic(t, 100, 0.08, 1e6)\n",
    "\n",
    "plt.plot(t, Nt)"
   ]
  },
  {
   "cell_type": "markdown",
   "metadata": {},
   "source": [
    "<br></br>\n",
    "## 传染病模型：ED\n",
    "ED(I0, K, beta, R=0, E=0)\n",
    "<br>```I0```：数类型，初始感染者\n",
    "<br>```K```：数类型，样本总数\n",
    "<br>```beta```：数类型，感染率\n",
    "<br>```R```：数类型，初始康复者(带有免疫力)或死者\n",
    "<br>```E```：数类型，暴露者，染病但还不具有传染能力\n",
    "\n",
    "### ED的方法\n",
    "ED类有四个方法：```SI```、```SIR```、```SIRS```、```SEIR```\n",
    "<br>分别可以实现四种传染病模型：SI、SIR、SIRS、SEIR\n",
    "<br>SI(t)\n",
    "<br>```t```：数或一维数组，需要预测的时间\n",
    "\n",
    "SIR(gamma, t_span, method='RK45', t_eval=None)\n",
    "<br>```gamma```：数类型，康复率\n",
    "<br>```t_span```：元组类型，预测时间范围\n",
    "<br>```method```：字符串类型，微分方程求解方法，可选择'RK45'、'RK23'、'DOP835'、'Radau'、'BDF'、'LSODA'\n",
    "<br>```t_eval```：数组类型，每当t等于该数组中的值时，会生成一个数值解\n",
    "\n",
    "SIRS(gamma, alpha, t_span, method='RK45', t_eval=None)\n",
    "<br>```gamma```：数类型，康复率\n",
    "<br>```alpha```：数类型，用于衡量康复者获得免疫的时间\n",
    "<br>```t_span```：元组类型，求解的上下限\n",
    "<br>```method```：字符串类型，求解方法，可选择'RK45'、'RK23'、'DOP835'、'Radau'、'BDF'、'LSODA'\n",
    "<br>```t_eval```：数组类型，每当t等于该数组中的值时，会生成一个数值解\n",
    "\n",
    "SEIR(gamma1, gamma2, alpha, t_span, method='RK45', t_eval=None)\n",
    "<br>```gamma1```：数类型，潜伏期康复率\n",
    "<br>```gamma2```：数类型，患者康复率\n",
    "<br>```alpha```：数类型，用于衡量康复者获得免疫的时间\n",
    "<br>```t_span```：元组类型，求解的上下限\n",
    "<br>```method```：字符串类型，求解方法，可选择'RK45'、'RK23'、'DOP835'、'Radau'、'BDF'、'LSODA'\n",
    "<br>```t_eval```：数组类型，每当t等于该数组中的值时，会生成一个数值解\n",
    "\n",
    "### 原理\n",
    "#### SI模型\n",
    "SI模型有解析解：\n",
    "<br>$I=K\\frac{1-(K-I_{0})}{K+I_{0}+I_{0} e^{\\beta Kt}}$\n",
    "<br>$S=K-I$\n",
    "\n",
    "#### SIR模型\n",
    "SIR模型满足如下微分方程：\n",
    "<br>$\\frac{dS}{dt}=-\\beta IS$\n",
    "<br>$\\frac{dI}{dt}=\\beta IS-\\gamma I$\n",
    "<br>$\\frac{dR}{dt}=\\gamma I$\n",
    "\n",
    "#### SIRS模型\n",
    "SIRS模型满足如下微分方程：\n",
    "<br>$\\frac{dS}{dt}=-\\beta IS+\\alpha R$\n",
    "<br>$\\frac{dI}{dt}=\\beta IS-\\gamma I$\n",
    "<br>$\\frac{dR}{dt}=\\gamma I-\\alpha R$\n",
    "\n",
    "#### SEIR模型\n",
    "SEIR模型满足如下微分方程：\n",
    "<br>$\\frac{dS}{dt}=-\\beta IS$\n",
    "<br>$\\frac{dE}{dt}=\\beta IS-(\\alpha+\\gamma_{1})E$\n",
    "<br>$\\frac{dI}{dt}=\\alpha E-\\gamma_{2} I$\n",
    "<br>$\\frac{dR}{dt}=\\gamma_{1}E+\\gamma_{2}I$\n",
    "\n",
    "### DEMO 3-1：利用SI模型预测病情并绘图，$I_{0}$为10，$K$为十万，$\\beta$为0.1‰"
   ]
  },
  {
   "cell_type": "code",
   "execution_count": 3,
   "metadata": {},
   "outputs": [
    {
     "data": {
      "text/plain": [
       "<matplotlib.legend.Legend at 0x28b5f05ad60>"
      ]
     },
     "execution_count": 3,
     "metadata": {},
     "output_type": "execute_result"
    },
    {
     "data": {
      "image/png": "[encoded data removed]",
      "text/plain": [
       "<Figure size 432x288 with 1 Axes>"
      ]
     },
     "metadata": {
      "needs_background": "light"
     },
     "output_type": "display_data"
    }
   ],
   "source": [
    "from maysics.models import ED\n",
    "from matplotlib import pyplot as plt\n",
    "import numpy as np\n",
    "\n",
    "t = np.arange(0, 5, 0.1)\n",
    "\n",
    "ed = ED(10, 1e5, 1e-4)\n",
    "s, i = ed.SI(t)\n",
    "\n",
    "plt.plot(t, s, label='易感染者')\n",
    "plt.plot(t, i, label='感染者')\n",
    "plt.legend()"
   ]
  },
  {
   "cell_type": "markdown",
   "metadata": {},
   "source": [
    "### DEMO 3-2：利用SIR模型预测病情并绘图，$I_{0}=10$，$K=10^{5}$，$\\beta=0.05$‰，$\\gamma=0.1$"
   ]
  },
  {
   "cell_type": "code",
   "execution_count": 4,
   "metadata": {},
   "outputs": [
    {
     "data": {
      "text/plain": [
       "<matplotlib.legend.Legend at 0x28b5f0141f0>"
      ]
     },
     "execution_count": 4,
     "metadata": {},
     "output_type": "execute_result"
    },
    {
     "data": {
      "image/png": "[encoded data removed]",
      "text/plain": [
       "<Figure size 432x288 with 1 Axes>"
      ]
     },
     "metadata": {
      "needs_background": "light"
     },
     "output_type": "display_data"
    }
   ],
   "source": [
    "from maysics.models import ED\n",
    "from matplotlib import pyplot as plt\n",
    "import numpy as np\n",
    "\n",
    "t = np.arange(0, 5, 0.1)\n",
    "\n",
    "ed = ED(10, 1e5, 5e-5)\n",
    "s, i, r = ed.SIR(0.1, (0, 5), t_eval=t)\n",
    "\n",
    "plt.plot(t, s, label='易感染者')\n",
    "plt.plot(t, i, label='感染者')\n",
    "plt.plot(t, r, label='康复者')\n",
    "plt.legend()"
   ]
  },
  {
   "cell_type": "markdown",
   "metadata": {},
   "source": [
    "### DEMO 3-3：利用SIRS模型预测病情并绘图，$I_{0}=10$，$K=10^{5}$，$\\beta=0.05$‰，$\\gamma=0.1$，$\\alpha=1$"
   ]
  },
  {
   "cell_type": "code",
   "execution_count": 5,
   "metadata": {},
   "outputs": [
    {
     "data": {
      "text/plain": [
       "<matplotlib.legend.Legend at 0x28b600cf610>"
      ]
     },
     "execution_count": 5,
     "metadata": {},
     "output_type": "execute_result"
    },
    {
     "data": {
      "image/png": "[encoded data removed]",
      "text/plain": [
       "<Figure size 432x288 with 1 Axes>"
      ]
     },
     "metadata": {
      "needs_background": "light"
     },
     "output_type": "display_data"
    }
   ],
   "source": [
    "from maysics.models import ED\n",
    "from matplotlib import pyplot as plt\n",
    "import numpy as np\n",
    "\n",
    "t = np.arange(0, 5, 0.1)\n",
    "\n",
    "ed = ED(10, 1e5, 5e-5)\n",
    "s, i, r = ed.SIRS(0.1, 1, (0, 5), t_eval=t)\n",
    "\n",
    "plt.plot(t, s, label='易感染者')\n",
    "plt.plot(t, i, label='感染者')\n",
    "plt.plot(t, r, label='康复者')\n",
    "plt.legend()"
   ]
  },
  {
   "cell_type": "markdown",
   "metadata": {},
   "source": [
    "### DEMO 3-4：利用SEIR模型预测病情并绘图，$I_{0}=10$，$K=10^{5}$，$\\beta=0.05$‰，$\\gamma_{1}=0.3$，$\\gamma_{2}=0.1$，$\\alpha=1$"
   ]
  },
  {
   "cell_type": "code",
   "execution_count": 6,
   "metadata": {},
   "outputs": [
    {
     "data": {
      "text/plain": [
       "<matplotlib.legend.Legend at 0x28b600eed60>"
      ]
     },
     "execution_count": 6,
     "metadata": {},
     "output_type": "execute_result"
    },
    {
     "data": {
      "image/png": "[encoded data removed]",
      "text/plain": [
       "<Figure size 432x288 with 1 Axes>"
      ]
     },
     "metadata": {
      "needs_background": "light"
     },
     "output_type": "display_data"
    }
   ],
   "source": [
    "from maysics.models import ED\n",
    "from matplotlib import pyplot as plt\n",
    "import numpy as np\n",
    "\n",
    "t = np.arange(0, 15, 0.1)\n",
    "\n",
    "ed = ED(10, 1e5, 5e-5)\n",
    "s, e, i, r = ed.SEIR(0.3, 0.1, 1, (0, 15), t_eval=t)\n",
    "\n",
    "plt.plot(t, s, label='易感染者')\n",
    "plt.plot(t, i, label='感染者')\n",
    "plt.plot(t, r, label='康复者')\n",
    "plt.legend()"
   ]
  },
  {
   "cell_type": "markdown",
   "metadata": {},
   "source": [
    "<br></br>\n",
    "## 灰色系统模型GM(1, 1)：GM\n",
    "GM()\n",
    "\n",
    "### GM的方法\n",
    "下设可调用方法```fit```\n",
    "<br>fit(y, acc=1)\n",
    "<br>y：一维数组\n",
    "<br>acc：数类型，可选，调整级比的精度\n",
    "\n",
    "### 调整级比时的精度\n",
    "在调整级比时，模型会将数列循环平移acc个单位，直到$\\lambda(k)$∈$(e^{-2/(n+1)}, e^{2/(n+2)})$\n",
    "<br>其中，$\\lambda(k)=\\frac{x(0)(k-1)}{x(0)(k)}$，$k = 2, 3, ..., n$\n",
    "<br>最后平移的长度可以通过调用C属性获取\n",
    "### DEMO 4-1：acc参数调用和C属性获取"
   ]
  },
  {
   "cell_type": "code",
   "execution_count": 7,
   "metadata": {},
   "outputs": [
    {
     "name": "stdout",
     "output_type": "stream",
     "text": [
      "acc=1：16\n",
      "acc=0.1：15.69999999999996\n"
     ]
    }
   ],
   "source": [
    "from maysics.models import GM\n",
    "\n",
    "year = [-3, 2, 4, 8, 11]\n",
    "\n",
    "GM.fit(year)\n",
    "print('acc=1：{}'.format(GM.C))\n",
    "\n",
    "GM.fit(year, acc=0.1)\n",
    "print('acc=0.1：{}'.format(GM.C))"
   ]
  },
  {
   "cell_type": "markdown",
   "metadata": {},
   "source": [
    "### DEMO 4-2：灾变预测：已知出现灾害的年份为(3, 8, 10, 14, 17)，求多少年后出现下一次灾害"
   ]
  },
  {
   "cell_type": "code",
   "execution_count": 8,
   "metadata": {},
   "outputs": [
    {
     "name": "stdout",
     "output_type": "stream",
     "text": [
      "第六次灾害年份：21.122255207674726\n",
      "间隔时间：4.122255207674726\n"
     ]
    }
   ],
   "source": [
    "from maysics.models import GM\n",
    "\n",
    "year = [3, 8, 10, 14, 17]\n",
    "\n",
    "GM.fit(year)\n",
    "\n",
    "year_6 = GM.predict(6)\n",
    "delta_year = year_6 - 17\n",
    "\n",
    "print('第六次灾害年份：{}\\n间隔时间：{}'.format(year_6, delta_year))"
   ]
  },
  {
   "cell_type": "markdown",
   "metadata": {},
   "source": [
    "因此第六次灾害年份约为21，约4年后出现下一次灾害"
   ]
  },
  {
   "cell_type": "markdown",
   "metadata": {},
   "source": [
    "<br></br>\n",
    "## 莱斯利模型：Leslie\n",
    "Leslie(N0, r, s, age_range=1)\n",
    "<br>```N0```：一维数组，各年龄层初始个体数目\n",
    "<br>```r```：一维数组，各年龄层的生殖率\n",
    "<br>```s```：一维数组，各年龄层到下一个年龄层的存活率\n",
    "<br>```age_range```：整型，年龄段的跨度\n",
    "\n",
    "### Leslie的方法\n",
    "Leslie类下设一个可调用方法```predict```\n",
    "<br>predict(t)\n",
    "<br>```t```：数或一维数组，需要预测的时间\n",
    "\n",
    "### 原理\n",
    "$N_{t}=N_{0}M^{t}$\n",
    "<br>$N_{t}$是t时刻的个体数行矩阵，$N_{0}$是各年龄层初始个体数目的行矩阵，要求各年龄层跨度一致，t须是年龄层跨度的整数倍\n",
    "<br>$M$是莱斯利矩阵\n",
    "<br>$$\n",
    "M=\\left( \\begin{array}{cc} f_{1} & f_{2} & \\cdots & f_{m-1} & f_{m} \\\\\n",
    "s_{1} & 0 & \\cdots & 0 & 0 \\\\\n",
    "0 & s_{2} & \\cdots & 0 & 0 \\\\\n",
    "\\vdots & \\vdots & \\ddots & \\vdots & \\vdots \\\\\n",
    "0 & 0 & \\cdots & s_{m-1} & 0 \\end{array} \\right)\n",
    "$$\n",
    "<br>$f_{i}$表示第i个年龄段的生殖率，$s_{i}$表示第i个年龄段的存活率\n",
    "\n",
    "### DEMO 5-1：预测种群在20年后的年龄结构"
   ]
  },
  {
   "cell_type": "code",
   "execution_count": 9,
   "metadata": {},
   "outputs": [
    {
     "data": {
      "text/plain": [
       "array([12.9 , 13.18, 13.62,  7.03,  1.34])"
      ]
     },
     "execution_count": 9,
     "metadata": {},
     "output_type": "execute_result"
    }
   ],
   "source": [
    "from maysics.models import Leslie\n",
    "import numpy as np\n",
    "\n",
    "N0 = [10, 10, 10, 10, 10]\n",
    "r = [0, 0.3, 0.8, 0.5, 0.1]\n",
    "s = [1, 0.8, 0.5, 0.3]\n",
    "\n",
    "leslie = Leslie(N0, r, s, 5)\n",
    "leslie.predict(20)"
   ]
  }
 ],
 "metadata": {
  "kernelspec": {
   "display_name": "Python 3 (ipykernel)",
   "language": "python",
   "name": "python3"
  },
  "language_info": {
   "codemirror_mode": {
    "name": "ipython",
    "version": 3
   },
   "file_extension": ".py",
   "mimetype": "text/x-python",
   "name": "python",
   "nbconvert_exporter": "python",
   "pygments_lexer": "ipython3",
   "version": "3.10.4"
  }
 },
 "nbformat": 4,
 "nbformat_minor": 4
}
