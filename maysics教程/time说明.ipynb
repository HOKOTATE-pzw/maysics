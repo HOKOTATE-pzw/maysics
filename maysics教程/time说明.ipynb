{
 "cells": [
  {
   "cell_type": "markdown",
   "metadata": {},
   "source": [
    "# maysics.time模块使用说明\n",
    "\n",
    "time模块有八个函数\n",
    "\n",
    "|名称|作用|\n",
    "|---|---|\n",
    "|before|搜索之前的时间|\n",
    "|after|搜索之后的时间|\n",
    "|equal|搜索某个时间|\n",
    "|between|搜索之间的时间|\n",
    "|add|时间相加|\n",
    "|sub|时间相减|\n",
    "|mul|时间相乘|\n",
    "|div|时间相除|"
   ]
  },
  {
   "cell_type": "markdown",
   "metadata": {},
   "source": [
    "<br></br>\n",
    "## 时间搜索：before、after、equal和between\n",
    "before(time_list, time, itself=False, sep=True)\n",
    "<br>after(time_list, time, itself=False, sep=True)\n",
    "<br>```time_list```：列表类型，时间列表\n",
    "<br>```time```：字符串类型，设定的时间点\n",
    "<br>```itself```：布尔类型，寻找时是否包括设定的时间点本身\n",
    "<br>```sep```：布尔类型，time_list中的元素是否有符号将年月日分开\n",
    "\n",
    "equal(time_list, time, sep=True, equal=True)\n",
    "<br>```time_list```：列表类型，时间列表\n",
    "<br>```time```：列表类型，设定的时间点列表\n",
    "<br>```sep```：布尔类型，time_list中的元素是否有符号将年月日分开\n",
    "<br>```equal```：布尔类型，True表示搜索与time相同的时间，False表示搜索与time不相同的时间\n",
    "\n",
    "between(time_list, begin, end, begin_itself=False, end_itself=False, sep=True)\n",
    "<br>```time_list```：列表类型，时间列表\n",
    "<br>```begin```：字符串类型，设定的开始时间点\n",
    "<br>```end```：字符串类型，设定的结束时间点\n",
    "<br>```begin_itself```：布尔类型，寻找时是否包括设定的开始时间点本身\n",
    "<br>```end_itself```：布尔类型，寻找时是否包括设定的结束时间点本身\n",
    "<br>```sep```：布尔类型，time_list中的元素是否有符号将年月日分开\n",
    "<br>&emsp;当sep=True时，待搜索时间列表中的时间表示格式如：1970-01-01\n",
    "<br>&emsp;当sep=False时，待搜索时间列表中的时间表示格式如：19700101\n",
    "\n",
    "### DEMO 1-1：搜索$t_{0}$时间点之前的时间"
   ]
  },
  {
   "cell_type": "code",
   "execution_count": 1,
   "metadata": {},
   "outputs": [
    {
     "name": "stdout",
     "output_type": "stream",
     "text": [
      "不包含自身： (['1954-09-20', '1980-01-01', '1982-12-04', '1991-04-09'], [0, 1, 2, 3])\n",
      "包含自身： (['1954-09-20', '1980-01-01', '1982-12-04', '1991-04-09', '1997-10-01'], [0, 1, 2, 3, 4])\n"
     ]
    }
   ],
   "source": [
    "import maysics as ms\n",
    "\n",
    "t0 = '1997-10-01'\n",
    "\n",
    "t_list = ['1954-09-20',\n",
    "          '1980-01-01',\n",
    "          '1982-12-04',\n",
    "          '1991-04-09',\n",
    "          '1997-10-01',\n",
    "          '2017-07-01',\n",
    "          '2021-01-01']\n",
    "\n",
    "print('不包含自身：', ms.time.before(t_list, t0))\n",
    "print('包含自身：', ms.time.before(t_list, t0, itself=True))"
   ]
  },
  {
   "cell_type": "markdown",
   "metadata": {},
   "source": [
    "### DEMO 1-2：搜索$𝑡_{0}$时间点之后的时间"
   ]
  },
  {
   "cell_type": "code",
   "execution_count": 2,
   "metadata": {},
   "outputs": [
    {
     "name": "stdout",
     "output_type": "stream",
     "text": [
      "不包含自身： (['2017-07-01', '2021-01-01'], [5, 6])\n",
      "包含自身： (['1997-10-01', '2017-07-01', '2021-01-01'], [4, 5, 6])\n"
     ]
    }
   ],
   "source": [
    "import maysics as ms\n",
    "\n",
    "t0 = '1997-10-01'\n",
    "\n",
    "t_list = ['1954-09-20',\n",
    "          '1980-01-01',\n",
    "          '1982-12-04',\n",
    "          '1991-04-09',\n",
    "          '1997-10-01',\n",
    "          '2017-07-01',\n",
    "          '2021-01-01']\n",
    "\n",
    "print('不包含自身：', ms.time.after(t_list, t0))\n",
    "print('包含自身：', ms.time.after(t_list, t0, itself=True))"
   ]
  },
  {
   "cell_type": "markdown",
   "metadata": {},
   "source": [
    "### DEMO 1-3：搜索和$𝑡_{0}$相等的时间点位置"
   ]
  },
  {
   "cell_type": "code",
   "execution_count": 3,
   "metadata": {},
   "outputs": [
    {
     "data": {
      "text/plain": [
       "(['1997-10-01'], [4])"
      ]
     },
     "execution_count": 3,
     "metadata": {},
     "output_type": "execute_result"
    }
   ],
   "source": [
    "import maysics as ms\n",
    "\n",
    "t0 = ['1997-10-01']\n",
    "\n",
    "t_list = ['1954-09-20',\n",
    "          '1980-01-01',\n",
    "          '1982-12-04',\n",
    "          '1991-04-09',\n",
    "          '1997-10-01',\n",
    "          '2017-07-01',\n",
    "          '2021-01-01']\n",
    "\n",
    "ms.time.equal(t_list, t0)"
   ]
  },
  {
   "cell_type": "markdown",
   "metadata": {},
   "source": [
    "### DEMO 1-4：搜索和$𝑡_{0}$不相等的时间点位置"
   ]
  },
  {
   "cell_type": "code",
   "execution_count": 4,
   "metadata": {},
   "outputs": [
    {
     "data": {
      "text/plain": [
       "(['1954-09-20',\n",
       "  '1980-01-01',\n",
       "  '1982-12-04',\n",
       "  '1991-04-09',\n",
       "  '2017-07-01',\n",
       "  '2021-01-01'],\n",
       " [0, 1, 2, 3, 5, 6])"
      ]
     },
     "execution_count": 4,
     "metadata": {},
     "output_type": "execute_result"
    }
   ],
   "source": [
    "import maysics as ms\n",
    "\n",
    "t0 = ['1997-10-01']\n",
    "\n",
    "t_list = ['1954-09-20',\n",
    "          '1980-01-01',\n",
    "          '1982-12-04',\n",
    "          '1991-04-09',\n",
    "          '1997-10-01',\n",
    "          '2017-07-01',\n",
    "          '2021-01-01']\n",
    "\n",
    "ms.time.equal(t_list, t0, equal=False)"
   ]
  },
  {
   "cell_type": "markdown",
   "metadata": {},
   "source": [
    "### DEMO 1-5：搜索和$𝑡_{0}$列表任意时间相等的时间点位置"
   ]
  },
  {
   "cell_type": "code",
   "execution_count": 5,
   "metadata": {},
   "outputs": [
    {
     "data": {
      "text/plain": [
       "(['1982-12-04', '1997-10-01'], [2, 4])"
      ]
     },
     "execution_count": 5,
     "metadata": {},
     "output_type": "execute_result"
    }
   ],
   "source": [
    "import maysics as ms\n",
    "\n",
    "t0 = ['1982-12-04', '1997-10-01']\n",
    "\n",
    "t_list = ['1954-09-20',\n",
    "          '1980-01-01',\n",
    "          '1982-12-04',\n",
    "          '1991-04-09',\n",
    "          '1997-10-01',\n",
    "          '2017-07-01',\n",
    "          '2021-01-01']\n",
    "\n",
    "ms.time.equal(t_list, t0)"
   ]
  },
  {
   "cell_type": "markdown",
   "metadata": {},
   "source": [
    "### DEMO 1-6：搜索在$𝑡_{1}$和$t_{2}$之间的时间点位置"
   ]
  },
  {
   "cell_type": "code",
   "execution_count": 6,
   "metadata": {},
   "outputs": [
    {
     "name": "stdout",
     "output_type": "stream",
     "text": [
      "不包含开始和结尾自身： (['1991-04-09'], [3])\n",
      "包含开始和结尾自身： (['1982-12-04', '1991-04-09', '1997-10-01'], [2, 3, 4])\n"
     ]
    }
   ],
   "source": [
    "import maysics as ms\n",
    "\n",
    "t1 = '1982-12-04'\n",
    "t2 = '1997-10-01'\n",
    "\n",
    "t_list = ['1954-09-20',\n",
    "          '1980-01-01',\n",
    "          '1982-12-04',\n",
    "          '1991-04-09',\n",
    "          '1997-10-01',\n",
    "          '2017-07-01',\n",
    "          '2021-01-01']\n",
    "\n",
    "print('不包含开始和结尾自身：', ms.time.between(t_list, t1, t2))\n",
    "print('包含开始和结尾自身：', ms.time.between(t_list, t1, t2, begin_itself=True, end_itself=True))"
   ]
  },
  {
   "cell_type": "markdown",
   "metadata": {},
   "source": [
    "<br></br>\n",
    "## 时间运算：add、sub、mul、div\n",
    "add(*time)\n",
    "<br>sub(time_1, time_2)\n",
    "<br>mul(time, num)\n",
    "<br>div(time, divisor)\n",
    "\n",
    "### 功能说明\n",
    "时间格式：[时, 分, 秒]\n",
    "\n",
    "### DEMO 2-1：时间相加"
   ]
  },
  {
   "cell_type": "code",
   "execution_count": 7,
   "metadata": {},
   "outputs": [
    {
     "data": {
      "text/plain": [
       "array([14, 32, 45])"
      ]
     },
     "execution_count": 7,
     "metadata": {},
     "output_type": "execute_result"
    }
   ],
   "source": [
    "import maysics as ms\n",
    "\n",
    "t_list = [[12, 3, 54], [1, 57, 52], [0, 30, 59]]\n",
    "ms.time.add(*t_list)"
   ]
  },
  {
   "cell_type": "markdown",
   "metadata": {},
   "source": [
    "### DEMO 2-2：时间相减"
   ]
  },
  {
   "cell_type": "code",
   "execution_count": 8,
   "metadata": {},
   "outputs": [
    {
     "data": {
      "text/plain": [
       "array([10,  6,  2])"
      ]
     },
     "execution_count": 8,
     "metadata": {},
     "output_type": "execute_result"
    }
   ],
   "source": [
    "import maysics as ms\n",
    "\n",
    "t1 = [12, 3, 54]\n",
    "t2 = [1, 57, 52]\n",
    "\n",
    "# t1 - t2\n",
    "ms.time.sub(t1, t2)"
   ]
  },
  {
   "cell_type": "markdown",
   "metadata": {},
   "source": [
    "### DEMO 2-3：时间与数相乘"
   ]
  },
  {
   "cell_type": "code",
   "execution_count": 9,
   "metadata": {},
   "outputs": [
    {
     "data": {
      "text/plain": [
       "array([24,  7, 48])"
      ]
     },
     "execution_count": 9,
     "metadata": {},
     "output_type": "execute_result"
    }
   ],
   "source": [
    "import maysics as ms\n",
    "\n",
    "t = [12, 3, 54]\n",
    "\n",
    "# 乘2\n",
    "ms.time.mul(t, 2)"
   ]
  },
  {
   "cell_type": "markdown",
   "metadata": {},
   "source": [
    "### DEMO 2-4：时间与数相除"
   ]
  },
  {
   "cell_type": "code",
   "execution_count": 10,
   "metadata": {},
   "outputs": [
    {
     "data": {
      "text/plain": [
       "array([ 6.,  1., 57.])"
      ]
     },
     "execution_count": 10,
     "metadata": {},
     "output_type": "execute_result"
    }
   ],
   "source": [
    "import maysics as ms\n",
    "\n",
    "t = [12, 3, 54]\n",
    "\n",
    "# 除以2\n",
    "ms.time.div(t, 2)"
   ]
  },
  {
   "cell_type": "markdown",
   "metadata": {},
   "source": [
    "### DEMO 2-5：时间与时间相除"
   ]
  },
  {
   "cell_type": "code",
   "execution_count": 11,
   "metadata": {},
   "outputs": [
    {
     "data": {
      "text/plain": [
       "2.002769315978953"
      ]
     },
     "execution_count": 11,
     "metadata": {},
     "output_type": "execute_result"
    }
   ],
   "source": [
    "import maysics as ms\n",
    "\n",
    "t1 = [12, 3, 54]\n",
    "t2 = [6, 1, 57]\n",
    "\n",
    "# t1 / t2\n",
    "ms.time.div(t1, t2)"
   ]
  }
 ],
 "metadata": {
  "kernelspec": {
   "display_name": "Python 3 (ipykernel)",
   "language": "python",
   "name": "python3"
  },
  "language_info": {
   "codemirror_mode": {
    "name": "ipython",
    "version": 3
   },
   "file_extension": ".py",
   "mimetype": "text/x-python",
   "name": "python",
   "nbconvert_exporter": "python",
   "pygments_lexer": "ipython3",
   "version": "3.10.4"
  }
 },
 "nbformat": 4,
 "nbformat_minor": 4
}
