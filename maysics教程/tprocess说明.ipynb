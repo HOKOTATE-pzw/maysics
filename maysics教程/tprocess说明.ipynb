{
 "cells": [
  {
   "cell_type": "markdown",
   "metadata": {},
   "source": [
    "# maysics.tprocess模块使用说明\n",
    "\n",
    "tprocess模块有八个函数\n",
    "\n",
    "|名称|作用|\n",
    "|---|---|\n",
    "|tbefore|搜索之前的时间|\n",
    "|tafter|搜索之后的时间|\n",
    "|tequal|搜索某个时间|\n",
    "|tbetween|搜索之间的时间|\n",
    "|tadd|时间相加|\n",
    "|tsub|时间相减|\n",
    "|tmul|时间相乘|\n",
    "|tdiv|时间相除|\n",
    "\n",
    "## 时间搜索：tbefore、tafter、tequal和tbetween\n",
    "以上四个函数都有一个共同的默认参数：```sep=True```\n",
    "<br>当sep=True时，待搜索时间列表中的时间表示格式如：1970-01-01\n",
    "<br>当sep=False时，待搜索时间列表中的时间表示格式如：19700101\n",
    "<br>函数的返回值：元组，(时间列表, 索引列表)\n",
    "\n",
    "### DEMO 1-1：搜索$t_{0}$时间点之前的时间"
   ]
  },
  {
   "cell_type": "code",
   "execution_count": 1,
   "metadata": {},
   "outputs": [
    {
     "name": "stdout",
     "output_type": "stream",
     "text": [
      "不包含自身： (['1954-09-20', '1980-01-01', '1982-12-04', '1991-04-09'], [0, 1, 2, 3])\n",
      "包含自身： (['1954-09-20', '1980-01-01', '1982-12-04', '1991-04-09', '1997-10-01'], [0, 1, 2, 3, 4])\n"
     ]
    }
   ],
   "source": [
    "from maysics.tprocess import tbefore\n",
    "\n",
    "t0 = '1997-10-01'\n",
    "\n",
    "t_list = ['1954-09-20',\n",
    "          '1980-01-01',\n",
    "          '1982-12-04',\n",
    "          '1991-04-09',\n",
    "          '1997-10-01',\n",
    "          '2017-07-01',\n",
    "          '2021-01-01']\n",
    "\n",
    "print('不包含自身：', tbefore(t_list, t0))\n",
    "print('包含自身：', tbefore(t_list, t0, itself=True))"
   ]
  },
  {
   "cell_type": "markdown",
   "metadata": {},
   "source": [
    "### DEMO 1-2：搜索$𝑡_{0}$时间点之后的时间"
   ]
  },
  {
   "cell_type": "code",
   "execution_count": 2,
   "metadata": {},
   "outputs": [
    {
     "name": "stdout",
     "output_type": "stream",
     "text": [
      "不包含自身： (['2017-07-01', '2021-01-01'], [5, 6])\n",
      "包含自身： (['1997-10-01', '2017-07-01', '2021-01-01'], [4, 5, 6])\n"
     ]
    }
   ],
   "source": [
    "from maysics.tprocess import tafter\n",
    "\n",
    "t0 = '1997-10-01'\n",
    "\n",
    "t_list = ['1954-09-20',\n",
    "          '1980-01-01',\n",
    "          '1982-12-04',\n",
    "          '1991-04-09',\n",
    "          '1997-10-01',\n",
    "          '2017-07-01',\n",
    "          '2021-01-01']\n",
    "\n",
    "print('不包含自身：', tafter(t_list, t0))\n",
    "print('包含自身：', tafter(t_list, t0, itself=True))"
   ]
  },
  {
   "cell_type": "markdown",
   "metadata": {},
   "source": [
    "### DEMO 1-3：搜索和$𝑡_{0}$相等的时间点位置"
   ]
  },
  {
   "cell_type": "code",
   "execution_count": 3,
   "metadata": {},
   "outputs": [
    {
     "data": {
      "text/plain": [
       "(['1997-10-01'], [4])"
      ]
     },
     "execution_count": 3,
     "metadata": {},
     "output_type": "execute_result"
    }
   ],
   "source": [
    "from maysics.tprocess import tequal\n",
    "\n",
    "t0 = ['1997-10-01']\n",
    "\n",
    "t_list = ['1954-09-20',\n",
    "          '1980-01-01',\n",
    "          '1982-12-04',\n",
    "          '1991-04-09',\n",
    "          '1997-10-01',\n",
    "          '2017-07-01',\n",
    "          '2021-01-01']\n",
    "\n",
    "tequal(t_list, t0)"
   ]
  },
  {
   "cell_type": "markdown",
   "metadata": {},
   "source": [
    "### DEMO 1-4：搜索和$𝑡_{0}$不相等的时间点位置"
   ]
  },
  {
   "cell_type": "code",
   "execution_count": 4,
   "metadata": {},
   "outputs": [
    {
     "data": {
      "text/plain": [
       "(['1954-09-20',\n",
       "  '1980-01-01',\n",
       "  '1982-12-04',\n",
       "  '1991-04-09',\n",
       "  '2017-07-01',\n",
       "  '2021-01-01'],\n",
       " [0, 1, 2, 3, 5, 6])"
      ]
     },
     "execution_count": 4,
     "metadata": {},
     "output_type": "execute_result"
    }
   ],
   "source": [
    "from maysics.tprocess import tequal\n",
    "\n",
    "t0 = ['1997-10-01']\n",
    "\n",
    "t_list = ['1954-09-20',\n",
    "          '1980-01-01',\n",
    "          '1982-12-04',\n",
    "          '1991-04-09',\n",
    "          '1997-10-01',\n",
    "          '2017-07-01',\n",
    "          '2021-01-01']\n",
    "\n",
    "tequal(t_list, t0, equal=False)"
   ]
  },
  {
   "cell_type": "markdown",
   "metadata": {},
   "source": [
    "### DEMO 1-5：搜索和$𝑡_{0}$列表任意时间相等的时间点位置"
   ]
  },
  {
   "cell_type": "code",
   "execution_count": 5,
   "metadata": {},
   "outputs": [
    {
     "data": {
      "text/plain": [
       "(['1982-12-04', '1997-10-01'], [2, 4])"
      ]
     },
     "execution_count": 5,
     "metadata": {},
     "output_type": "execute_result"
    }
   ],
   "source": [
    "from maysics.tprocess import tequal\n",
    "\n",
    "t0 = ['1982-12-04', '1997-10-01']\n",
    "\n",
    "t_list = ['1954-09-20',\n",
    "          '1980-01-01',\n",
    "          '1982-12-04',\n",
    "          '1991-04-09',\n",
    "          '1997-10-01',\n",
    "          '2017-07-01',\n",
    "          '2021-01-01']\n",
    "\n",
    "tequal(t_list, t0)"
   ]
  },
  {
   "cell_type": "markdown",
   "metadata": {},
   "source": [
    "### DEMO 1-6：搜索在$𝑡_{1}$和$t_{2}$之间的时间点位置"
   ]
  },
  {
   "cell_type": "code",
   "execution_count": 6,
   "metadata": {},
   "outputs": [
    {
     "name": "stdout",
     "output_type": "stream",
     "text": [
      "不包含开始和结尾自身： (['1991-04-09'], [3])\n",
      "包含开始和结尾自身： (['1982-12-04', '1991-04-09', '1997-10-01'], [2, 3, 4])\n"
     ]
    }
   ],
   "source": [
    "from maysics.tprocess import tbetween\n",
    "\n",
    "t1 = '1982-12-04'\n",
    "t2 = '1997-10-01'\n",
    "\n",
    "t_list = ['1954-09-20',\n",
    "          '1980-01-01',\n",
    "          '1982-12-04',\n",
    "          '1991-04-09',\n",
    "          '1997-10-01',\n",
    "          '2017-07-01',\n",
    "          '2021-01-01']\n",
    "\n",
    "print('不包含开始和结尾自身：', tbetween(t_list, t1, t2))\n",
    "print('包含开始和结尾自身：', tbetween(t_list, t1, t2, begin_itself=True, end_itself=True))"
   ]
  },
  {
   "cell_type": "markdown",
   "metadata": {},
   "source": [
    "<br></br>\n",
    "## 时间运算：tadd、tsub、tmul、tdiv\n",
    "时间格式：[时, 分, 秒]\n",
    "\n",
    "### DEMO 2-1：时间相加"
   ]
  },
  {
   "cell_type": "code",
   "execution_count": 7,
   "metadata": {},
   "outputs": [
    {
     "data": {
      "text/plain": [
       "array([14, 32, 45])"
      ]
     },
     "execution_count": 7,
     "metadata": {},
     "output_type": "execute_result"
    }
   ],
   "source": [
    "from maysics.tprocess import tadd\n",
    "\n",
    "t_list = [[12, 3, 54], [1, 57, 52], [0, 30, 59]]\n",
    "tadd(*t_list)"
   ]
  },
  {
   "cell_type": "markdown",
   "metadata": {},
   "source": [
    "### DEMO 2-2：时间相减"
   ]
  },
  {
   "cell_type": "code",
   "execution_count": 8,
   "metadata": {},
   "outputs": [
    {
     "data": {
      "text/plain": [
       "array([10,  6,  2])"
      ]
     },
     "execution_count": 8,
     "metadata": {},
     "output_type": "execute_result"
    }
   ],
   "source": [
    "from maysics.tprocess import tsub\n",
    "\n",
    "t1 = [12, 3, 54]\n",
    "t2 = [1, 57, 52]\n",
    "\n",
    "# t1 - t2\n",
    "tsub(t1, t2)"
   ]
  },
  {
   "cell_type": "markdown",
   "metadata": {},
   "source": [
    "### DEMO 2-3：时间与数相乘"
   ]
  },
  {
   "cell_type": "code",
   "execution_count": 9,
   "metadata": {},
   "outputs": [
    {
     "data": {
      "text/plain": [
       "array([24,  7, 48])"
      ]
     },
     "execution_count": 9,
     "metadata": {},
     "output_type": "execute_result"
    }
   ],
   "source": [
    "from maysics.tprocess import tmul\n",
    "\n",
    "t = [12, 3, 54]\n",
    "\n",
    "# 乘2\n",
    "tmul(t, 2)"
   ]
  },
  {
   "cell_type": "markdown",
   "metadata": {},
   "source": [
    "### DEMO 2-4：时间与数相除"
   ]
  },
  {
   "cell_type": "code",
   "execution_count": 10,
   "metadata": {},
   "outputs": [
    {
     "data": {
      "text/plain": [
       "array([ 6.,  1., 57.])"
      ]
     },
     "execution_count": 10,
     "metadata": {},
     "output_type": "execute_result"
    }
   ],
   "source": [
    "from maysics.tprocess import tdiv\n",
    "\n",
    "t = [12, 3, 54]\n",
    "\n",
    "# 除以2\n",
    "tdiv(t, 2)"
   ]
  },
  {
   "cell_type": "markdown",
   "metadata": {},
   "source": [
    "### DEMO 2-5：时间与时间相除"
   ]
  },
  {
   "cell_type": "code",
   "execution_count": 11,
   "metadata": {},
   "outputs": [
    {
     "data": {
      "text/plain": [
       "2.002769315978953"
      ]
     },
     "execution_count": 11,
     "metadata": {},
     "output_type": "execute_result"
    }
   ],
   "source": [
    "from maysics.tprocess import tdiv\n",
    "\n",
    "t1 = [12, 3, 54]\n",
    "t2 = [6, 1, 57]\n",
    "\n",
    "# t1 / t2\n",
    "tdiv(t1, t2, time_mode=True)"
   ]
  }
 ],
 "metadata": {
  "kernelspec": {
   "display_name": "Python 3",
   "language": "python",
   "name": "python3"
  },
  "language_info": {
   "codemirror_mode": {
    "name": "ipython",
    "version": 3
   },
   "file_extension": ".py",
   "mimetype": "text/x-python",
   "name": "python",
   "nbconvert_exporter": "python",
   "pygments_lexer": "ipython3",
   "version": "3.8.6"
  }
 },
 "nbformat": 4,
 "nbformat_minor": 4
}
