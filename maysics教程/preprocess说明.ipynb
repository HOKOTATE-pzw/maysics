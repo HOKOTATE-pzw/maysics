{
 "cells": [
  {
   "cell_type": "markdown",
   "metadata": {},
   "source": [
    "# maysics.preprocess模块使用说明\n",
    "\n",
    "preprocess模块有三个类\n",
    "\n",
    "|名称|作用|\n",
    "|---|---|\n",
    "|Minmax|归一化|\n",
    "|RC|相关系数|\n",
    "|Standard|标准化|\n",
    "\n",
    "preprocess模块有十个函数\n",
    "\n",
    "|名称|作用|\n",
    "|---|---|\n",
    "|preview_file|数据预览|\n",
    "|preview|数据预览|\n",
    "|sample_pad|二维样本填充|\n",
    "|shuffle|打乱数据|\n",
    "|data_split|数据分离|\n",
    "|data_loader|数据随机生成器|\n",
    "|kfold|k折数据分离|\n",
    "|standard|标准化|\n",
    "|minmax|归一化|\n",
    "|normalizer|模缩放至1|"
   ]
  }
 ],
 "metadata": {
  "kernelspec": {
   "display_name": "Python 3",
   "language": "python",
   "name": "python3"
  },
  "language_info": {
   "codemirror_mode": {
    "name": "ipython",
    "version": 3
   },
   "file_extension": ".py",
   "mimetype": "text/x-python",
   "name": "python",
   "nbconvert_exporter": "python",
   "pygments_lexer": "ipython3",
   "version": "3.8.6"
  }
 },
 "nbformat": 4,
 "nbformat_minor": 4
}
