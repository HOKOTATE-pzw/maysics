{
 "cells": [
  {
   "cell_type": "markdown",
   "metadata": {},
   "source": [
    "# maysics.constant模块使用说明\n",
    "\n",
    "constant模块包含以下常数：\n",
    "\n",
    "|名称|意义|\n",
    "|---|---|\n",
    "|chaos_1|第一费根鲍姆常数|\n",
    "|chaos_2|第二费根鲍姆常数|\n",
    "|e|自然常数|\n",
    "|gamma|欧拉-马歇罗尼常数|\n",
    "|golden|黄金比例|\n",
    "|K|兰道-拉马努金常数|\n",
    "|K0|辛钦常数|\n",
    "|pi|圆周率|\n",
    "|AU|天文单位|\n",
    "|atm|标准大气压|\n",
    "|c|真空光速|\n",
    "|c_e|元电荷|\n",
    "|epsilon|真空介电常数|\n",
    "|g|重力加速度|\n",
    "|G|万有引力常数|\n",
    "|h|普朗克常数|\n",
    "|hr|约化普朗克常数|\n",
    "|k|玻尔兹曼常数|\n",
    "|lambdac|康普顿波长|\n",
    "|ly|光年|\n",
    "|m_e|电子质量|\n",
    "|m_earth|地球质量|\n",
    "|m_n|中子质量|\n",
    "|m_p|质子质量|\n",
    "|m_s|太阳质量|\n",
    "|miu|真空磁导率|\n",
    "|NA|阿伏伽德罗常数|\n",
    "|pc|秒差距|\n",
    "|Platonic_year|柏拉图年|\n",
    "|R|理想气体常数|\n",
    "|r_earth|地球平均半径|\n",
    "|r_sun|太阳平均半径|\n",
    "|r_e_m|地月平均距离|\n",
    "|SB|斯特藩-玻尔兹曼常量|\n",
    "|v1|第一宇宙速度|\n",
    "|v2|第二宇宙速度|\n",
    "|v3|第三宇宙速度|\n",
    "\n",
    "constant模块包含以下函数：\n",
    "\n",
    "|名称|意义|\n",
    "|---|---|\n",
    "|lp|勒让德多项式|\n",
    "|lpn|勒让德多项式的模|\n",
    "|alp|连带勒让德多项式|\n",
    "|alpn|连带勒让德多项式的模|\n",
    "|hp|厄米多项式|"
   ]
  }
 ],
 "metadata": {
  "kernelspec": {
   "display_name": "Python 3",
   "language": "python",
   "name": "python3"
  },
  "language_info": {
   "codemirror_mode": {
    "name": "ipython",
    "version": 3
   },
   "file_extension": ".py",
   "mimetype": "text/x-python",
   "name": "python",
   "nbconvert_exporter": "python",
   "pygments_lexer": "ipython3",
   "version": "3.8.10"
  }
 },
 "nbformat": 4,
 "nbformat_minor": 4
}
