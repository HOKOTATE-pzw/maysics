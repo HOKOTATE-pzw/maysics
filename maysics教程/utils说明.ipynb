{
 "cells": [
  {
   "cell_type": "markdown",
   "metadata": {},
   "source": [
    "# maysics.utils模块使用说明\n",
    "\n",
    "utils模块包含一个类：\n",
    "\n",
    "|名称|作用|\n",
    "|---|---|\n",
    "|A_P|幅-频和相-频分析|\n",
    "\n",
    "utils模块包含七个函数：\n",
    "\n",
    "|名称|作用|\n",
    "|---|---|\n",
    "|grid_net|生成网格点|\n",
    "|e_distance|欧氏距离|\n",
    "|e_distances|欧氏距离|\n",
    "|m_distance|马氏距离|\n",
    "|m_distances|马氏距离|\n",
    "|discrete|绘制离散函数|\n",
    "|circle|绘制圆|"
   ]
  },
  {
   "cell_type": "markdown",
   "metadata": {},
   "source": [
    "<br></br>\n",
    "## A_P：幅-频分析和相-频分析\n",
    "A_P(X)\n",
    "<br>```X```是信号的频域表示\n",
    "\n",
    "### A_P下设三个可调用函数\n",
    "```fit```：分析函数\n",
    "<br>```show```：绘图并显示\n",
    "<br>```savefig```：绘图并保存\n",
    "\n",
    "### DEMO 1-1：绘制连续函数"
   ]
  },
  {
   "cell_type": "code",
   "execution_count": 4,
   "metadata": {},
   "outputs": [
    {
     "data": {
      "image/png": "[encoded data removed]",
      "text/plain": [
       "<Figure size 432x288 with 2 Axes>"
      ]
     },
     "metadata": {
      "needs_background": "light"
     },
     "output_type": "display_data"
    }
   ],
   "source": [
    "from maysics.utils import A_P\n",
    "import numpy as np\n",
    "\n",
    "def H(f):\n",
    "    y = f\n",
    "    x = y[abs(y) <= 1]\n",
    "    y[abs(y) <= 1] = np.e**(1j*x)\n",
    "    y[abs(y) > 1] = 0\n",
    "    return y\n",
    "\n",
    "\n",
    "ap = A_P(H)\n",
    "f = np.arange(-4, 4, 0.01)\n",
    "ap.fit(f)\n",
    "ap.show()"
   ]
  },
  {
   "cell_type": "markdown",
   "metadata": {},
   "source": [
    "### DEMO 1-2：绘制离散函数"
   ]
  },
  {
   "cell_type": "code",
   "execution_count": 5,
   "metadata": {},
   "outputs": [
    {
     "data": {
      "image/png": "[encoded data removed]",
      "text/plain": [
       "<Figure size 432x288 with 2 Axes>"
      ]
     },
     "metadata": {
      "needs_background": "light"
     },
     "output_type": "display_data"
    }
   ],
   "source": [
    "from maysics.utils import A_P\n",
    "import numpy as np\n",
    "\n",
    "def H(f):\n",
    "    y = f\n",
    "    x = y[abs(y) <= 1]\n",
    "    y[abs(y) <= 1] = np.e**(1j*x)\n",
    "    y[abs(y) > 1] = 0\n",
    "    return y\n",
    "\n",
    "ap = A_P(H)\n",
    "f = np.arange(-4, 4, 1)\n",
    "ap.fit(f)\n",
    "ap.show('d')"
   ]
  },
  {
   "cell_type": "markdown",
   "metadata": {},
   "source": [
    "<br></br>\n",
    "## 网格点：grid_net\n",
    "可以直接从maysics中调用\n",
    "\n",
    "<br>grid_net(*args)\n",
    "\n",
    "### DEMO 2-1：生成网格点 "
   ]
  },
  {
   "cell_type": "code",
   "execution_count": 6,
   "metadata": {},
   "outputs": [
    {
     "data": {
      "text/plain": [
       "array([[1, 3],\n",
       "       [2, 3],\n",
       "       [1, 4],\n",
       "       [2, 4]])"
      ]
     },
     "execution_count": 6,
     "metadata": {},
     "output_type": "execute_result"
    }
   ],
   "source": [
    "from maysics import grid_net\n",
    "\n",
    "grid_net([1, 2], [3, 4])"
   ]
  },
  {
   "cell_type": "markdown",
   "metadata": {},
   "source": [
    "<br></br>\n",
    "## 欧氏距离：e_distance和e_distances\n",
    "求点与点之间的欧式距离\n",
    "<br>```e_distance```是求解两个点之间的欧式距离\n",
    "<br>```e_distances```是求解多个点到目标点之间的欧式距离，目标点默认为坐标原点\n",
    "\n",
    "<br>e_distance(p1, p2)\n",
    "<br>e_distances(data, des='o')\n",
    "\n",
    "### DEMO 3-1：求点(1, 1)到点(3, 3)的欧式距离"
   ]
  },
  {
   "cell_type": "code",
   "execution_count": 7,
   "metadata": {},
   "outputs": [
    {
     "data": {
      "text/plain": [
       "2.8284271247461903"
      ]
     },
     "execution_count": 7,
     "metadata": {},
     "output_type": "execute_result"
    }
   ],
   "source": [
    "from maysics.utils import e_distance\n",
    "\n",
    "e_distance([1, 1], [3, 3])"
   ]
  },
  {
   "cell_type": "markdown",
   "metadata": {},
   "source": [
    "### DEMO 3-2：求点集{(1, 1), (1, 2), (2, 2), (2, 3)}到点(1, 0)的欧式距离"
   ]
  },
  {
   "cell_type": "code",
   "execution_count": 8,
   "metadata": {},
   "outputs": [
    {
     "data": {
      "text/plain": [
       "array([1.        , 2.        , 2.23606798, 3.16227766])"
      ]
     },
     "execution_count": 8,
     "metadata": {},
     "output_type": "execute_result"
    }
   ],
   "source": [
    "from maysics.utils import e_distances\n",
    "\n",
    "X = [[1, 1],\n",
    "     [1, 2],\n",
    "     [2, 2],\n",
    "     [2, 3]]\n",
    "e_distances(X, (1, 0))"
   ]
  },
  {
   "cell_type": "markdown",
   "metadata": {},
   "source": [
    "### DEMO 3-3：求点集{(1, 1), (1, 2), (2, 2), (2, 3)}到其中心的欧式距离"
   ]
  },
  {
   "cell_type": "code",
   "execution_count": 9,
   "metadata": {},
   "outputs": [
    {
     "data": {
      "text/plain": [
       "array([1.11803399, 0.5       , 0.5       , 1.11803399])"
      ]
     },
     "execution_count": 9,
     "metadata": {},
     "output_type": "execute_result"
    }
   ],
   "source": [
    "from maysics.utils import e_distances\n",
    "\n",
    "X = [[1, 1],\n",
    "     [1, 2],\n",
    "     [2, 2],\n",
    "     [2, 3]]\n",
    "e_distances(X, 'mean')"
   ]
  },
  {
   "cell_type": "markdown",
   "metadata": {},
   "source": [
    "<br></br>\n",
    "## 马氏距离：m_distance和m_distances\n",
    "求点与点之间的马式距离，马氏距离需要以某个点集为基础\n",
    "<br>```m_distance```是求解两个点之间的马式距离\n",
    "<br>```m_distances```是求解多个点到目标点之间的马式距离，目标点默认为坐标原点\n",
    "\n",
    "<br>m_distance(data, p1, p2)\n",
    "<br>m_distances(data, des='o')\n",
    "\n",
    "### DEMO 4-1：在点集{(1, 1), (1, 2), (2, 2), (2, 3)}的基础上，求点(1, 1)到点(3, 3)的马式距离"
   ]
  },
  {
   "cell_type": "code",
   "execution_count": 10,
   "metadata": {},
   "outputs": [
    {
     "data": {
      "text/plain": [
       "3.4641016151377544"
      ]
     },
     "execution_count": 10,
     "metadata": {},
     "output_type": "execute_result"
    }
   ],
   "source": [
    "from maysics.utils import m_distance\n",
    "\n",
    "X = [[1, 1],\n",
    "     [1, 2],\n",
    "     [2, 2],\n",
    "     [2, 3]]\n",
    "m_distance(X, (1, 1), (3,3))"
   ]
  },
  {
   "cell_type": "markdown",
   "metadata": {},
   "source": [
    "### DEMO 4-2：在点集{(1, 1), (1, 2), (2, 2), (2, 3)}的基础上，求该点集到点(1, 0)的马式距离"
   ]
  },
  {
   "cell_type": "code",
   "execution_count": 11,
   "metadata": {},
   "outputs": [
    {
     "data": {
      "text/plain": [
       "array([1.73205081, 3.46410162, 2.44948974, 3.87298335])"
      ]
     },
     "execution_count": 11,
     "metadata": {},
     "output_type": "execute_result"
    }
   ],
   "source": [
    "from maysics.utils import m_distances\n",
    "\n",
    "X = [[1, 1],\n",
    "     [1, 2],\n",
    "     [2, 2],\n",
    "     [2, 3]]\n",
    "m_distances(X, (1, 0))"
   ]
  },
  {
   "cell_type": "markdown",
   "metadata": {},
   "source": [
    "### DEMO 4-3：在点集{(1, 1), (1, 2), (2, 2), (2, 3)}的基础上，求该点集到中心的马式距离"
   ]
  },
  {
   "cell_type": "code",
   "execution_count": 12,
   "metadata": {},
   "outputs": [
    {
     "data": {
      "text/plain": [
       "array([1.22474487, 1.22474487, 1.22474487, 1.22474487])"
      ]
     },
     "execution_count": 12,
     "metadata": {},
     "output_type": "execute_result"
    }
   ],
   "source": [
    "from maysics.utils import m_distances\n",
    "\n",
    "X = [[1, 1],\n",
    "     [1, 2],\n",
    "     [2, 2],\n",
    "     [2, 3]]\n",
    "m_distances(X, 'mean')"
   ]
  },
  {
   "cell_type": "markdown",
   "metadata": {},
   "source": [
    "<br></br>\n",
    "## 绘制离散函数图像：discrete\n",
    "可以直接从maysics中调用\n",
    "\n",
    "<br>discrete(x, y, color=None, label=None)\n",
    "\n",
    "### DEMO 5-1：绘制$sin(\\frac{\\pi}{8}n)$，$n\\in Z$的图像"
   ]
  },
  {
   "cell_type": "code",
   "execution_count": 13,
   "metadata": {},
   "outputs": [
    {
     "data": {
      "image/png": "[encoded data removed]",
      "text/plain": [
       "<Figure size 432x288 with 1 Axes>"
      ]
     },
     "metadata": {
      "needs_background": "light"
     },
     "output_type": "display_data"
    }
   ],
   "source": [
    "import maysics as ms\n",
    "import numpy as np\n",
    "\n",
    "n = np.arange(-10, 11, 1)\n",
    "y = np.sin(n * np.pi / 8)\n",
    "ms.discrete(n, y)"
   ]
  },
  {
   "cell_type": "markdown",
   "metadata": {},
   "source": [
    "<br></br>\n",
    "## 绘制圆：circle\n",
    "可以直接从maysics中调用\n",
    "\n",
    "<br>circle(center=(0, 0), radius=1, angle_range=(0, 2*np.pi), acc=0.01, label=None)\n",
    "<br>```circle```是圆心坐标\n",
    "<br>```radius```是圆半径\n",
    "<br>```angle_range```是绘制的角度范围\n",
    "<br>```acc```是绘图精度\n",
    "<br>```label```是图例\n",
    "\n",
    "### DEMO 6-1：绘制$(x-1)^{2}+(y-2)^{2}=9$的$\\frac{1}{4}$圆的图像"
   ]
  },
  {
   "cell_type": "code",
   "execution_count": 14,
   "metadata": {},
   "outputs": [
    {
     "data": {
      "image/png": "[encoded data removed]",
      "text/plain": [
       "<Figure size 360x360 with 1 Axes>"
      ]
     },
     "metadata": {
      "needs_background": "light"
     },
     "output_type": "display_data"
    }
   ],
   "source": [
    "import maysics as ms\n",
    "import numpy as np\n",
    "from matplotlib import pyplot as plt\n",
    "\n",
    "fig = plt.figure(figsize=(5, 5))\n",
    "ms.circle((1,2), 3, (0, np.pi/2))"
   ]
  }
 ],
 "metadata": {
  "kernelspec": {
   "display_name": "Python 3",
   "language": "python",
   "name": "python3"
  },
  "language_info": {
   "codemirror_mode": {
    "name": "ipython",
    "version": 3
   },
   "file_extension": ".py",
   "mimetype": "text/x-python",
   "name": "python",
   "nbconvert_exporter": "python",
   "pygments_lexer": "ipython3",
   "version": "3.9.8"
  }
 },
 "nbformat": 4,
 "nbformat_minor": 4
}
