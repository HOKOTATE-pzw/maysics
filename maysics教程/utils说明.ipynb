{
 "cells": [
  {
   "cell_type": "markdown",
   "metadata": {},
   "source": [
    "# maysics.utils模块使用说明\n",
    "\n",
    "utils模块包含十三个函数：\n",
    "\n",
    "|名称|作用|\n",
    "|---|---|\n",
    "|grid_net|生成网格点|\n",
    "|group|分组处理数据|\n",
    "|e_distance|欧氏距离|\n",
    "|e_distances|欧氏距离|\n",
    "|earth_distance|已知经纬度求距离|\n",
    "|earth_distances|已知经纬度求距离|\n",
    "|m_distance|马氏距离|\n",
    "|m_distances|马氏距离|\n",
    "|discrete|绘制离散函数|\n",
    "|circle|绘制圆|\n",
    "|hermit|厄米共轭|\n",
    "|mat_exp|矩阵的exp运算|\n",
    "\n",
    "utils模块包含一个类：\n",
    "\n",
    "|名称|作用|\n",
    "|---|---|\n",
    "|A_P|幅-频和相-频分析|"
   ]
  },
  {
   "cell_type": "markdown",
   "metadata": {},
   "source": [
    "<br></br>\n",
    "## 网格点：grid_net\n",
    "grid_net(*args)\n",
    "\n",
    "### 功能说明\n",
    "可以直接从maysics中调用\n",
    "\n",
    "### DEMO 1-1：生成网格点 "
   ]
  },
  {
   "cell_type": "code",
   "execution_count": 1,
   "metadata": {},
   "outputs": [
    {
     "data": {
      "text/plain": [
       "array([[1, 3],\n",
       "       [2, 3],\n",
       "       [1, 4],\n",
       "       [2, 4]])"
      ]
     },
     "execution_count": 1,
     "metadata": {},
     "output_type": "execute_result"
    }
   ],
   "source": [
    "import maysics as ms\n",
    "\n",
    "ms.grid_net([1, 2], [3, 4])"
   ]
  },
  {
   "cell_type": "markdown",
   "metadata": {},
   "source": [
    "<br></br>\n",
    "## 分组处理数据：group\n",
    "group(data, index, f, param={})\n",
    "<br>```data```：二维ndarray，数据\n",
    "<br>```index```：整型，需要分组处理的列索引\n",
    "<br>```f```：函数类型，将分组后的每个部分的二维ndarray作为输入\n",
    "<br>```param```：字典类型，用于传递f中的其他参数\n",
    "\n",
    "### DEMO 2-1：将下列数据分组按第一列分组处理，使每一组的数据均值为0"
   ]
  },
  {
   "cell_type": "code",
   "execution_count": 2,
   "metadata": {},
   "outputs": [
    {
     "data": {
      "text/plain": [
       "array([['太阳', -1.5, -0.5],\n",
       "       ['太阳', 1.5, 0.5],\n",
       "       ['月亮', -3.5, -4.5],\n",
       "       ['月亮', 3.5, 4.5]], dtype=object)"
      ]
     },
     "execution_count": 2,
     "metadata": {},
     "output_type": "execute_result"
    }
   ],
   "source": [
    "import maysics as ms\n",
    "\n",
    "data = np.array([['太阳', 2, 3],\n",
    "                 ['太阳', 5, 4],\n",
    "                 ['月亮', 1, 0],\n",
    "                 ['月亮', 8, 9]], dtype=object)\n",
    "\n",
    "def f(data):\n",
    "    data[:, 1:] -= data[:, 1:].mean(axis=0)\n",
    "    return data\n",
    "\n",
    "ms.utils.group(data, 0, f)"
   ]
  },
  {
   "cell_type": "markdown",
   "metadata": {},
   "source": [
    "<br></br>\n",
    "## 欧氏距离：e_distance和e_distances\n",
    "e_distance(p1, p2)\n",
    "<br>```p1```：一维数组，第一个点的位置\n",
    "<br>```p2```：一维数组，第二个点的位置\n",
    "\n",
    "e_distances(data, des='o')\n",
    "<br>```data```：一维或二维列表，数据\n",
    "<br>```des```：字符串或一维数组，可选'o'或'O'(原点)、'mean'(均值点)及自定义数组，目标点坐标\n",
    "\n",
    "### 功能说明\n",
    "求点与点之间的欧式距离\n",
    "<br>```e_distance```是求解两个点之间的欧式距离\n",
    "<br>```e_distances```是求解多个点到目标点之间的欧式距离，目标点默认为坐标原点\n",
    "\n",
    "### DEMO 3-1：求点(1, 1)到点(3, 3)的欧式距离"
   ]
  },
  {
   "cell_type": "code",
   "execution_count": 3,
   "metadata": {},
   "outputs": [
    {
     "data": {
      "text/plain": [
       "2.8284271247461903"
      ]
     },
     "execution_count": 3,
     "metadata": {},
     "output_type": "execute_result"
    }
   ],
   "source": [
    "import maysics as ms\n",
    "\n",
    "ms.utils.e_distance([1, 1], [3, 3])"
   ]
  },
  {
   "cell_type": "markdown",
   "metadata": {},
   "source": [
    "### DEMO 3-2：求点集{(1, 1), (1, 2), (2, 2), (2, 3)}到点(1, 0)的欧式距离"
   ]
  },
  {
   "cell_type": "code",
   "execution_count": 4,
   "metadata": {},
   "outputs": [
    {
     "data": {
      "text/plain": [
       "array([1.        , 2.        , 2.23606798, 3.16227766])"
      ]
     },
     "execution_count": 4,
     "metadata": {},
     "output_type": "execute_result"
    }
   ],
   "source": [
    "import maysics as ms\n",
    "\n",
    "X = [[1, 1],\n",
    "     [1, 2],\n",
    "     [2, 2],\n",
    "     [2, 3]]\n",
    "ms.utils.e_distances(X, (1, 0))"
   ]
  },
  {
   "cell_type": "markdown",
   "metadata": {},
   "source": [
    "### DEMO 3-3：求点集{(1, 1), (1, 2), (2, 2), (2, 3)}到其中心的欧式距离"
   ]
  },
  {
   "cell_type": "code",
   "execution_count": 5,
   "metadata": {},
   "outputs": [
    {
     "data": {
      "text/plain": [
       "array([1.11803399, 0.5       , 0.5       , 1.11803399])"
      ]
     },
     "execution_count": 5,
     "metadata": {},
     "output_type": "execute_result"
    }
   ],
   "source": [
    "import maysics as ms\n",
    "\n",
    "X = [[1, 1],\n",
    "     [1, 2],\n",
    "     [2, 2],\n",
    "     [2, 3]]\n",
    "ms.utils.e_distances(X, 'mean')"
   ]
  },
  {
   "cell_type": "markdown",
   "metadata": {},
   "source": [
    "<br></br>\n",
    "## 已知经纬度求距离：earth_distance和earth_distances\n",
    "earth_distance(lon_lat_1, lon_lat_2)\n",
    "<br>```lon_lat_1```：一维数组，第一个点的经度、纬度\n",
    "<br>```lon_lat_2```：一维数组，第二个点的经度、纬度\n",
    "<br></br>\n",
    "earth_distances(lon_lat, des)\n",
    "<br>```lon_lat```：一维或二维数组，经度、纬度\n",
    "<br>```des```：一维数组，目标点经度、纬度\n",
    "\n",
    "### 功能说明\n",
    "距离公式为：$d=Rcos\\phi_{1}cos\\phi_{2}cos(\\theta_{1}-\\theta_{2})+sin\\theta_{1}sin\\theta_{2}$\n",
    "<br>其中，R为地球半径，$\\theta$为经度，$\\phi$为纬度\n",
    "<br>```e_distance```是求解两个点之间的距离\n",
    "<br>```e_distances```是求解多个点到目标点之间的距离\n",
    "\n",
    "### DEMO 4-1：求经纬度为(0°W, 0°N)的点到经纬度为(0.1°W, 51.5°W)的距离"
   ]
  },
  {
   "cell_type": "code",
   "execution_count": 6,
   "metadata": {},
   "outputs": [
    {
     "data": {
      "text/plain": [
       "5726899.687161521"
      ]
     },
     "execution_count": 6,
     "metadata": {},
     "output_type": "execute_result"
    }
   ],
   "source": [
    "import maysics as ms\n",
    "\n",
    "ms.utils.earth_distance([0, 0], [0.1, 51.5])"
   ]
  },
  {
   "cell_type": "markdown",
   "metadata": {},
   "source": [
    "### DEMO 4-2：求经纬度为{(0°W, 0°N), (1°W, 5°N), (3°E, 5°S)}的点集到经纬度为(0.1°W, 51.5°W)的距离"
   ]
  },
  {
   "cell_type": "code",
   "execution_count": 7,
   "metadata": {},
   "outputs": [
    {
     "data": {
      "text/plain": [
       "array([5615698.01005612, 5170891.33557871])"
      ]
     },
     "execution_count": 7,
     "metadata": {},
     "output_type": "execute_result"
    }
   ],
   "source": [
    "import maysics as ms\n",
    "\n",
    "X = [[0, 0],\n",
    "     [1, 5],\n",
    "     [-3, -5]]\n",
    "ms.utils.earth_distance(X, [0.1, 51.5])"
   ]
  },
  {
   "cell_type": "markdown",
   "metadata": {},
   "source": [
    "<br></br>\n",
    "## 马氏距离：m_distance和m_distances\n",
    "m_distance(data, p1, p2)\n",
    "<br>```data```：二维列表，数据\n",
    "<br>```p1```：一维或二维数组，第一个点的位置\n",
    "<br>```p2```：一维或二维数组，第二个点的位置\n",
    "\n",
    "m_distances(data, des='o')\n",
    "<br>```data```：二维数组，数据\n",
    "<br>```des```：字符串或一维或二维数组，可选'o'或'O'(原点)、'mean'(均值点)及自定义数组，目标点坐标\n",
    "\n",
    "### 功能说明\n",
    "求点与点之间的马式距离，马氏距离需要以某个点集为基础\n",
    "<br>```m_distance```是求解两个点之间的马式距离\n",
    "<br>```m_distances```是求解多个点到目标点之间的马式距离，目标点默认为坐标原点\n",
    "\n",
    "### DEMO 5-1：在点集{(1, 1), (1, 2), (2, 2), (2, 3)}的基础上，求点(1, 1)到点(3, 3)的马式距离"
   ]
  },
  {
   "cell_type": "code",
   "execution_count": 8,
   "metadata": {},
   "outputs": [
    {
     "data": {
      "text/plain": [
       "3.4641016151377544"
      ]
     },
     "execution_count": 8,
     "metadata": {},
     "output_type": "execute_result"
    }
   ],
   "source": [
    "import maysics as ms\n",
    "\n",
    "X = [[1, 1],\n",
    "     [1, 2],\n",
    "     [2, 2],\n",
    "     [2, 3]]\n",
    "ms.utils.m_distance(X, (1, 1), (3,3))"
   ]
  },
  {
   "cell_type": "markdown",
   "metadata": {},
   "source": [
    "### DEMO 5-2：在点集{(1, 1), (1, 2), (2, 2), (2, 3)}的基础上，求该点集到点(1, 0)的马式距离"
   ]
  },
  {
   "cell_type": "code",
   "execution_count": 9,
   "metadata": {},
   "outputs": [
    {
     "data": {
      "text/plain": [
       "array([1.73205081, 3.46410162, 2.44948974, 3.87298335])"
      ]
     },
     "execution_count": 9,
     "metadata": {},
     "output_type": "execute_result"
    }
   ],
   "source": [
    "import maysics as ms\n",
    "\n",
    "X = [[1, 1],\n",
    "     [1, 2],\n",
    "     [2, 2],\n",
    "     [2, 3]]\n",
    "ms.utils.m_distances(X, (1, 0))"
   ]
  },
  {
   "cell_type": "markdown",
   "metadata": {},
   "source": [
    "### DEMO 5-3：在点集{(1, 1), (1, 2), (2, 2), (2, 3)}的基础上，求该点集到中心的马式距离"
   ]
  },
  {
   "cell_type": "code",
   "execution_count": 10,
   "metadata": {},
   "outputs": [
    {
     "data": {
      "text/plain": [
       "array([1.22474487, 1.22474487, 1.22474487, 1.22474487])"
      ]
     },
     "execution_count": 10,
     "metadata": {},
     "output_type": "execute_result"
    }
   ],
   "source": [
    "import maysics as ms\n",
    "\n",
    "X = [[1, 1],\n",
    "     [1, 2],\n",
    "     [2, 2],\n",
    "     [2, 3]]\n",
    "ms.utils.m_distances(X, 'mean')"
   ]
  },
  {
   "cell_type": "markdown",
   "metadata": {},
   "source": [
    "<br></br>\n",
    "## 绘制离散函数图像：discrete\n",
    "discrete(x, y, color=None, label=None)\n",
    "<br>```x```：一维数组类型，自变量\n",
    "<br>```y```：一维数组类型，因变量\n",
    "<br>```color```：字符串类型，颜色\n",
    "<br>```label```：字符串类型，标签\n",
    "\n",
    "### 功能说明\n",
    "可以直接从maysics中调用\n",
    "\n",
    "### DEMO 6-1：绘制$sin(\\frac{\\pi}{8}n)$，$n\\in Z$的图像"
   ]
  },
  {
   "cell_type": "code",
   "execution_count": 11,
   "metadata": {},
   "outputs": [
    {
     "data": {
      "image/png": "[encoded data removed]",
      "text/plain": [
       "<Figure size 432x288 with 1 Axes>"
      ]
     },
     "metadata": {
      "needs_background": "light"
     },
     "output_type": "display_data"
    }
   ],
   "source": [
    "import maysics as ms\n",
    "import numpy as np\n",
    "\n",
    "n = np.arange(-10, 11, 1)\n",
    "y = np.sin(n * np.pi / 8)\n",
    "ms.discrete(n, y)"
   ]
  },
  {
   "cell_type": "markdown",
   "metadata": {},
   "source": [
    "<br></br>\n",
    "## 绘制圆：circle\n",
    "circle(center=(0, 0), radius=1, angle_range=(0, 2*np.pi), acc=0.01, c=None, label=None)\n",
    "<br>```circle```：元组类型，圆心坐标\n",
    "<br>```radius```：数类型，圆半径\n",
    "<br>```angle_range```：元组类型，绘制的角度范围\n",
    "<br>```acc```浮点数类型，绘图精度\n",
    "<br>```c```：字符串类型，颜色\n",
    "<br>```label```：字符串类型，图例\n",
    "\n",
    "### 功能说明\n",
    "可以直接从maysics中调用\n",
    "\n",
    "### DEMO 7-1：绘制$(x-1)^{2}+(y-2)^{2}=9$的$\\frac{1}{4}$圆的图像"
   ]
  },
  {
   "cell_type": "code",
   "execution_count": 12,
   "metadata": {},
   "outputs": [
    {
     "data": {
      "image/png": "[encoded data removed]",
      "text/plain": [
       "<Figure size 360x360 with 1 Axes>"
      ]
     },
     "metadata": {
      "needs_background": "light"
     },
     "output_type": "display_data"
    }
   ],
   "source": [
    "import maysics as ms\n",
    "import numpy as np\n",
    "from matplotlib import pyplot as plt\n",
    "\n",
    "fig = plt.figure(figsize=(5, 5))\n",
    "ms.circle((1,2), 3, (0, np.pi/2))"
   ]
  },
  {
   "cell_type": "markdown",
   "metadata": {},
   "source": [
    "<br></br>\n",
    "## 厄米矩阵：hermit\n",
    "hermit(data)\n",
    "<br>```data```：二维数组\n",
    "\n",
    "### 功能说明\n",
    "可以直接从maysics中调用\n",
    "\n",
    "### DEMO 8-1：求矩阵m的厄米矩阵"
   ]
  },
  {
   "cell_type": "code",
   "execution_count": 13,
   "metadata": {},
   "outputs": [
    {
     "data": {
      "text/plain": [
       "array([[1.-1.j, 3.-3.j],\n",
       "       [2.-2.j, 4.-4.j]])"
      ]
     },
     "execution_count": 13,
     "metadata": {},
     "output_type": "execute_result"
    }
   ],
   "source": [
    "import maysics as ms\n",
    "\n",
    "m = [[1 + 1j, 2 + 2j],\n",
    "     [3 + 3j, 4 + 4j]]\n",
    "\n",
    "ms.hermit(m)"
   ]
  },
  {
   "cell_type": "markdown",
   "metadata": {},
   "source": [
    "<br></br>\n",
    "## 矩阵的exp运算：mat_exp\n",
    "mat_exp(data, tol=0.01)\n",
    "<br>```data```：二维数组，矩阵\n",
    "<br>```tol```：浮点数类型，误差，当$\\frac{data^{n}}{n!}$的每个矩阵元均小于tol时输出结果\n",
    "\n",
    "### 功能说明与原理\n",
    "可以直接从maysics中调用\n",
    "<br>运用\n",
    "$$\n",
    "e^{X}=\\Sigma \\frac{X^{n}}{n!}\n",
    "$$\n",
    "对结果进行逼近，定义矩阵\n",
    "$$\n",
    "\\Delta = \\frac{X^{n}}{n!}-\\frac{X^{n-1}}{(n-1)!}\n",
    "$$\n",
    "当$\\Delta$中的每一矩阵元均小于```tol```时，输出矩阵\n",
    "\n",
    "### DEMO 9-1：计算$e^{X}$，其中，$M=\\left( \\begin{array}{cc} 0.1 & 0.2 \\\\0.3 & 0.4 \\end{array} \\right)$"
   ]
  },
  {
   "cell_type": "code",
   "execution_count": 14,
   "metadata": {},
   "outputs": [
    {
     "data": {
      "text/plain": [
       "array([[1.14199583, 0.26020833],\n",
       "       [0.3903125 , 1.53230833]])"
      ]
     },
     "execution_count": 14,
     "metadata": {},
     "output_type": "execute_result"
    }
   ],
   "source": [
    "import maysics as ms\n",
    "\n",
    "ms.mat_exp([[0.1, 0.2],\n",
    "            [0.3, 0.4]])"
   ]
  },
  {
   "cell_type": "markdown",
   "metadata": {},
   "source": [
    "<br></br>\n",
    "## 幅-频分析和相-频分析：A_P\n",
    "A_P(X)\n",
    "<br>```X```：函数或一维数组形式，信号的频域表示\n",
    "\n",
    "### A_P的方法\n",
    "A_P下设三个可调用方法```fit```、```show```、```savefig```\n",
    "<br>fit(f, param={})\n",
    "<br>```f```：函数或一维数组形式，频率\n",
    "<br>```param```：字典类型，可选，用于传递f中的其他参数，仅当f为函数类型时有效，默认为空字典\n",
    "\n",
    "show(image_type='c')\n",
    "<br>savefig(filename, image_type='c')\n",
    "<br>```filename```：字符串形式，文件名\n",
    "<br>```image_type```：字符串形式，可选'C'和'D'，'C'表示绘制连续图像，'D'表示绘制离散图像\n",
    "\n",
    "### DEMO 10-1：绘制连续函数"
   ]
  },
  {
   "cell_type": "code",
   "execution_count": 15,
   "metadata": {},
   "outputs": [
    {
     "data": {
      "image/png": "[encoded data removed]",
      "text/plain": [
       "<Figure size 432x288 with 2 Axes>"
      ]
     },
     "metadata": {
      "needs_background": "light"
     },
     "output_type": "display_data"
    }
   ],
   "source": [
    "from maysics.utils import A_P\n",
    "import numpy as np\n",
    "\n",
    "def H(f):\n",
    "    y = f\n",
    "    x = y[abs(y) <= 1]\n",
    "    y[abs(y) <= 1] = np.e**(1j*x)\n",
    "    y[abs(y) > 1] = 0\n",
    "    return y\n",
    "\n",
    "\n",
    "ap = A_P(H)\n",
    "f = np.arange(-4, 4, 0.01)\n",
    "ap.fit(f)\n",
    "ap.show()"
   ]
  },
  {
   "cell_type": "markdown",
   "metadata": {},
   "source": [
    "### DEMO 10-2：绘制离散函数"
   ]
  },
  {
   "cell_type": "code",
   "execution_count": 16,
   "metadata": {},
   "outputs": [
    {
     "data": {
      "image/png": "[encoded data removed]",
      "text/plain": [
       "<Figure size 432x288 with 2 Axes>"
      ]
     },
     "metadata": {
      "needs_background": "light"
     },
     "output_type": "display_data"
    }
   ],
   "source": [
    "from maysics.utils import A_P\n",
    "import numpy as np\n",
    "\n",
    "def H(f):\n",
    "    y = f\n",
    "    x = y[abs(y) <= 1]\n",
    "    y[abs(y) <= 1] = np.e**(1j*x)\n",
    "    y[abs(y) > 1] = 0\n",
    "    return y\n",
    "\n",
    "ap = A_P(H)\n",
    "f = np.arange(-4, 5, 1)\n",
    "ap.fit(f)\n",
    "ap.show('d')"
   ]
  }
 ],
 "metadata": {
  "kernelspec": {
   "display_name": "Python 3 (ipykernel)",
   "language": "python",
   "name": "python3"
  },
  "language_info": {
   "codemirror_mode": {
    "name": "ipython",
    "version": 3
   },
   "file_extension": ".py",
   "mimetype": "text/x-python",
   "name": "python",
   "nbconvert_exporter": "python",
   "pygments_lexer": "ipython3",
   "version": "3.10.4"
  }
 },
 "nbformat": 4,
 "nbformat_minor": 4
}
