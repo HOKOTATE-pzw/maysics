{
 "cells": [
  {
   "cell_type": "markdown",
   "metadata": {},
   "source": [
    "# maysics.transformation使用说明\n",
    "\n",
    "transformation模块包含八个函数\n",
    "\n",
    "|名称|作用|\n",
    "|---|---|\n",
    "|dirac|狄拉克算符变换|\n",
    "|lorentz|洛伦兹坐标变换|\n",
    "|lorentz_v|洛伦兹速度变换|\n",
    "|polar|极坐标、柱坐标变换|\n",
    "|ipolar|极坐标、柱坐标逆变换|\n",
    "|sphere|球坐标变换|\n",
    "|isphere|球坐标逆变换|\n",
    "|rotate|直角坐标旋转变换|"
   ]
  },
  {
   "cell_type": "markdown",
   "metadata": {},
   "source": [
    "<br></br>\n",
    "## 狄拉克算符变换：dirac\n",
    "dirac(x, num=None, rl=0)\n",
    "<br>```x```是数据\n",
    "<br>```num```代表每一个量子位的进制，默认均为二进制\n",
    "<br>```rl=0```或```rl='r'```代表右矢，```rl=1```或```rl='1'```代表左矢\n",
    "\n",
    "### DEMO 1-1：将$\\left| 0,1 \\right \\rangle$转换为向量形式"
   ]
  },
  {
   "cell_type": "code",
   "execution_count": 1,
   "metadata": {},
   "outputs": [
    {
     "data": {
      "text/plain": [
       "array([[0.],\n",
       "       [1.],\n",
       "       [0.],\n",
       "       [0.]])"
      ]
     },
     "execution_count": 1,
     "metadata": {},
     "output_type": "execute_result"
    }
   ],
   "source": [
    "import maysics as ms\n",
    "\n",
    "ms.trans.dirac([0, 1])"
   ]
  },
  {
   "cell_type": "markdown",
   "metadata": {},
   "source": [
    "### DEMO 1-2：将$\\left \\langle 2,0 \\right|$转换为向量形式，左起第一位量子位为3进制"
   ]
  },
  {
   "cell_type": "code",
   "execution_count": 2,
   "metadata": {},
   "outputs": [
    {
     "data": {
      "text/plain": [
       "array([[0., 0., 0., 0., 1., 0.]])"
      ]
     },
     "execution_count": 2,
     "metadata": {},
     "output_type": "execute_result"
    }
   ],
   "source": [
    "import maysics as ms\n",
    "\n",
    "ms.trans.dirac([2, 0], num=[3, 2], rl=1)"
   ]
  },
  {
   "cell_type": "markdown",
   "metadata": {},
   "source": [
    "<br></br>\n",
    "## 坐标变换\n",
    "所有的函数均支持单独坐标输入和小批量坐标输入\n",
    "<br>单独坐标需以一维数组输入，如(x, y, z)\n",
    "<br>小批量坐标需以二维数组输入，格式举例：[[x1, y1, z1], [x2, y2, z2]]"
   ]
  }
 ],
 "metadata": {
  "kernelspec": {
   "display_name": "Python 3 (ipykernel)",
   "language": "python",
   "name": "python3"
  },
  "language_info": {
   "codemirror_mode": {
    "name": "ipython",
    "version": 3
   },
   "file_extension": ".py",
   "mimetype": "text/x-python",
   "name": "python",
   "nbconvert_exporter": "python",
   "pygments_lexer": "ipython3",
   "version": "3.10.3"
  }
 },
 "nbformat": 4,
 "nbformat_minor": 4
}
