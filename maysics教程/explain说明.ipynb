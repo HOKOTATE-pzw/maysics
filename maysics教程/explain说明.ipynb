{
 "cells": [
  {
   "cell_type": "markdown",
   "id": "858fc819-d378-4814-85f1-f89712ae4171",
   "metadata": {},
   "source": [
    "# maysics.explain模块使用说明\n",
    "\n",
    "explain模块包含十一个函数\n",
    "\n",
    "|名称|作用|\n",
    "|---|---|\n",
    "|abs_error|绝对值列表|\n",
    "|rel_error|相对误差列表|\n",
    "|abs_sort|绝对误差从大到小的排序|\n",
    "|rel_sort|相对误差从大到小的排序|\n",
    "|sse|残差平方和|\n",
    "|sae|绝对误差和|\n",
    "|mse|平均平方误差|\n",
    "|mae|平均绝对值误差|\n",
    "|rmse|均方根误差|\n",
    "|mape|平均绝对百分比误差|\n",
    "|sense|灵敏度分析|\n",
    "\n",
    "explain模块包含三个类\n",
    "\n",
    "|名称|作用|\n",
    "|---|---|\n",
    "|Lime|局部代理|\n",
    "|SHAP|SHAP值|\n",
    "|Shapley|Shapley值|"
   ]
  },
  {
   "cell_type": "markdown",
   "id": "cfc81e0c-f561-4863-900e-122b9ee87fd0",
   "metadata": {},
   "source": [
    "<br></br>\n",
    "## 误差分析：abs_error、rel_error、abs_sort、rel_sort、sse、sae、mse、mae、rmse、mape\n",
    "\n",
    "f(func, data, target)\n",
    "<br>```func```是预测函数\n",
    "<br>```data```是自变量数据\n",
    "<br>```target```是相应的因变量数据\n",
    "\n",
    "### DEMO 1-1：求数据集和函数$f(x)=2x$之间的各种误差"
   ]
  },
  {
   "cell_type": "code",
   "execution_count": 1,
   "id": "c01a57ff-2037-4dd2-bb21-0c002f6a1964",
   "metadata": {},
   "outputs": [
    {
     "name": "stdout",
     "output_type": "stream",
     "text": [
      "绝对值列表：[0.00868099 0.04432612 0.01509648 0.06895523 0.09905623]\n",
      "相对误差列表：[1.         0.0226654  0.00378842 0.01136196 0.01253727]\n",
      "绝对误差从大到小的排序：[(0.09905622876180509, 4), (0.06895522646398078, 3), (0.044326122981241056, 1), (0.015096481850173316, 2), (0.008680988358193087, 0)]\n",
      "相对误差从大到小的排序：[(1.0, 0), (0.022665396057144287, 1), (0.012537265373587327, 4), (0.011361959989966327, 3), (0.0037884184099851296, 2)]\n",
      "残差平方和：0.016835028214885736\n",
      "绝对误差和：0.23611504841539332\n",
      "平均平方误差：0.0033670056429771474\n",
      "平均绝对值误差：0.047223009683078666\n",
      "均方根误差：0.05802590493027358\n",
      "平均绝对百分比误差：0.21007060796613666\n"
     ]
    }
   ],
   "source": [
    "import maysics as ms\n",
    "import numpy as np\n",
    "\n",
    "def f(x):\n",
    "    return 2 * x\n",
    "\n",
    "np.random.seed(100)\n",
    "data = np.arange(0, 5, 1)\n",
    "target = data * 2 + np.random.rand(data.shape[0]) * 0.2 - 0.1\n",
    "\n",
    "print('绝对值列表：{}'.format(ms.explain.abs_error(f, data, target)))\n",
    "print('相对误差列表：{}'.format(ms.explain.rel_error(f, data, target)))\n",
    "print('绝对误差从大到小的排序：{}'.format(ms.explain.abs_sort(f, data, target)))\n",
    "print('相对误差从大到小的排序：{}'.format(ms.explain.rel_sort(f, data, target)))\n",
    "print('残差平方和：{}'.format(ms.explain.sse(f, data, target)))\n",
    "print('绝对误差和：{}'.format(ms.explain.sae(f, data, target)))\n",
    "print('平均平方误差：{}'.format(ms.explain.mse(f, data, target)))\n",
    "print('平均绝对值误差：{}'.format(ms.explain.mae(f, data, target)))\n",
    "print('均方根误差：{}'.format(ms.explain.rmse(f, data, target)))\n",
    "print('平均绝对百分比误差：{}'.format(ms.explain.mape(f, data, target)))"
   ]
  },
  {
   "cell_type": "markdown",
   "id": "f6b414d2-1010-48a6-8a2b-ba180f0777a8",
   "metadata": {},
   "source": [
    "<br></br>\n",
    "## 灵敏度分析：sense\n",
    "对函数$f(r)$，其中$r=(x_{0},x_{1},...,x_{n})$\n",
    "<br>第i个特征在$r_{0}$处的灵敏度：$s(x_{i},r_{0})=\\frac{dy}{dx_{i}}\\frac{x_{i}}{y}$，$r=r_{0}$\n",
    "\n",
    "<br>sense(func, x0, acc=0.1)\n",
    "<br>```func```是待求灵敏度的模型函数\n",
    "<br>```x0```是求解灵敏度的点\n",
    "<br>```acc```是求导精度\n",
    "\n",
    "### DEMO 2-1：求非批量输入函数$f(x,y)=x^{2}+y^{2}$在$(1,2)$处$x$和$y$的灵敏度"
   ]
  },
  {
   "cell_type": "code",
   "execution_count": 2,
   "id": "9f8249f2-5c1d-4e82-881a-00dbb624bd21",
   "metadata": {},
   "outputs": [
    {
     "data": {
      "text/plain": [
       "array([0.38, 1.56])"
      ]
     },
     "execution_count": 2,
     "metadata": {},
     "output_type": "execute_result"
    }
   ],
   "source": [
    "import maysics as ms\n",
    "\n",
    "def f(x):\n",
    "    return x[0]**2 + x[1]**2\n",
    "\n",
    "ms.explain.sense(f, [1, 2])"
   ]
  },
  {
   "cell_type": "markdown",
   "id": "0d1782f6-5cf3-421e-80f9-282f6beb0872",
   "metadata": {},
   "source": [
    "### DEMO 2-2：求批量输入函数$f(x,y)=x^{2}+y^{2}$在${(1,2),(2,3)}$处$x$和$y$的灵敏度"
   ]
  },
  {
   "cell_type": "code",
   "execution_count": 3,
   "id": "6ff40d47-0707-43b9-8b08-8c90117fbe68",
   "metadata": {},
   "outputs": [
    {
     "data": {
      "text/plain": [
       "array([[0.38      , 1.56      ],\n",
       "       [0.6       , 1.36153846]])"
      ]
     },
     "execution_count": 3,
     "metadata": {},
     "output_type": "execute_result"
    }
   ],
   "source": [
    "import maysics as ms\n",
    "\n",
    "def f(x):\n",
    "    return x[:, 0]**2 + x[:, 1]**2\n",
    "\n",
    "ms.explain.sense(f, [[1, 2], [2, 3]])"
   ]
  },
  {
   "cell_type": "markdown",
   "id": "4999be55-3671-426c-bc2a-8db2ff906c58",
   "metadata": {},
   "source": [
    "<br></br>\n",
    "## 局部代理：Lime\n",
    "对局部点进行扰动并输入模型得到新的数据集\n",
    "<br>以新数据集为基础，用最小二乘法拟合出新的线性模型$AX+b$用于局部代替黑盒模型\n",
    "<br>利用该线性模型对黑盒模型进行解释\n",
    "<br>预测值$=\\Sigma weight + intercept$\n",
    "\n",
    "<br>Lime(predict_f)\n",
    "<br>```predict_f```是模型的预测函数\n",
    "<br>当predict_f输出是一维的，则线性模型系数和模型各特征贡献都是一维的\n",
    "<br>当predict_f输出是一维的，则线性模型系数和模型各特征贡献都是二维的\n",
    "\n",
    "### Lime的方法\n",
    "Lime有三个方法：```fit```、```show```和```savefig```\n",
    "<br>```fit```方法用于计算\n",
    "<br>fit(data, acc=0.1, num=100, random_state=None)\n",
    "\n",
    "<br>```show```和```savefig```用于绘图，前者显示，后者保存\n",
    "<br>绘图方法仅适用于表格数据\n",
    "<br>show(labels=None, index=None, top=None, estimate=None)\n",
    "<br>savefig(filename, labels=None, index=None, top=None, estimate=None)\n",
    "\n",
    "### DEMO 3-1：求函数$f(x,y)=x^{2}+y^{2}$在点$(1,0)$附近的各特征指标"
   ]
  },
  {
   "cell_type": "code",
   "execution_count": 4,
   "id": "249a311e-a984-4844-8345-f9bc84966058",
   "metadata": {},
   "outputs": [
    {
     "name": "stdout",
     "output_type": "stream",
     "text": [
      "各个特征贡献：[2.01479352 0.        ]\n",
      "线性模型系数：[2.01479352 0.00945   ]\n",
      "线性模型截距：-1.0080730843209873\n"
     ]
    }
   ],
   "source": [
    "from maysics.explain import Lime\n",
    "import numpy as np\n",
    "\n",
    "# 仅支持小批量输入函数\n",
    "def f(x):\n",
    "    x = np.array(x)\n",
    "    return x[:, 0]**2 + x[:, 1]**2\n",
    "\n",
    "lime = Lime(f)\n",
    "# 默认邻域范围为0.1，新数据大小集为100，\n",
    "lime.fit([1, 0], random_state=100)\n",
    "\n",
    "print('各个特征贡献：{}'.format(lime.weight))\n",
    "print('线性模型系数：{}'.format(lime.coef))\n",
    "print('线性模型截距：{}'.format(lime.intercept))"
   ]
  },
  {
   "cell_type": "markdown",
   "id": "f258ea2e-ff6e-4ceb-8050-d9d79744c1b2",
   "metadata": {},
   "source": [
    "### DEMO 3-2：用函数$f(x,y)=x^{2}+y^{2}$在点$(1,0)$附近的局部代理预测点$(1,0.1)$处的函数值"
   ]
  },
  {
   "cell_type": "code",
   "execution_count": 5,
   "id": "7381faee-f725-4d28-ba06-3366bd851231",
   "metadata": {},
   "outputs": [
    {
     "name": "stdout",
     "output_type": "stream",
     "text": [
      "原模型：[1.01]\n",
      "线性模型：[1.00766544]\n"
     ]
    }
   ],
   "source": [
    "from maysics.explain import Lime\n",
    "import numpy as np\n",
    "\n",
    "# 仅支持小批量输入函数\n",
    "def f(x):\n",
    "    x = np.array(x)\n",
    "    return x[:, 0]**2 + x[:, 1]**2\n",
    "\n",
    "lime = Lime(f)\n",
    "# 默认邻域范围为0.1，新数据大小集为100，\n",
    "lime.fit([1, 0], random_state=100)\n",
    "\n",
    "print('原模型：{}'.format(f([[1, 0.1]])))\n",
    "print('线性模型：{}'.format(lime.predict([[1, 0.1]])))"
   ]
  },
  {
   "cell_type": "markdown",
   "id": "c5731712-4e8f-4349-ba10-ff27aa55668d",
   "metadata": {},
   "source": [
    "### DEMO 3-3：绘制函数$f(x,y)=x^{2}+y^{2}$在点$(2,1)$附近的各特征贡献值图"
   ]
  },
  {
   "cell_type": "code",
   "execution_count": 6,
   "id": "34b1820f-5afa-41d8-af1d-b4e590c455f3",
   "metadata": {},
   "outputs": [
    {
     "data": {
      "image/png": "[encoded data removed]",
      "text/plain": [
       "<Figure size 576x72 with 1 Axes>"
      ]
     },
     "metadata": {
      "needs_background": "light"
     },
     "output_type": "display_data"
    }
   ],
   "source": [
    "from maysics.explain import Lime\n",
    "import numpy as np\n",
    "\n",
    "# 仅支持小批量输入函数\n",
    "def f(x):\n",
    "    x = np.array(x)\n",
    "    return x[:, 0]**2 + x[:, 1]**2\n",
    "\n",
    "lime = Lime(f)\n",
    "# 默认邻域范围为0.1，新数据大小集为100，\n",
    "lime.fit([2, 1], random_state=100)\n",
    "\n",
    "# 保留三位小数\n",
    "lime.show(estimate=3)"
   ]
  },
  {
   "cell_type": "markdown",
   "id": "9bf69dda-1be4-4328-9170-0d47ba5d58fe",
   "metadata": {},
   "source": [
    "### DEMO 3-4：绘制分类模型$f_{1}(x,y)=\\frac{1}{1+e^{-x-y}}$，$f_{2}(x,y)=1-f_{1}(x,y)$在点$(-1,2)$附近的各特征贡献值图"
   ]
  },
  {
   "cell_type": "code",
   "execution_count": 7,
   "id": "2a2b1d10-ce0c-412e-a049-737ac56efe9a",
   "metadata": {},
   "outputs": [
    {
     "data": {
      "image/png": "[encoded data removed]",
      "text/plain": [
       "<Figure size 576x144 with 1 Axes>"
      ]
     },
     "metadata": {
      "needs_background": "light"
     },
     "output_type": "display_data"
    },
    {
     "data": {
      "image/png": "[encoded data removed]",
      "text/plain": [
       "<Figure size 576x144 with 1 Axes>"
      ]
     },
     "metadata": {
      "needs_background": "light"
     },
     "output_type": "display_data"
    }
   ],
   "source": [
    "from maysics.explain import Lime\n",
    "import numpy as np\n",
    "\n",
    "def f(x):\n",
    "    x = x[:, 0] + x[:, 1]\n",
    "    x = 1 / (1 + np.e**(-x))\n",
    "    return np.array([x, 1 - x]).T\n",
    "\n",
    "lime = Lime(f)\n",
    "lime.fit([-1, 2], random_state=100)\n",
    "lime.show(estimate=3)"
   ]
  },
  {
   "cell_type": "markdown",
   "id": "e3a88af0-4223-441c-8976-e9fc8c0decfb",
   "metadata": {},
   "source": [
    "show函数和savefig函数仅支持表格数据的回归和分类模型的可视化"
   ]
  },
  {
   "cell_type": "markdown",
   "id": "85d8bfbf-ff46-475d-ba4e-969bf6ae793a",
   "metadata": {},
   "source": [
    "<br></br>\n",
    "## SHAP值和Shapley值：SHAP和Shapley\n",
    "使用与Lime类似\n",
    "<br>SHAP(predict)\n",
    "<br>Shapley(predict)\n",
    "<br>```predict```是模型的预测函数\n",
    "\n",
    "\n",
    "### SHAP和Shapley的方法\n",
    "两个类都有三个方法：```fit```、```show```、```savefig```\n",
    "<br>SHAP类和Shapley类仅适用于表格数据\n",
    "\n",
    "### DEMO 4-1：求函数$f(x,y)=x^{2}+y^{2}$在点$(1,0)$的SHAP值"
   ]
  },
  {
   "cell_type": "code",
   "execution_count": 8,
   "id": "7c2f94ae-3e66-4b63-a4d8-4a77332483ca",
   "metadata": {},
   "outputs": [
    {
     "data": {
      "text/plain": [
       "array([1., 0.])"
      ]
     },
     "execution_count": 8,
     "metadata": {},
     "output_type": "execute_result"
    }
   ],
   "source": [
    "from maysics.explain import SHAP\n",
    "import numpy as np\n",
    "\n",
    "# 仅支持小批量输入函数\n",
    "def f(x):\n",
    "    x = np.array(x)\n",
    "    return x[:, 0]**2 + x[:, 1]**2\n",
    "\n",
    "shap = SHAP(f)\n",
    "shap.fit([1, 0])\n",
    "shap.values"
   ]
  },
  {
   "cell_type": "markdown",
   "id": "3b9c49bf-5733-4861-8094-d98d5c33ef23",
   "metadata": {},
   "source": [
    "### DEMO 4-2：绘制函数$f(x,y)=x^{2}+y^{2}$在点$(1,0)$的SHAP值"
   ]
  },
  {
   "cell_type": "code",
   "execution_count": 9,
   "id": "f70a2f0d-b25d-4533-a3e2-3220d93754ce",
   "metadata": {},
   "outputs": [
    {
     "data": {
      "image/png": "[encoded data removed]",
      "text/plain": [
       "<Figure size 576x72 with 1 Axes>"
      ]
     },
     "metadata": {
      "needs_background": "light"
     },
     "output_type": "display_data"
    }
   ],
   "source": [
    "from maysics.explain import SHAP\n",
    "import numpy as np\n",
    "\n",
    "# 仅支持小批量输入函数\n",
    "def f(x):\n",
    "    x = np.array(x)\n",
    "    return x[:, 0]**2 + x[:, 1]**2\n",
    "\n",
    "shap = SHAP(f)\n",
    "shap.fit([1, 0])\n",
    "shap.show()"
   ]
  },
  {
   "cell_type": "markdown",
   "id": "fa874a5c-95ee-402c-9282-7f2695f32eee",
   "metadata": {},
   "source": [
    "### DEMO 4-3：求函数$f(x,y)=x^{2}+y^{2}$在点集${(1,0),(2,1)}$的Shapley值"
   ]
  },
  {
   "cell_type": "code",
   "execution_count": 10,
   "id": "e20e330c-efe4-4624-a3fb-f1424591cfdf",
   "metadata": {},
   "outputs": [
    {
     "data": {
      "text/plain": [
       "array([2.5, 0.5])"
      ]
     },
     "execution_count": 10,
     "metadata": {},
     "output_type": "execute_result"
    }
   ],
   "source": [
    "from maysics.explain import Shapley\n",
    "import numpy as np\n",
    "\n",
    "# 仅支持小批量输入函数\n",
    "def f(x):\n",
    "    x = np.array(x)\n",
    "    return x[:, 0]**2 + x[:, 1]**2\n",
    "\n",
    "shapley = Shapley(f)\n",
    "shapley.fit([[1, 0], [2, 1]])\n",
    "shapley.values"
   ]
  },
  {
   "cell_type": "markdown",
   "id": "764da655-32fe-429b-90eb-dcc56ef8a19e",
   "metadata": {},
   "source": [
    "### DEMO 4-4：绘制函数$f(x,y)=x^{2}+y^{2}$在点集${(1,0),(2,1)}$的Shapley值"
   ]
  },
  {
   "cell_type": "code",
   "execution_count": 11,
   "id": "5cd6c9ff-811c-43b0-8a73-d37f96b3a305",
   "metadata": {},
   "outputs": [
    {
     "data": {
      "image/png": "[encoded data removed]",
      "text/plain": [
       "<Figure size 576x72 with 1 Axes>"
      ]
     },
     "metadata": {
      "needs_background": "light"
     },
     "output_type": "display_data"
    }
   ],
   "source": [
    "from maysics.explain import Shapley\n",
    "import numpy as np\n",
    "\n",
    "# 仅支持小批量输入函数\n",
    "def f(x):\n",
    "    x = np.array(x)\n",
    "    return x[:, 0]**2 + x[:, 1]**2\n",
    "\n",
    "shapley = Shapley(f)\n",
    "shapley.fit([[1, 0], [2, 1]])\n",
    "shapley.show()"
   ]
  },
  {
   "cell_type": "markdown",
   "id": "7b9b7c8b-b8d3-4475-a03d-04d83f009e79",
   "metadata": {},
   "source": [
    "本模块中的以上两种解释方法：SHAP和Shapley，目前只能解释有一个预测值的回归模型"
   ]
  }
 ],
 "metadata": {
  "kernelspec": {
   "display_name": "Python 3",
   "language": "python",
   "name": "python3"
  },
  "language_info": {
   "codemirror_mode": {
    "name": "ipython",
    "version": 3
   },
   "file_extension": ".py",
   "mimetype": "text/x-python",
   "name": "python",
   "nbconvert_exporter": "python",
   "pygments_lexer": "ipython3",
   "version": "3.8.6"
  }
 },
 "nbformat": 4,
 "nbformat_minor": 5
}
