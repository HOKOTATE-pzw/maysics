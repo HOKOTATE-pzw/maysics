{
 "cells": [
  {
   "cell_type": "markdown",
   "metadata": {},
   "source": [
    "# maysics.algo模块使用说明\n",
    "\n",
    "algo模块包含两个函数：\n",
    "\n",
    "|名称|作用|\n",
    "|---|---|\n",
    "|pagerank|网页排序算法|\n",
    "|pso|粒子群优化算法|\n",
    "\n",
    "algo模块包含四个类：\n",
    "\n",
    "|名称|作用|\n",
    "|---|---|\n",
    "|MC|蒙特卡洛模拟|\n",
    "|GA|遗传算法|\n",
    "|SA|模拟退火算法|\n",
    "|GD|梯度下降算法|"
   ]
  },
  {
   "cell_type": "markdown",
   "metadata": {},
   "source": [
    "<br></br>\n",
    "## 网页排序算法：pagerank\n",
    "pagerank(data, loop=5, pr=None, d=0.85, l=False)\n",
    "\n",
    "用于网页重要性排序\n",
    "<br>data：列表形式，每个连接所指向的链接或L矩阵，L矩阵即L(i, j)表示：如果j链接指向i链接，则L(i, j)为j链接指向的所有链接数；否则为0\n",
    "<br>loop：整型，迭代次数，默认为5\n",
    "<br>pr：一维数组形式，初始的pagerank值，默认pagerank值全部相等\n",
    "<br>d：数类型，系数，默认为0.85\n",
    "<br>l：布尔类型，True表示data是L矩阵，默认为False\n",
    "\n",
    "### DEMO 1-1：计算如下链接指向图的各个链接的相对重要性"
   ]
  },
  {
   "cell_type": "code",
   "execution_count": 1,
   "metadata": {},
   "outputs": [
    {
     "data": {
      "image/png": "[encoded data removed]",
      "text/plain": [
       "<Figure size 432x288 with 1 Axes>"
      ]
     },
     "metadata": {},
     "output_type": "display_data"
    }
   ],
   "source": [
    "# 这里采用networkx包来对网络图进行绘制\n",
    "import networkx as nx\n",
    "import matplotlib.pyplot as plt\n",
    "\n",
    "G = nx.DiGraph()\n",
    "G.add_nodes_from([0, 1, 2, 3, 4, 5, 6])\n",
    "G.add_edges_from([(0, 1), (0, 2), (0, 3), (0, 4), (0, 6),\n",
    "                  (1, 0),\n",
    "                  (2, 0), (2, 1),\n",
    "                  (3, 1), (3, 2), (3, 4),\n",
    "                  (4, 0), (4, 2), (4, 3), (4, 5),\n",
    "                  (5, 0), (5, 4),\n",
    "                  (6, 4)])\n",
    "nx.draw(G, with_labels=True)\n",
    "plt.show()"
   ]
  },
  {
   "cell_type": "code",
   "execution_count": 2,
   "metadata": {},
   "outputs": [
    {
     "data": {
      "text/plain": [
       "array([0.28032189, 0.15872033, 0.13889698, 0.10826608, 0.18410007,\n",
       "       0.06060696, 0.06908769])"
      ]
     },
     "execution_count": 2,
     "metadata": {},
     "output_type": "execute_result"
    }
   ],
   "source": [
    "import maysics as ms\n",
    "\n",
    "data = [[1, 2, 3, 4, 6],\n",
    "        [0],\n",
    "        [0, 1],\n",
    "        [1, 2, 4],\n",
    "        [0, 2, 3, 5],\n",
    "        [0, 4],\n",
    "        [4]]\n",
    "\n",
    "ms.algo.pagerank(data, loop=10)"
   ]
  },
  {
   "cell_type": "markdown",
   "metadata": {},
   "source": [
    "<br></br>\n",
    "## 粒子群优化算法：pso\n",
    "pso(select, initial, num=10, loop=10, omega=1, phi_1=2, phi_2=2, v_max=None, param={}, random_state=None, batch=True)\n",
    "<br>```select```是粒子的评估函数，需返回每个粒子的评估值，默认函数最小值为最优\n",
    "<br>```initial```是1维或2维数组，初始粒子位置 \n",
    "<br>```num```是模拟粒子个数\n",
    "<br>```loop```是迭代次数\n",
    "<br>```omega```是数或函数，惯性权重因子，若为函数，其输入须为迭代次数\n",
    "<br>```phi_1```是第一个加速度常数\n",
    "<br>```phi_2```是第二个加速度常数\n",
    "<br>```v_max```是粒子最大速度\n",
    "<br>```param```：当select函数有其他非默认参数时，需输入以参数名为键，参数值为值的字典\n",
    "<br>```random_state```是随机种子\n",
    "<br>```batch```：True表示评估函数为批量输入函数，False表示评估函数为非批量输入函数\n",
    "\n",
    "### 第i个粒子的第k+1步迭代公式\n",
    "$$v_{k+1}=\\omega_{k}v_{k}+\\phi_{1}rand(0,1)(p_{i,k}-x_{i,k})+\\phi_{2}rand(0,1)(p_{g,k}-x_{i,k})$$\n",
    "$$x_{k+1}=x_{k}+v_{k+1}$$\n",
    "其中，$p_{i,k}$是第i个粒子k步扩散以来最优的位置\n",
    "<br>$p_{g,k}$是所有粒子k步扩散以来最优的位置\n",
    "<br>$rand$是随机函数\n",
    "\n",
    "### DEMO 2-1：求非批量输入函数$f(x,y,z)=x^{2}+y^{2}+z^{2}$的最小值"
   ]
  },
  {
   "cell_type": "code",
   "execution_count": 3,
   "metadata": {},
   "outputs": [
    {
     "data": {
      "text/plain": [
       "array([ 3.79862362,  0.74240201, -2.43763427])"
      ]
     },
     "execution_count": 3,
     "metadata": {},
     "output_type": "execute_result"
    }
   ],
   "source": [
    "import maysics as ms\n",
    "\n",
    "def f(x):\n",
    "    return sum(x**2)\n",
    "\n",
    "#设置粒子初始位置为(5, 10, 10)\n",
    "ms.algo.pso(f, [5, 10, 10], num=5, loop=300, v_max=10, random_state=100, batch=False)"
   ]
  },
  {
   "cell_type": "markdown",
   "metadata": {},
   "source": [
    "### DEMO 2-2：求批量输入函数$f(x,y,z)=x^{2}+y^{2}+z^{2}$的最小值"
   ]
  },
  {
   "cell_type": "code",
   "execution_count": 4,
   "metadata": {},
   "outputs": [
    {
     "data": {
      "text/plain": [
       "array([ 3.79862362,  0.74240201, -2.43763427])"
      ]
     },
     "execution_count": 4,
     "metadata": {},
     "output_type": "execute_result"
    }
   ],
   "source": [
    "import maysics as ms\n",
    "\n",
    "def f(x):\n",
    "    x = x**2\n",
    "    return x.sum(axis=1)\n",
    "\n",
    "#设置粒子初始位置为(5, 10, 10)\n",
    "ms.algo.pso(f, [5, 10, 10], num=5, loop=300, v_max=10, random_state=100)"
   ]
  },
  {
   "cell_type": "markdown",
   "metadata": {},
   "source": [
    "<br></br>\n",
    "## 蒙特卡洛模拟：MC\n",
    "MC(loop=1000, random_type='random', random_state=None, begin=None, end=None, n_jobs=1)\n",
    "\n",
    "### MC下设四个可调用函数\n",
    "```sel_ind```、```sel_any```、```sel_con```、```fit```\n",
    "<br>其中，```fit```函数是核心函数，用于启动模拟\n",
    "\n",
    "### 读取模拟结果\n",
    "MC类有三个用于读取模拟结果的属性：```EX```、```DX```和```history```\n",
    "<br>要在使用```fit```方法后，这三个属性才能调用\n",
    "<br>```EX```表示最后一次使用```fit```方法的期望\n",
    "<br>```DX```表示最后一次使用```fit```方法的方差\n",
    "<br>```history```表示```EX```和```DX```的所有历史值\n",
    "<br>```history```数据类型为字典，具体形式：```{'EX':[...], 'DX':[...]}```\n",
    "\n",
    "### fit函数模拟原理\n",
    "fit(length, dim, select)\n",
    "<br>产生loop个length * dim的二维数组\n",
    "<br>每一行称为一个状态，所以一个二维数组有length个状态\n",
    "<br>一个length * dim的二维数组称为一个实验\n",
    "<br>综上所述，MC的模拟结构是进行loop次模拟，每次模拟包括length个具有dim个元素的随机状态\n",
    "\n",
    "```select```参数影响着模拟结果的生成，该参数可以是函数，也可以是函数列表\n",
    "<br>无论是函数还是函数列表，都是由使用者自定义的\n",
    "<br>```select```函数针对的对象一次模拟中的二维数组，即判断某一次模拟的结果如何\n",
    "<br>对于输入函数的情况，```select```函数的返回值可以是任意值\n",
    "<br>但是对于输入函数列表的情况，列表中各个函数的返回值只能是1或0\n",
    "\n",
    "在每一次模拟后，由```select```函数返回的值会被计算机储存\n",
    "<br>在```fit```方法进行loop次模拟后，会自动计算这些返回值的数学期望和方差\n",
    "<br>数学期望和方差分别被储存在```EX```属性和```DX```属性中"
   ]
  },
  {
   "cell_type": "markdown",
   "metadata": {},
   "source": [
    "### DEMO 3-1：select为函数"
   ]
  },
  {
   "cell_type": "code",
   "execution_count": 5,
   "metadata": {},
   "outputs": [
    {
     "name": "stdout",
     "output_type": "stream",
     "text": [
      "期望：0.504\n",
      "方差：0.24998400000000004\n"
     ]
    }
   ],
   "source": [
    "# 模拟抛硬币的过程，求硬币面的期望（正面表示1，反面表示0）\n",
    "from maysics.algo import MC\n",
    "\n",
    "# 返回硬币面代表的值\n",
    "def select(x):\n",
    "    return x[0][0]\n",
    "\n",
    "# 产生随机数的方式是在[0, 1]内随机生成整数\n",
    "mc = MC(random_type='randint', begin=0, end=1, random_state=100)\n",
    "\n",
    "# 一次模拟就是抛一次硬币，只有一个状态和一个维度\n",
    "# 所以length=1，dim=1\n",
    "mc.fit(1, 1, select)\n",
    "\n",
    "# 输出期望和方差\n",
    "print('期望：{}\\n方差：{}'.format(mc.EX, mc.DX))"
   ]
  },
  {
   "cell_type": "markdown",
   "metadata": {},
   "source": [
    "### DEMO 3-2：select为函数列表"
   ]
  },
  {
   "cell_type": "code",
   "execution_count": 6,
   "metadata": {},
   "outputs": [
    {
     "name": "stdout",
     "output_type": "stream",
     "text": [
      "pi/4 ≈ 0.814\n",
      "方差：0.15140400000000004\n"
     ]
    }
   ],
   "source": [
    "# 用1/4圆和外接正方形面积比的方法逼近pi\n",
    "# 产生二维随机数(x, y)，在圆内的点数目/全部点数目 ≈ pi/4\n",
    "from maysics.algo import MC\n",
    "\n",
    "# 在半径为1的1/4圆内的点输出1，否则输出0\n",
    "def select(x):\n",
    "    if x[0][0]**2 + x[0][1]**2 < 1:\n",
    "        return 1\n",
    "    else:\n",
    "        return 0\n",
    "\n",
    "# 默认loop=1000，产生[0, 1)之间的随机数\n",
    "mc = MC(random_state=100)\n",
    "\n",
    "# 一次模拟为一个状态，两个维度\n",
    "# 所以length=1，dim=2\n",
    "mc.fit(1, 2, select)\n",
    "\n",
    "print('pi/4 ≈ {}\\n方差：{}'.format(mc.EX, mc.DX))"
   ]
  },
  {
   "cell_type": "markdown",
   "metadata": {},
   "source": [
    "### sel_ind、sel_any和sel_con\n",
    "这三个函数用于辅助编写```select```函数\n",
    "<br>三个函数都有```condition```参数，该参数要求输入一个由使用者编写的函数\n",
    "<br>```condition```函数类似只针对一个状态来编写的```select```函数\n",
    "<br>但是```condition```函数并不如自定义的```select```函数一样可以返回各种值\n",
    "<br>而是只能返回True或False，来判断某个函数是否“适格”\n",
    "\n",
    "若某个```condtion```函数表示一个状态的所有维度之和大于10为True，否则为False\n",
    "<br>则```sel_ind```函数可以编写一个```select```函数：一次模拟只有每个状态的维度之和大于0才会返回1，否则返回0\n",
    "<br>```sel_any```函数可以编写一个```select```函数：一次模拟只要任意n个状态的维度之和大于0就会返回1，否则返回0\n",
    "<br>```sel_con```函数可以编写一个```select```函数：一次模拟要有n个连续的状态维度之和大于0才会返回1，否则返回0\n",
    "<br>具体例子如下：\n",
    "### DEMO 3-3：求一个月内连续两周下雨大于等于3天的概率"
   ]
  },
  {
   "cell_type": "code",
   "execution_count": 7,
   "metadata": {},
   "outputs": [
    {
     "name": "stdout",
     "output_type": "stream",
     "text": [
      "概率：0.268\n",
      "方差：0.196176\n"
     ]
    }
   ],
   "source": [
    "# 已知下个月降雨率为40%\n",
    "# 求一个月内连续两周下雨大于等于3天的概率\n",
    "# 一次模拟是一个月的天气情况，一个月设有四周\n",
    "# 则一次模拟应为4个状态，7个维度\n",
    "# 即length=4，dim=7\n",
    "from maysics.algo import MC\n",
    "\n",
    "# 针对一个状态编写condition函数\n",
    "# 根据降雨概率\n",
    "# 随机数大于0.4表示晴天，小于等于0.4表示雨天\n",
    "def condition(x):\n",
    "    num = len(x[x <= 0.4])\n",
    "    if num >= 3:\n",
    "        return True\n",
    "    else:\n",
    "        return False\n",
    "\n",
    "mc = MC(random_state=100)\n",
    "\n",
    "# 通过sel_con函数生成select函数\n",
    "select = mc.sel_con(3, condition)\n",
    "mc.fit(4, 7, select)\n",
    "\n",
    "print('概率：{}\\n方差：{}'.format(mc.EX, mc.DX))"
   ]
  },
  {
   "cell_type": "markdown",
   "metadata": {},
   "source": [
    "### 使用自定义随机数产生方法\n",
    "可以在类的实例化时，修改```random_type```参数，输入自定义的随机数产生方式\n",
    "### DEMO 3-4：求自由度为2的卡方分布均值和方差"
   ]
  },
  {
   "cell_type": "code",
   "execution_count": 8,
   "metadata": {},
   "outputs": [
    {
     "name": "stdout",
     "output_type": "stream",
     "text": [
      "均值：1.99383007531525\n",
      "方差：4.050676069065209\n"
     ]
    }
   ],
   "source": [
    "from maysics.algo import MC\n",
    "import numpy as np\n",
    "\n",
    "def select(x):\n",
    "    return x[0][0]\n",
    "\n",
    "\n",
    "def random_f():\n",
    "    return np.array([[np.random.chisquare(2)]])\n",
    "\n",
    "# 将模拟次数调整到10000次\n",
    "mc = MC(loop=10000, random_type=random_f, random_state=100)\n",
    "mc.fit(length=None, dim=None, select=select)\n",
    "\n",
    "print('均值：{}\\n方差：{}'.format(mc.EX, mc.DX))"
   ]
  },
  {
   "cell_type": "markdown",
   "metadata": {},
   "source": [
    "### 多核计算\n",
    "在类的实例化时，可以修改```n_jobs```参数，表示调用的cpu数，默认为1\n",
    "<br>当设定```n_jobs=-1```时，则会调用所有的cpu进行计算\n",
    "#### 注意\n",
    "在设定```n_jobs```不为1时，要加上```if __name__ == \"__main__\":```才会起效果\n",
    "<br>多核运行时需要在.py文件中运行才会起效果"
   ]
  },
  {
   "cell_type": "markdown",
   "metadata": {},
   "source": [
    "<br></br>\n",
    "## 遗传算法：GA\n",
    "GA(population=1000, iteration=100, random_type='random', select='rw', crossover='uniform', begin=None, end=None, random_state=None, select_rate=0.3, mutate_rate=0.05, crossover_rate=0.5, repeat=True)\n",
    "\n",
    "GA类下仅设一个可调用函数```fit```\n",
    "<br>fit(length, fitness, param={})\n",
    "<br>```length```是染色体长度\n",
    "<br>```fitness```是适应度函数\n",
    "<br>```param```：当fitness函数有其他非默认参数时，需输入以参数名为键，参数值为值的字典\n",
    "\n",
    "\n",
    "### 名词解释\n",
    "个体：由一段长为length的染色体组成\n",
    "<br>种群：population个个体组成\n",
    "<br>交叉互换：两个个体之间部分染色体进行交换\n",
    "<br>变异：染色体部分随机变化\n",
    "<br>选择：通过一定的机制淘汰一部分个体，使得另一部分个体得以保留\n",
    "\n",
    "### 模拟原理\n",
    "随机生成种群 → 选择 → 交叉互换 → 变异 → 选择\n",
    "<br>经过多次选择后得到优势个体则为问题最优解\n",
    "<br>选择的标准是由使用者自定义的```fitness```函数\n",
    "<br>```fitness```函数针对的对象是一个个体，返回值是个体的适应性的量化值\n",
    "<br>对于有着更高“适应值”的个体，更有可能在环境中存活，即更有可能“被选择”\n",
    "<br>相应地，对于“适应值”较低的个体，也有一定概率可以在“选择”中存活下来\n",
    "\n",
    "#### 选择\n",
    "选择有两种可选择方式：轮盘赌选择和随机竞争选择（默认为轮盘赌选择）\n",
    "<br>轮盘赌选择：\n",
    "<br>随机竞争选择：\n",
    "<br>在种群中随机选择两个不同个体，比较他们的“适应值”，高的一方可以存活\n",
    "\n",
    "#### 交叉互换\n",
    "交叉互换有两种可选择方式：均匀交叉和多点交叉（默认为均匀交叉）\n",
    "<br>均匀交叉：\n",
    "<br>在种群中随机选择两个不同的个体，染色体的每个基因都有固定的概率会发生交换\n",
    "<br>多点交叉：\n",
    "<br>在种群中随机选择两个不同的个体，染色体随机的n歌基因会发生交换\n",
    "\n",
    "#### 变异\n",
    "种群中的每个个体在交叉互换后\n",
    "<br>染色体的每个基因都有固定的概率（默认为0.05）发生变化（变成一个随机生成的基因）\n",
    "\n",
    "### 适应度函数\n",
    "fitness函数的输入是一个一维ndarray\n",
    "\n",
    "### 查看模拟结果\n",
    "GA类有两个可以读取模拟结果的属性：```dom```和```dom_fitness```\n",
    "<br>分别可以读取最后选择的优势种和优势种中各个个体的“适应值”\n",
    "\n",
    "### DEMO 4-1：求$f(x, y) = (x - 0.5)^{2} + (y - 0.5)^{2}$在$x\\in[0, 1)，y\\in[0, 1)$的最小值"
   ]
  },
  {
   "cell_type": "code",
   "execution_count": 9,
   "metadata": {},
   "outputs": [
    {
     "name": "stdout",
     "output_type": "stream",
     "text": [
      "优势种：[[0.97204827 0.16734239]\n",
      " [0.52863842 0.30842538]\n",
      " [0.68144675 0.55333747]\n",
      " [0.3918928  0.54980302]\n",
      " [0.11736584 0.5591965 ]\n",
      " [0.4228853  0.27077977]\n",
      " [0.17357838 0.27077977]\n",
      " [0.04606048 0.07130865]\n",
      " [0.68144675 0.40957457]\n",
      " [0.9689087  0.0015164 ]\n",
      " [0.84159852 0.16157609]\n",
      " [0.54190479 0.56029817]\n",
      " [0.4228853  0.3734573 ]\n",
      " [0.74305167 0.54980302]\n",
      " [0.32302048 0.5178659 ]\n",
      " [0.04606048 0.82930784]\n",
      " [0.48871746 0.16157609]\n",
      " [0.4228853  0.20302696]\n",
      " [0.46687011 0.46853831]\n",
      " [0.48898286 0.5178659 ]\n",
      " [0.54190479 0.11109486]\n",
      " [0.48871746 0.93469173]\n",
      " [0.4228853  0.73814262]\n",
      " [0.9689087  0.55333747]\n",
      " [0.56495697 0.11109486]\n",
      " [0.11736584 0.55333747]\n",
      " [0.48898286 0.79166162]\n",
      " [0.69652605 0.91991898]\n",
      " [0.4228853  0.11115012]\n",
      " [0.69652605 0.55333747]]\n",
      "函数值：[3.33490654e-01 3.75209936e-02 3.57678082e-02 1.41675069e-02\n",
      " 1.49913127e-01 5.84885895e-02 1.59092989e-01 3.89837360e-01\n",
      " 4.10996811e-02 4.68361269e-01 2.31220293e-01 5.39188149e-03\n",
      " 2.19597324e-02 6.15544570e-02 3.16409419e-02 3.14504739e-01\n",
      " 1.14658038e-01 9.41396613e-02 2.08742727e-03 4.40567806e-04\n",
      " 1.53003219e-01 1.89084193e-01 6.26585864e-02 2.22720257e-01\n",
      " 1.55466615e-01 1.49253787e-01 8.51878794e-02 2.14954439e-01\n",
      " 1.57150910e-01 4.14673738e-02]\n",
      "\n",
      "最优个体：[0.48898286 0.5178659 ]\n",
      "相应函数值：0.0004405678063550411\n"
     ]
    }
   ],
   "source": [
    "from maysics.algo import GA\n",
    "import numpy as np\n",
    "\n",
    "# 将函数值+1的倒数作为“适应值”\n",
    "def fitness(x):\n",
    "    y = (x[0] - 0.5)**2 + (x[1] - 0.5)**2\n",
    "    return 1 / (y + 1)\n",
    "\n",
    "# 将存活率调整至3%\n",
    "ga = GA(select_rate=0.03, random_state=100)\n",
    "\n",
    "# 设定染色体长度为2（只有两个基因：x和y）\n",
    "ga.fit(2, fitness)\n",
    "y = 1 / ga.dom_fitness - 1\n",
    "\n",
    "print('优势种：{}\\n函数值：{}'.format(ga.dom, y))\n",
    "\n",
    "# 在优势种中找到最优个体\n",
    "index = np.argmin(y)\n",
    "print('\\n最优个体：{}\\n相应函数值：{}'.format(ga.dom[index], y[index]))"
   ]
  },
  {
   "cell_type": "markdown",
   "metadata": {},
   "source": [
    "染色体的基因可以是整数也可以是小数，在初始化GA时可以通过```random_type```参数调整\n",
    "<br>```random_type='random'```表示基因由在0到1之间的随机小数构成\n",
    "<br>```random_type='randint'```表示基因由随机整数构成\n",
    "<br>在后者的情况中，初始化时还有两个参数会起作用：```begin```和```end```\n",
    "<br>表示随机整数的范围\n",
    "\n",
    "### DEMO 4-2：使用随机整数为基因的遗传算法"
   ]
  },
  {
   "cell_type": "code",
   "execution_count": 10,
   "metadata": {},
   "outputs": [
    {
     "name": "stdout",
     "output_type": "stream",
     "text": [
      "优势种：[[ 4  5]\n",
      " [ 5  5]\n",
      " [ 3  4]\n",
      " [ 5  4]\n",
      " [ 6  3]\n",
      " [10  2]\n",
      " [ 3  0]\n",
      " [ 9  5]\n",
      " [ 3  9]]\n",
      "函数值：[ 1.  0.  5.  1.  5. 34. 29. 16. 20.]\n",
      "\n",
      "最优个体：[5 5]\n",
      "相应函数值：0.0\n"
     ]
    }
   ],
   "source": [
    "from maysics.algo import GA\n",
    "import numpy as np\n",
    "\n",
    "# 求f(x, y) = (x - 5)^2 + (y - 5)^2\n",
    "# 在x∈[0, 10]，y∈[0, 10]且x，y均为整数的最小值\n",
    "\n",
    "# 将函数值+1的倒数作为“适应值”\n",
    "def fitness(x):\n",
    "    y = (x[0] - 5)**2 + (x[1] - 5)**2\n",
    "    return 1 / (y + 1)\n",
    "\n",
    "# 将种群数调整为30，迭代次数调整为15次\n",
    "ga = GA(30, 15, random_type='randint', begin=0, end=10, random_state=100)\n",
    "\n",
    "# 设定染色体长度为2（只有两个基因：x和y）\n",
    "ga.fit(2, fitness)\n",
    "y = 1 / ga.dom_fitness - 1\n",
    "\n",
    "print('优势种：{}\\n函数值：{}'.format(ga.dom, y))\n",
    "\n",
    "# 在优势种中找到最优个体\n",
    "index = np.argmin(y)\n",
    "print('\\n最优个体：{}\\n相应函数值：{}'.format(ga.dom[index], y[index]))"
   ]
  },
  {
   "cell_type": "markdown",
   "metadata": {},
   "source": [
    "在```random_type='randint'```时还可以调整参数```repeat```\n",
    "<br>作用是是否允许个体的基因重复\n",
    "<br>```repeat```参数默认为True，即允许基因重复\n",
    "\n",
    "### DEMO 4-3：旅行商（TSP）问题"
   ]
  },
  {
   "cell_type": "code",
   "execution_count": 11,
   "metadata": {},
   "outputs": [
    {
     "name": "stdout",
     "output_type": "stream",
     "text": [
      "较短路径：[[3 0 2 4 5 1]\n",
      " [0 2 5 4 3 1]\n",
      " [2 5 3 0 1 4]\n",
      " [1 0 4 5 3 2]\n",
      " [1 5 4 0 2 3]\n",
      " [2 3 4 0 1 5]\n",
      " [0 3 4 1 2 5]\n",
      " [3 5 4 0 2 1]\n",
      " [0 4 1 2 3 5]\n",
      " [1 4 0 3 2 5]\n",
      " [4 3 5 1 2 0]\n",
      " [5 4 0 2 1 3]\n",
      " [5 0 2 3 1 4]\n",
      " [0 2 3 4 5 1]\n",
      " [0 3 2 4 1 5]]\n",
      "路程长度：[24. 25. 23. 27. 22. 19. 21. 27. 21. 20. 24. 27. 20. 21. 16.]\n"
     ]
    }
   ],
   "source": [
    "# 求解邻接矩阵如a的图的TSP问题\n",
    "from maysics.algo import GA\n",
    "import numpy as np\n",
    "\n",
    "# 邻接矩阵\n",
    "a = [[0, 1, 3, 3, 5, 2],\n",
    "     [1, 0, 4, 2, 2, 3],\n",
    "     [3, 4, 0, 2, 4, 7],\n",
    "     [3, 2, 2, 0, 3, 6],\n",
    "     [3, 2, 4, 3, 0, 9],\n",
    "     [2, 3, 7, 6, 9, 0]]\n",
    "\n",
    "def fitness(x):\n",
    "    result = 0\n",
    "    for i in range(len(x)-1):\n",
    "        result += a[x[i]][x[i+1]]\n",
    "    result += a[x[-1]][x[0]]\n",
    "    return 1 / result\n",
    "\n",
    "# 调整repeat=False\n",
    "ga = GA(population=50, iteration=30, random_type='randint', begin=0, end=5, repeat=False, random_state=100)\n",
    "\n",
    "ga.fit(6, fitness)\n",
    "\n",
    "print('较短路径：{}\\n路程长度：{}'.format(ga.dom, 1 / ga.dom_fitness))"
   ]
  },
  {
   "cell_type": "markdown",
   "metadata": {},
   "source": [
    "<br></br>\n",
    "## 模拟退火算法：SA\n",
    "SA(anneal=0.9, step=1, param={}, n=10, random_state=None)\n",
    "\n",
    "### 等温过程\n",
    "从初始点$x$开始，随机生成一个位移$\\Delta x$，判断x点和$x+\\Delta x$点的函数值大小\n",
    "<br>如果$f(x+\\Delta x)<f(x)$，则用$x+\\Delta x$取代$x$\n",
    "<br>如果$f(x+\\Delta x)>=f(x)$，则有$e^{-\\Delta f/T}$的概率用$x+\\Delta x$取代$x$\n",
    "<br>其中，$df=f(x+\\Delta x)-f(x)$，$T$为当前温度\n",
    "<br>该过程迭代n次\n",
    "\n",
    "### 退火过程\n",
    "温度$T$按照设定的退火模式降低，默认为$T_{new}=0.9T$\n",
    "<br>退火后重新进入等温过程，直至温度$T$降低到设定的退火温度$T_{0}$\n",
    "\n",
    "<br>注意：默认最小值点为最优点\n",
    "### DEMO 5-1：求函数$f(x, y) = (x - 1)^{2} + (y - 1)^{2}$的最小值"
   ]
  },
  {
   "cell_type": "code",
   "execution_count": 12,
   "metadata": {},
   "outputs": [
    {
     "name": "stdout",
     "output_type": "stream",
     "text": [
      "最小值点：[-0.56947081  2.63078061]\n",
      "最小值：5.122684020493003\n"
     ]
    }
   ],
   "source": [
    "from maysics.algo import SA\n",
    "\n",
    "# 定义被优化函数\n",
    "def select(x):\n",
    "    return (x[0]-1)**2 + (x[1]-1)**2\n",
    "\n",
    "\n",
    "sa = SA(random_state=100)\n",
    "# 设定初始点为(2, 2)\n",
    "# 设定初始温度为100，退火温度为20\n",
    "sa.fit(select, 100, 20, [2, 2])\n",
    "\n",
    "print('最小值点：{}\\n最小值：{}'.format(sa.solution, sa.value))"
   ]
  },
  {
   "cell_type": "markdown",
   "metadata": {},
   "source": [
    "### DEMO 5-2：求函数$f(x, y) = (x - 1)^{2} + (y - 1)^{2}$的最小值时的退火轨迹"
   ]
  },
  {
   "cell_type": "code",
   "execution_count": 13,
   "metadata": {},
   "outputs": [
    {
     "data": {
      "text/plain": [
       "<matplotlib.legend.Legend at 0x201624744f0>"
      ]
     },
     "execution_count": 13,
     "metadata": {},
     "output_type": "execute_result"
    },
    {
     "data": {
      "image/png": "[encoded data removed]",
      "text/plain": [
       "<Figure size 432x288 with 1 Axes>"
      ]
     },
     "metadata": {
      "needs_background": "light"
     },
     "output_type": "display_data"
    }
   ],
   "source": [
    "from maysics.algo import SA\n",
    "from matplotlib import pyplot as plt\n",
    "\n",
    "# 定义被优化函数\n",
    "def select(x):\n",
    "    return (x[0]-1)**2 + (x[1]-1)**2\n",
    "\n",
    "\n",
    "sa = SA(random_state=100)\n",
    "# 设定初始点为(2, 2)\n",
    "# 设定初始温度为100，退火温度为20\n",
    "sa.fit(select, 100, 20, [2, 2])\n",
    "\n",
    "plt.plot(sa.trace[:, 0], sa.trace[:, 1])\n",
    "plt.scatter(sa.trace[0,0], sa.trace[0,1], color='red', label='begin')\n",
    "plt.scatter(sa.trace[-1,0], sa.trace[-1,1], color='green', label='end')\n",
    "plt.legend()"
   ]
  },
  {
   "cell_type": "markdown",
   "metadata": {},
   "source": [
    "### DEMO 5-3：旅行商（TSP）问题"
   ]
  },
  {
   "cell_type": "code",
   "execution_count": 14,
   "metadata": {},
   "outputs": [
    {
     "name": "stdout",
     "output_type": "stream",
     "text": [
      "最优路径：[0. 1. 3. 2. 4. 5.]\n",
      "最优路径长度：20\n"
     ]
    }
   ],
   "source": [
    "from maysics.algo import SA\n",
    "import numpy as np\n",
    "\n",
    "a = [[0, 1, 3, 3, 5, 2],\n",
    "     [1, 0, 4, 2, 2, 3],\n",
    "     [3, 4, 0, 2, 4, 7],\n",
    "     [3, 2, 2, 0, 3, 6],\n",
    "     [3, 2, 4, 3, 0, 9],\n",
    "     [2, 3, 7, 6, 9, 0]]\n",
    "\n",
    "def f(x):\n",
    "    y = np.random.randint(1, len(x)-1, size=(2))\n",
    "    x[y[0]], x[y[1]] = x[y[1]], x[y[0]]\n",
    "    return x\n",
    "\n",
    "def select(x):\n",
    "    result = 0\n",
    "    for i in range(len(x)-1):\n",
    "        result += a[int(x[i])][int(x[i+1])]\n",
    "    result += a[int(x[-1])][int(x[0])]\n",
    "    return result\n",
    "\n",
    "sa = SA(step=f, random_state=100)\n",
    "sa.fit(select, 1000, 300, [0, 1, 2, 3, 4, 5])\n",
    "print('最优路径：{}\\n最优路径长度：{}'.format(sa.solution, sa.value))"
   ]
  },
  {
   "cell_type": "markdown",
   "metadata": {},
   "source": [
    "在实际使用过程中，由于模拟退火有一定的随机算法，因此除非定义random_state，否则每次计算结果都可能不同\n",
    "<br>可以使用fit函数中的loop参数来进行多次模拟退火，选取其中的最优解\n",
    "\n",
    "### DEMO 5-4：用循环模拟退火求解旅行商（TSP）问题"
   ]
  },
  {
   "cell_type": "code",
   "execution_count": 15,
   "metadata": {},
   "outputs": [
    {
     "name": "stdout",
     "output_type": "stream",
     "text": [
      "最优路径：[0. 1. 4. 3. 2. 5.]\n",
      "最优路径长度：15\n"
     ]
    }
   ],
   "source": [
    "from maysics.algo import SA\n",
    "import numpy as np\n",
    "\n",
    "a = [[0, 1, 3, 3, 5, 2],\n",
    "     [1, 0, 4, 2, 2, 3],\n",
    "     [3, 4, 0, 2, 4, 7],\n",
    "     [3, 2, 2, 0, 3, 6],\n",
    "     [3, 2, 4, 3, 0, 9],\n",
    "     [2, 3, 7, 6, 9, 0]]\n",
    "\n",
    "def f(x):\n",
    "    y = np.random.randint(1, len(x)-1, size=(2))\n",
    "    x[y[0]], x[y[1]] = x[y[1]], x[y[0]]\n",
    "    return x\n",
    "\n",
    "def select(x):\n",
    "    result = 0\n",
    "    for i in range(len(x)-1):\n",
    "        result += a[int(x[i])][int(x[i+1])]\n",
    "    result += a[int(x[-1])][int(x[0])]\n",
    "    return result\n",
    "\n",
    "sa = SA(step=f, random_state=100)\n",
    "sa.fit(select, 1000, 300, [0, 1, 2, 3, 4, 5], loop=100)\n",
    "print('最优路径：{}\\n最优路径长度：{}'.format(sa.solution, sa.value))"
   ]
  },
  {
   "cell_type": "markdown",
   "metadata": {},
   "source": [
    "当select函数有其他参数时，可以使用fit函数的args参数来传递"
   ]
  },
  {
   "cell_type": "markdown",
   "metadata": {},
   "source": [
    "<br></br>\n",
    "## 梯度下降算法：GD\n",
    "GD(ytol=0.01, step=0.1, acc=0.1)\n",
    "\n",
    "GD类下设```fit```方法\n",
    "<br>fit(select, initial, param={})\n",
    "<br>```select```是评估函数\n",
    "<br>```initial```是初始解，select函数的输入值\n",
    "<br>```param```：当select有其他非默认参数时，需输入以参数名为键，参数值为值的字典\n",
    "\n",
    "<br>用法类似SA\n",
    "<br>注意：默认最小值点为最优点\n",
    "### DEMO 6-1：求函数$f(x, y) = (x - 1)^{2} + (y - 1)^{2}$的最小值"
   ]
  },
  {
   "cell_type": "code",
   "execution_count": 16,
   "metadata": {},
   "outputs": [
    {
     "name": "stdout",
     "output_type": "stream",
     "text": [
      "最小值点：[1.08301035 1.08301035]\n",
      "最小值：0.01378143586029789\n"
     ]
    }
   ],
   "source": [
    "from maysics.algo import GD\n",
    "\n",
    "# 定义被优化函数\n",
    "def select(x):\n",
    "    return (x[0]-1)**2 + (x[1]-1)**2\n",
    "\n",
    "\n",
    "gd = GD()\n",
    "# 设定初始点为(10, 10)\n",
    "# 设定初始温度为100，退火温度为20\n",
    "gd.fit(select, [10, 10])\n",
    "\n",
    "print('最小值点：{}\\n最小值：{}'.format(gd.solution, gd.value))"
   ]
  },
  {
   "cell_type": "markdown",
   "metadata": {},
   "source": [
    "### DEMO 6-2：求函数$f(x, y) = (x - 1)^{2} + (y - 1)^{2}$的最小值求解轨迹"
   ]
  },
  {
   "cell_type": "code",
   "execution_count": 17,
   "metadata": {},
   "outputs": [
    {
     "data": {
      "text/plain": [
       "<matplotlib.legend.Legend at 0x201634b7ca0>"
      ]
     },
     "execution_count": 17,
     "metadata": {},
     "output_type": "execute_result"
    },
    {
     "data": {
      "image/png": "[encoded data removed]",
      "text/plain": [
       "<Figure size 432x288 with 1 Axes>"
      ]
     },
     "metadata": {
      "needs_background": "light"
     },
     "output_type": "display_data"
    }
   ],
   "source": [
    "from maysics.algo import GD\n",
    "from matplotlib import pyplot as plt\n",
    "\n",
    "# 定义被优化函数\n",
    "def select(x):\n",
    "    return (x[0]-1)**2 + (x[1]-1)**2\n",
    "\n",
    "\n",
    "gd = GD()\n",
    "# 设定初始点为(10, 10)\n",
    "# 设定初始温度为100，退火温度为20\n",
    "gd.fit(select, [10, 10])\n",
    "\n",
    "plt.plot(gd.trace[:, 0], gd.trace[:, 1])\n",
    "plt.scatter(gd.trace[0,0], gd.trace[0,1], color='red', label='begin')\n",
    "plt.scatter(gd.trace[-1,0], gd.trace[-1,1], color='green', label='end')\n",
    "plt.legend()"
   ]
  },
  {
   "cell_type": "markdown",
   "metadata": {},
   "source": [
    "当select函数有其他参数时，可以使用fit函数的args参数来传递"
   ]
  }
 ],
 "metadata": {
  "kernelspec": {
   "display_name": "Python 3",
   "language": "python",
   "name": "python3"
  },
  "language_info": {
   "codemirror_mode": {
    "name": "ipython",
    "version": 3
   },
   "file_extension": ".py",
   "mimetype": "text/x-python",
   "name": "python",
   "nbconvert_exporter": "python",
   "pygments_lexer": "ipython3",
   "version": "3.8.6"
  }
 },
 "nbformat": 4,
 "nbformat_minor": 4
}
